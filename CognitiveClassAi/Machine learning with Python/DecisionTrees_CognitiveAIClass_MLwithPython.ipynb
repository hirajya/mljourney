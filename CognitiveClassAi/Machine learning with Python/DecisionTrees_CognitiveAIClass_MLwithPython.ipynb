{
 "cells": [
  {
   "cell_type": "code",
   "execution_count": 1,
   "id": "51981d94",
   "metadata": {},
   "outputs": [],
   "source": [
    "import numpy as np\n",
    "import pandas as pd\n",
    "from sklearn.tree import DecisionTreeClassifier\n",
    "import sklearn.tree as tree"
   ]
  },
  {
   "cell_type": "markdown",
   "id": "5d94733c",
   "metadata": {},
   "source": [
    "## Reading data "
   ]
  },
  {
   "cell_type": "code",
   "execution_count": 4,
   "id": "df7b46ea",
   "metadata": {},
   "outputs": [
    {
     "data": {
      "text/html": [
       "<div>\n",
       "<style scoped>\n",
       "    .dataframe tbody tr th:only-of-type {\n",
       "        vertical-align: middle;\n",
       "    }\n",
       "\n",
       "    .dataframe tbody tr th {\n",
       "        vertical-align: top;\n",
       "    }\n",
       "\n",
       "    .dataframe thead th {\n",
       "        text-align: right;\n",
       "    }\n",
       "</style>\n",
       "<table border=\"1\" class=\"dataframe\">\n",
       "  <thead>\n",
       "    <tr style=\"text-align: right;\">\n",
       "      <th></th>\n",
       "      <th>Age</th>\n",
       "      <th>Sex</th>\n",
       "      <th>BP</th>\n",
       "      <th>Cholesterol</th>\n",
       "      <th>Na_to_K</th>\n",
       "      <th>Drug</th>\n",
       "    </tr>\n",
       "  </thead>\n",
       "  <tbody>\n",
       "    <tr>\n",
       "      <th>0</th>\n",
       "      <td>23</td>\n",
       "      <td>F</td>\n",
       "      <td>HIGH</td>\n",
       "      <td>HIGH</td>\n",
       "      <td>25.355</td>\n",
       "      <td>drugY</td>\n",
       "    </tr>\n",
       "    <tr>\n",
       "      <th>1</th>\n",
       "      <td>47</td>\n",
       "      <td>M</td>\n",
       "      <td>LOW</td>\n",
       "      <td>HIGH</td>\n",
       "      <td>13.093</td>\n",
       "      <td>drugC</td>\n",
       "    </tr>\n",
       "    <tr>\n",
       "      <th>2</th>\n",
       "      <td>47</td>\n",
       "      <td>M</td>\n",
       "      <td>LOW</td>\n",
       "      <td>HIGH</td>\n",
       "      <td>10.114</td>\n",
       "      <td>drugC</td>\n",
       "    </tr>\n",
       "    <tr>\n",
       "      <th>3</th>\n",
       "      <td>28</td>\n",
       "      <td>F</td>\n",
       "      <td>NORMAL</td>\n",
       "      <td>HIGH</td>\n",
       "      <td>7.798</td>\n",
       "      <td>drugX</td>\n",
       "    </tr>\n",
       "    <tr>\n",
       "      <th>4</th>\n",
       "      <td>61</td>\n",
       "      <td>F</td>\n",
       "      <td>LOW</td>\n",
       "      <td>HIGH</td>\n",
       "      <td>18.043</td>\n",
       "      <td>drugY</td>\n",
       "    </tr>\n",
       "  </tbody>\n",
       "</table>\n",
       "</div>"
      ],
      "text/plain": [
       "   Age Sex      BP Cholesterol  Na_to_K   Drug\n",
       "0   23   F    HIGH        HIGH   25.355  drugY\n",
       "1   47   M     LOW        HIGH   13.093  drugC\n",
       "2   47   M     LOW        HIGH   10.114  drugC\n",
       "3   28   F  NORMAL        HIGH    7.798  drugX\n",
       "4   61   F     LOW        HIGH   18.043  drugY"
      ]
     },
     "execution_count": 4,
     "metadata": {},
     "output_type": "execute_result"
    }
   ],
   "source": [
    "df = pd.read_csv('drug200.csv')\n",
    "df.head()"
   ]
  },
  {
   "cell_type": "markdown",
   "id": "0d00cadb",
   "metadata": {},
   "source": [
    "## Pre-processing"
   ]
  },
  {
   "cell_type": "code",
   "execution_count": 14,
   "id": "b8053121",
   "metadata": {},
   "outputs": [
    {
     "data": {
      "text/plain": [
       "array([[23, 'F', 'HIGH', 'HIGH', 25.355],\n",
       "       [47, 'M', 'LOW', 'HIGH', 13.093],\n",
       "       [47, 'M', 'LOW', 'HIGH', 10.114],\n",
       "       [28, 'F', 'NORMAL', 'HIGH', 7.798],\n",
       "       [61, 'F', 'LOW', 'HIGH', 18.043]], dtype=object)"
      ]
     },
     "execution_count": 14,
     "metadata": {},
     "output_type": "execute_result"
    }
   ],
   "source": [
    "# Remove the column containing the target name since it doesn't contain numeric values\n",
    "\n",
    "X = df[['Age', 'Sex', 'BP', 'Cholesterol', 'Na_to_K']].values\n",
    "X[0:5]"
   ]
  },
  {
   "cell_type": "code",
   "execution_count": 15,
   "id": "5ff70e3d",
   "metadata": {},
   "outputs": [],
   "source": [
    "# Sklearn Decision Trees does not handle categorical variables. Convert these features to numerical values using pandas.get_dummies()\n",
    "# making it to dummies\n",
    "\n",
    "from sklearn import preprocessing \n",
    "le_sex = preprocessing.LabelEncoder()\n",
    "le_sex.fit(['F', 'M'])\n",
    "X[:,1] = le_sex.transform(X[:,1])\n",
    "\n",
    "le_bp = preprocessing.LabelEncoder()\n",
    "le_bp.fit(['LOW', 'NORMAL', 'HIGH'])\n",
    "X[:,2] = le_bp.transform(X[:,2])\n",
    "\n",
    "le_chol = preprocessing.LabelEncoder()\n",
    "le_chol.fit(['NORMAL', 'HIGH'])\n",
    "X[:,3] = le_chol.transform(X[:,3])\n",
    "\n"
   ]
  },
  {
   "cell_type": "code",
   "execution_count": 21,
   "id": "c67885f2",
   "metadata": {},
   "outputs": [
    {
     "name": "stdout",
     "output_type": "stream",
     "text": [
      "[0 1 1 0 0 0 0 1 1 1 0 0 1 0 0 0 1 1 1 0 1 1 1 0 0 0 1 0 0 1 0 1 1 0 1 1 1\n",
      " 1 0 1 0 0 1 1 0 0 0 1 1 0 0 1 1 0 0 0 1 1 1 1 0 1 1 1 0 0 1 1 1 0 1 0 0 0\n",
      " 1 1 0 0 0 0 1 1 0 0 0 1 0 1 0 0 1 1 0 0 1 1 0 0 1 0 1 0 0 1 1 1 1 1 1 1 1\n",
      " 0 1 0 0 1 1 0 0 0 1 1 1 0 0 0 1 1 1 0 0 1 1 1 0 1 0 0 1 0 1 0 1 1 1 1 0 0\n",
      " 0 1 1 1 1 0 1 1 1 1 0 0 0 0 1 0 1 1 0 0 0 0 0 1 0 0 1 0 1 1 1 0 0 0 0 0 0\n",
      " 0 1 1 1 1 1 1 1 1 0 0 1 1 1 0]\n",
      "[0 1 1 2 1 2 2 1 2 1 1 0 1 1 2 0 1 0 1 0 1 2 1 1 1 0 0 2 1 1 2 0 1 0 2 2 0\n",
      " 1 2 2 2 0 2 2 2 2 0 1 2 1 0 2 1 0 0 1 0 0 2 0 1 0 1 1 0 2 0 2 2 0 0 2 2 2\n",
      " 0 1 0 0 0 1 0 2 1 0 1 0 2 1 0 2 2 0 0 1 1 1 1 0 0 0 0 0 1 2 0 1 2 1 0 2 0\n",
      " 2 1 1 2 0 2 2 0 0 2 0 2 2 0 0 0 2 1 2 2 1 1 2 0 1 0 0 0 2 0 1 0 0 0 2 1 0\n",
      " 1 1 0 0 2 1 1 1 0 1 1 1 2 0 2 0 0 1 1 2 1 0 2 1 2 1 0 0 0 2 2 2 0 2 1 0 0\n",
      " 2 0 0 0 0 0 0 1 1 0 1 1 2 2 1]\n",
      "[0 0 0 0 0 0 0 0 0 1 0 1 0 0 0 1 1 0 0 1 1 0 1 0 0 1 0 1 1 0 1 0 1 1 0 1 1\n",
      " 1 1 0 0 1 1 0 1 1 0 0 0 0 0 1 1 1 1 0 1 0 1 0 1 1 1 1 0 1 0 1 0 1 0 0 0 1\n",
      " 1 1 0 1 0 1 0 0 0 1 0 0 0 0 1 1 0 1 0 1 0 1 0 0 1 1 1 0 0 0 1 1 0 0 1 0 0\n",
      " 1 1 1 1 0 1 0 1 0 0 1 0 0 1 1 0 1 1 0 0 1 1 0 0 1 0 0 1 0 1 1 1 1 0 0 1 1\n",
      " 1 0 1 0 1 1 1 0 1 0 0 1 0 1 1 1 1 0 0 0 1 0 0 1 1 1 1 0 1 0 0 0 1 0 1 1 0\n",
      " 1 0 0 1 1 0 0 0 0 0 0 0 0 1 1]\n"
     ]
    }
   ],
   "source": [
    "print(X[:,1]) # sex\n",
    "print(X[:,2]) # bp\n",
    "print(X[:,3]) # chol"
   ]
  },
  {
   "cell_type": "code",
   "execution_count": 22,
   "id": "d6c7c4ca",
   "metadata": {},
   "outputs": [
    {
     "data": {
      "text/plain": [
       "array([[23, 0, 0, 0, 25.355],\n",
       "       [47, 1, 1, 0, 13.093],\n",
       "       [47, 1, 1, 0, 10.114],\n",
       "       [28, 0, 2, 0, 7.798],\n",
       "       [61, 0, 1, 0, 18.043],\n",
       "       [22, 0, 2, 0, 8.607],\n",
       "       [49, 0, 2, 0, 16.275],\n",
       "       [41, 1, 1, 0, 11.037],\n",
       "       [60, 1, 2, 0, 15.171],\n",
       "       [43, 1, 1, 1, 19.368],\n",
       "       [47, 0, 1, 0, 11.767],\n",
       "       [34, 0, 0, 1, 19.199],\n",
       "       [43, 1, 1, 0, 15.376],\n",
       "       [74, 0, 1, 0, 20.942],\n",
       "       [50, 0, 2, 0, 12.703],\n",
       "       [16, 0, 0, 1, 15.516],\n",
       "       [69, 1, 1, 1, 11.455],\n",
       "       [43, 1, 0, 0, 13.972],\n",
       "       [23, 1, 1, 0, 7.298],\n",
       "       [32, 0, 0, 1, 25.974],\n",
       "       [57, 1, 1, 1, 19.128],\n",
       "       [63, 1, 2, 0, 25.917],\n",
       "       [47, 1, 1, 1, 30.568],\n",
       "       [48, 0, 1, 0, 15.036],\n",
       "       [33, 0, 1, 0, 33.486],\n",
       "       [28, 0, 0, 1, 18.809],\n",
       "       [31, 1, 0, 0, 30.366],\n",
       "       [49, 0, 2, 1, 9.381],\n",
       "       [39, 0, 1, 1, 22.697],\n",
       "       [45, 1, 1, 0, 17.951],\n",
       "       [18, 0, 2, 1, 8.75],\n",
       "       [74, 1, 0, 0, 9.567],\n",
       "       [49, 1, 1, 1, 11.014],\n",
       "       [65, 0, 0, 1, 31.876],\n",
       "       [53, 1, 2, 0, 14.133],\n",
       "       [46, 1, 2, 1, 7.285],\n",
       "       [32, 1, 0, 1, 9.445],\n",
       "       [39, 1, 1, 1, 13.938],\n",
       "       [39, 0, 2, 1, 9.709],\n",
       "       [15, 1, 2, 0, 9.084],\n",
       "       [73, 0, 2, 0, 19.221],\n",
       "       [58, 0, 0, 1, 14.239],\n",
       "       [50, 1, 2, 1, 15.79],\n",
       "       [23, 1, 2, 0, 12.26],\n",
       "       [50, 0, 2, 1, 12.295],\n",
       "       [66, 0, 2, 1, 8.107],\n",
       "       [37, 0, 0, 0, 13.091],\n",
       "       [68, 1, 1, 0, 10.291],\n",
       "       [23, 1, 2, 0, 31.686],\n",
       "       [28, 0, 1, 0, 19.796],\n",
       "       [58, 0, 0, 0, 19.416],\n",
       "       [67, 1, 2, 1, 10.898],\n",
       "       [62, 1, 1, 1, 27.183],\n",
       "       [24, 0, 0, 1, 18.457],\n",
       "       [68, 0, 0, 1, 10.189],\n",
       "       [26, 0, 1, 0, 14.16],\n",
       "       [65, 1, 0, 1, 11.34],\n",
       "       [40, 1, 0, 0, 27.826],\n",
       "       [60, 1, 2, 1, 10.091],\n",
       "       [34, 1, 0, 0, 18.703],\n",
       "       [38, 0, 1, 1, 29.875],\n",
       "       [24, 1, 0, 1, 9.475],\n",
       "       [67, 1, 1, 1, 20.693],\n",
       "       [45, 1, 1, 1, 8.37],\n",
       "       [60, 0, 0, 0, 13.303],\n",
       "       [68, 0, 2, 1, 27.05],\n",
       "       [29, 1, 0, 0, 12.856],\n",
       "       [17, 1, 2, 1, 10.832],\n",
       "       [54, 1, 2, 0, 24.658],\n",
       "       [18, 0, 0, 1, 24.276],\n",
       "       [70, 1, 0, 0, 13.967],\n",
       "       [28, 0, 2, 0, 19.675],\n",
       "       [24, 0, 2, 0, 10.605],\n",
       "       [41, 0, 2, 1, 22.905],\n",
       "       [31, 1, 0, 1, 17.069],\n",
       "       [26, 1, 1, 1, 20.909],\n",
       "       [36, 0, 0, 0, 11.198],\n",
       "       [26, 0, 0, 1, 19.161],\n",
       "       [19, 0, 0, 0, 13.313],\n",
       "       [32, 0, 1, 1, 10.84],\n",
       "       [60, 1, 0, 0, 13.934],\n",
       "       [64, 1, 2, 0, 7.761],\n",
       "       [32, 0, 1, 0, 9.712],\n",
       "       [38, 0, 0, 1, 11.326],\n",
       "       [47, 0, 1, 0, 10.067],\n",
       "       [59, 1, 0, 0, 13.935],\n",
       "       [51, 0, 2, 0, 13.597],\n",
       "       [69, 1, 1, 0, 15.478],\n",
       "       [37, 0, 0, 1, 23.091],\n",
       "       [50, 0, 2, 1, 17.211],\n",
       "       [62, 1, 2, 0, 16.594],\n",
       "       [41, 1, 0, 1, 15.156],\n",
       "       [29, 0, 0, 0, 29.45],\n",
       "       [42, 0, 1, 1, 29.271],\n",
       "       [56, 1, 1, 0, 15.015],\n",
       "       [36, 1, 1, 1, 11.424],\n",
       "       [58, 0, 1, 0, 38.247],\n",
       "       [56, 0, 0, 0, 25.395],\n",
       "       [20, 1, 0, 1, 35.639],\n",
       "       [15, 0, 0, 1, 16.725],\n",
       "       [31, 1, 0, 1, 11.871],\n",
       "       [45, 0, 0, 0, 12.854],\n",
       "       [28, 0, 1, 0, 13.127],\n",
       "       [56, 1, 2, 0, 8.966],\n",
       "       [22, 1, 0, 1, 28.294],\n",
       "       [37, 1, 1, 1, 8.968],\n",
       "       [22, 1, 2, 0, 11.953],\n",
       "       [42, 1, 1, 0, 20.013],\n",
       "       [72, 1, 0, 1, 9.677],\n",
       "       [23, 1, 2, 0, 16.85],\n",
       "       [50, 1, 0, 0, 7.49],\n",
       "       [47, 0, 2, 1, 6.683],\n",
       "       [35, 1, 1, 1, 9.17],\n",
       "       [65, 0, 1, 1, 13.769],\n",
       "       [20, 0, 2, 1, 9.281],\n",
       "       [51, 1, 0, 0, 18.295],\n",
       "       [67, 1, 2, 1, 9.514],\n",
       "       [40, 0, 2, 0, 10.103],\n",
       "       [32, 0, 0, 1, 10.292],\n",
       "       [61, 0, 0, 0, 25.475],\n",
       "       [28, 1, 2, 0, 27.064],\n",
       "       [15, 1, 0, 1, 17.206],\n",
       "       [34, 1, 2, 0, 22.456],\n",
       "       [36, 0, 2, 0, 16.753],\n",
       "       [53, 0, 0, 1, 12.495],\n",
       "       [19, 0, 0, 1, 25.969],\n",
       "       [66, 1, 0, 0, 16.347],\n",
       "       [35, 1, 2, 1, 7.845],\n",
       "       [47, 1, 1, 1, 33.542],\n",
       "       [32, 0, 2, 0, 7.477],\n",
       "       [70, 0, 2, 0, 20.489],\n",
       "       [52, 1, 1, 1, 32.922],\n",
       "       [49, 1, 1, 1, 13.598],\n",
       "       [24, 1, 2, 0, 25.786],\n",
       "       [42, 0, 0, 0, 21.036],\n",
       "       [74, 1, 1, 1, 11.939],\n",
       "       [55, 0, 0, 0, 10.977],\n",
       "       [35, 0, 0, 0, 12.894],\n",
       "       [51, 1, 0, 1, 11.343],\n",
       "       [69, 0, 2, 0, 10.065],\n",
       "       [49, 1, 0, 1, 6.269],\n",
       "       [64, 0, 1, 1, 25.741],\n",
       "       [60, 1, 0, 1, 8.621],\n",
       "       [74, 1, 0, 1, 15.436],\n",
       "       [39, 1, 0, 0, 9.664],\n",
       "       [61, 1, 2, 0, 9.443],\n",
       "       [37, 0, 1, 1, 12.006],\n",
       "       [26, 0, 0, 1, 12.307],\n",
       "       [61, 0, 1, 1, 7.34],\n",
       "       [22, 1, 1, 0, 8.151],\n",
       "       [49, 1, 0, 1, 8.7],\n",
       "       [68, 1, 0, 0, 11.009],\n",
       "       [55, 1, 2, 1, 7.261],\n",
       "       [72, 0, 1, 1, 14.642],\n",
       "       [37, 1, 1, 1, 16.724],\n",
       "       [49, 1, 1, 0, 10.537],\n",
       "       [31, 1, 0, 1, 11.227],\n",
       "       [53, 1, 1, 0, 22.963],\n",
       "       [59, 0, 1, 0, 10.444],\n",
       "       [34, 0, 1, 1, 12.923],\n",
       "       [30, 0, 2, 0, 10.443],\n",
       "       [57, 0, 0, 1, 9.945],\n",
       "       [43, 1, 2, 1, 12.859],\n",
       "       [21, 0, 0, 1, 28.632],\n",
       "       [16, 1, 0, 1, 19.007],\n",
       "       [38, 1, 1, 0, 18.295],\n",
       "       [58, 0, 1, 0, 26.645],\n",
       "       [57, 0, 2, 0, 14.216],\n",
       "       [51, 0, 1, 1, 23.003],\n",
       "       [20, 0, 0, 0, 11.262],\n",
       "       [28, 0, 2, 0, 12.879],\n",
       "       [45, 1, 1, 1, 10.017],\n",
       "       [39, 0, 2, 1, 17.225],\n",
       "       [41, 0, 1, 1, 18.739],\n",
       "       [42, 1, 0, 1, 12.766],\n",
       "       [73, 0, 0, 0, 18.348],\n",
       "       [48, 1, 0, 1, 10.446],\n",
       "       [25, 1, 2, 0, 19.011],\n",
       "       [39, 1, 2, 0, 15.969],\n",
       "       [67, 0, 2, 0, 15.891],\n",
       "       [22, 0, 0, 1, 22.818],\n",
       "       [59, 0, 2, 0, 13.884],\n",
       "       [20, 0, 1, 1, 11.686],\n",
       "       [36, 0, 0, 1, 15.49],\n",
       "       [18, 0, 0, 0, 37.188],\n",
       "       [57, 0, 2, 1, 25.893],\n",
       "       [70, 1, 0, 0, 9.849],\n",
       "       [47, 1, 0, 0, 10.403],\n",
       "       [65, 1, 0, 1, 34.997],\n",
       "       [64, 1, 0, 1, 20.932],\n",
       "       [58, 1, 0, 0, 18.991],\n",
       "       [23, 1, 0, 0, 8.011],\n",
       "       [72, 1, 1, 0, 16.31],\n",
       "       [72, 1, 1, 0, 6.769],\n",
       "       [46, 0, 0, 0, 34.686],\n",
       "       [56, 0, 1, 0, 11.567],\n",
       "       [16, 1, 1, 0, 12.006],\n",
       "       [52, 1, 2, 0, 9.894],\n",
       "       [23, 1, 2, 1, 14.02],\n",
       "       [40, 0, 1, 1, 11.349]], dtype=object)"
      ]
     },
     "execution_count": 22,
     "metadata": {},
     "output_type": "execute_result"
    }
   ],
   "source": [
    "X"
   ]
  },
  {
   "cell_type": "code",
   "execution_count": 23,
   "id": "f7fad0a1",
   "metadata": {},
   "outputs": [
    {
     "data": {
      "text/plain": [
       "0    drugY\n",
       "1    drugC\n",
       "2    drugC\n",
       "3    drugX\n",
       "4    drugY\n",
       "Name: Drug, dtype: object"
      ]
     },
     "execution_count": 23,
     "metadata": {},
     "output_type": "execute_result"
    }
   ],
   "source": [
    "# fill the target variable\n",
    "\n",
    "y = df['Drug']\n",
    "y[0:5]"
   ]
  },
  {
   "cell_type": "markdown",
   "id": "d019c674",
   "metadata": {},
   "source": [
    "## Setting up the Decision Tree"
   ]
  },
  {
   "cell_type": "code",
   "execution_count": 26,
   "id": "c19af4e4",
   "metadata": {},
   "outputs": [],
   "source": [
    "from sklearn.model_selection import train_test_split\n",
    "\n",
    "X_trainset, X_testset, y_trainset, y_testset = train_test_split(X, y, test_size=0.3, random_state=3)"
   ]
  },
  {
   "cell_type": "code",
   "execution_count": 29,
   "id": "2e7de532",
   "metadata": {},
   "outputs": [
    {
     "name": "stdout",
     "output_type": "stream",
     "text": [
      "[[26 0 0 1 19.161]\n",
      " [41 0 2 1 22.905]\n",
      " [28 0 2 0 19.675]\n",
      " [19 0 0 0 13.313]\n",
      " [50 1 2 1 15.79]\n",
      " [24 1 2 0 25.786]\n",
      " [72 1 1 0 16.31]\n",
      " [74 0 1 0 20.942]\n",
      " [37 0 1 1 12.006]\n",
      " [31 1 0 1 17.069]\n",
      " [22 0 2 0 8.607]\n",
      " [20 0 2 1 9.281]\n",
      " [28 0 1 0 13.127]\n",
      " [59 0 2 0 13.884]\n",
      " [15 1 0 1 17.206]\n",
      " [51 0 1 1 23.003]\n",
      " [45 1 1 1 10.017]\n",
      " [33 0 1 0 33.486]\n",
      " [39 1 0 0 9.664]\n",
      " [29 0 0 0 29.45]\n",
      " [60 1 2 0 15.171]\n",
      " [24 0 0 1 18.457]\n",
      " [49 0 2 1 9.381]\n",
      " [37 1 1 1 8.968]\n",
      " [32 0 0 1 10.292]\n",
      " [21 0 0 1 28.632]\n",
      " [23 1 2 0 12.26]\n",
      " [40 1 0 0 27.826]\n",
      " [38 1 1 0 18.295]\n",
      " [47 1 1 1 30.568]\n",
      " [22 0 0 1 22.818]\n",
      " [47 1 0 0 10.403]\n",
      " [30 0 2 0 10.443]\n",
      " [69 1 1 0 15.478]\n",
      " [42 0 0 0 21.036]\n",
      " [45 1 1 1 8.37]\n",
      " [49 1 0 1 6.269]\n",
      " [72 1 1 0 6.769]\n",
      " [74 1 1 1 11.939]\n",
      " [66 0 2 1 8.107]\n",
      " [46 1 2 1 7.285]\n",
      " [68 0 2 1 27.05]\n",
      " [58 0 0 0 19.416]\n",
      " [19 0 0 1 25.969]\n",
      " [20 1 0 1 35.639]\n",
      " [69 1 1 1 11.455]\n",
      " [32 0 0 1 25.974]\n",
      " [72 1 0 1 9.677]\n",
      " [50 0 2 1 12.295]\n",
      " [54 1 2 0 24.658]\n",
      " [36 0 0 0 11.198]\n",
      " [64 0 1 1 25.741]\n",
      " [35 1 1 1 9.17]\n",
      " [47 0 1 0 11.767]\n",
      " [47 0 1 0 10.067]\n",
      " [34 0 0 1 19.199]\n",
      " [26 0 1 0 14.16]\n",
      " [37 0 0 1 23.091]\n",
      " [48 1 0 1 10.446]\n",
      " [47 0 2 1 6.683]\n",
      " [55 0 0 0 10.977]\n",
      " [43 1 1 1 19.368]\n",
      " [35 0 0 0 12.894]\n",
      " [49 1 1 1 11.014]\n",
      " [45 1 1 0 17.951]\n",
      " [15 1 2 0 9.084]\n",
      " [57 0 2 1 25.893]\n",
      " [65 1 0 1 11.34]\n",
      " [70 1 0 0 9.849]\n",
      " [46 0 0 0 34.686]\n",
      " [41 1 0 1 15.156]\n",
      " [34 1 0 0 18.703]\n",
      " [42 1 0 1 12.766]\n",
      " [32 1 0 1 9.445]\n",
      " [25 1 2 0 19.011]\n",
      " [62 1 1 1 27.183]\n",
      " [23 1 0 0 8.011]\n",
      " [23 1 2 0 31.686]\n",
      " [58 0 1 0 38.247]\n",
      " [26 1 1 1 20.909]\n",
      " [68 1 0 0 11.009]\n",
      " [60 1 0 0 13.934]\n",
      " [15 0 0 1 16.725]\n",
      " [53 0 0 1 12.495]\n",
      " [37 1 1 1 16.724]\n",
      " [40 0 2 0 10.103]\n",
      " [59 1 0 0 13.935]\n",
      " [47 1 1 0 13.093]\n",
      " [65 0 1 1 13.769]\n",
      " [16 1 0 1 19.007]\n",
      " [67 1 2 1 9.514]\n",
      " [23 1 1 0 7.298]\n",
      " [56 0 1 0 11.567]\n",
      " [68 0 0 1 10.189]\n",
      " [65 1 0 1 34.997]\n",
      " [39 0 1 1 22.697]\n",
      " [35 1 2 1 7.845]\n",
      " [64 1 0 1 20.932]\n",
      " [28 0 1 0 19.796]\n",
      " [56 1 1 0 15.015]\n",
      " [57 1 1 1 19.128]\n",
      " [39 1 1 1 13.938]\n",
      " [32 0 1 1 10.84]\n",
      " [36 0 2 0 16.753]\n",
      " [65 0 0 1 31.876]\n",
      " [41 1 1 0 11.037]\n",
      " [67 1 1 1 20.693]\n",
      " [23 1 2 1 14.02]\n",
      " [40 0 1 1 11.349]\n",
      " [53 1 1 0 22.963]\n",
      " [56 0 0 0 25.395]\n",
      " [50 1 0 0 7.49]\n",
      " [22 1 0 1 28.294]\n",
      " [18 0 0 1 24.276]\n",
      " [62 1 2 0 16.594]\n",
      " [32 0 2 0 7.477]\n",
      " [38 0 1 1 29.875]\n",
      " [47 1 1 0 10.114]\n",
      " [29 1 0 0 12.856]\n",
      " [49 1 0 1 8.7]\n",
      " [64 1 2 0 7.761]\n",
      " [31 1 0 0 30.366]\n",
      " [60 1 0 1 8.621]\n",
      " [57 0 2 0 14.216]\n",
      " [42 0 1 1 29.271]\n",
      " [39 0 2 1 17.225]\n",
      " [61 0 1 1 7.34]\n",
      " [58 0 1 0 26.645]\n",
      " [61 0 0 0 25.475]\n",
      " [22 1 1 0 8.151]\n",
      " [51 1 0 1 11.343]\n",
      " [20 0 0 0 11.262]\n",
      " [42 1 1 0 20.013]\n",
      " [26 0 0 1 12.307]\n",
      " [63 1 2 0 25.917]\n",
      " [23 0 0 0 25.355]\n",
      " [18 0 0 0 37.188]\n",
      " [52 1 1 1 32.922]\n",
      " [55 1 2 1 7.261]\n",
      " [22 1 2 0 11.953]]\n",
      "\n",
      "X_trainset size is (140, 5)\n"
     ]
    }
   ],
   "source": [
    "print(X_trainset)\n",
    "print(f'\\nX_trainset size is {X_trainset.shape}')"
   ]
  },
  {
   "cell_type": "code",
   "execution_count": 30,
   "id": "0d3bb82c",
   "metadata": {},
   "outputs": [
    {
     "name": "stdout",
     "output_type": "stream",
     "text": [
      "77     drugY\n",
      "73     drugY\n",
      "71     drugY\n",
      "78     drugA\n",
      "42     drugY\n",
      "       ...  \n",
      "0      drugY\n",
      "184    drugY\n",
      "131    drugY\n",
      "152    drugX\n",
      "106    drugX\n",
      "Name: Drug, Length: 140, dtype: object\n",
      "\n",
      "y_trainset size is (140,)\n"
     ]
    }
   ],
   "source": [
    "print(y_trainset)\n",
    "print(f'\\ny_trainset size is {y_trainset.shape}')"
   ]
  },
  {
   "cell_type": "code",
   "execution_count": 31,
   "id": "711728bc",
   "metadata": {},
   "outputs": [
    {
     "name": "stdout",
     "output_type": "stream",
     "text": [
      "Shape of X test set (60, 5) &  Size of Y test set (60,)\n"
     ]
    }
   ],
   "source": [
    "print('Shape of X test set {}'.format(X_testset.shape),'&',' Size of Y test set {}'.format(y_testset.shape))"
   ]
  },
  {
   "cell_type": "markdown",
   "id": "d495ef18",
   "metadata": {},
   "source": [
    "## Modeling"
   ]
  },
  {
   "cell_type": "code",
   "execution_count": 32,
   "id": "b9224c45",
   "metadata": {},
   "outputs": [
    {
     "data": {
      "text/plain": [
       "DecisionTreeClassifier(criterion='entropy', max_depth=4)"
      ]
     },
     "execution_count": 32,
     "metadata": {},
     "output_type": "execute_result"
    }
   ],
   "source": [
    "drugTree = DecisionTreeClassifier(criterion=\"entropy\", max_depth = 4)\n",
    "drugTree"
   ]
  },
  {
   "cell_type": "code",
   "execution_count": 34,
   "id": "96acdd44",
   "metadata": {},
   "outputs": [
    {
     "data": {
      "text/plain": [
       "DecisionTreeClassifier(criterion='entropy', max_depth=4)"
      ]
     },
     "execution_count": 34,
     "metadata": {},
     "output_type": "execute_result"
    }
   ],
   "source": [
    "drugTree.fit(X_trainset, y_trainset)"
   ]
  },
  {
   "cell_type": "markdown",
   "id": "a1d6fe98",
   "metadata": {},
   "source": [
    "## Prediction"
   ]
  },
  {
   "cell_type": "code",
   "execution_count": 35,
   "id": "86a9c30e",
   "metadata": {},
   "outputs": [],
   "source": [
    "predTree = drugTree.predict(X_testset)"
   ]
  },
  {
   "cell_type": "code",
   "execution_count": 36,
   "id": "3ecf1ecc",
   "metadata": {},
   "outputs": [
    {
     "name": "stdout",
     "output_type": "stream",
     "text": [
      "['drugY' 'drugX' 'drugX' 'drugX' 'drugX']\n",
      "40     drugY\n",
      "51     drugX\n",
      "139    drugX\n",
      "197    drugX\n",
      "170    drugX\n",
      "Name: Drug, dtype: object\n"
     ]
    }
   ],
   "source": [
    "print(predTree[0:5])\n",
    "print(y_testset[0:5])"
   ]
  },
  {
   "cell_type": "markdown",
   "id": "0872891f",
   "metadata": {},
   "source": [
    "## Evaluation"
   ]
  },
  {
   "cell_type": "code",
   "execution_count": 37,
   "id": "09315f11",
   "metadata": {},
   "outputs": [
    {
     "name": "stdout",
     "output_type": "stream",
     "text": [
      "DecisionTrees's Accuracy:  0.9833333333333333\n"
     ]
    }
   ],
   "source": [
    "from sklearn import metrics\n",
    "import matplotlib.pyplot as plt\n",
    "\n",
    "print(\"DecisionTrees's Accuracy: \", metrics.accuracy_score(y_testset, predTree))"
   ]
  },
  {
   "cell_type": "code",
   "execution_count": 42,
   "id": "b75de662",
   "metadata": {},
   "outputs": [
    {
     "name": "stdout",
     "output_type": "stream",
     "text": [
      "Collecting package metadata (current_repodata.json): ...working... done\n",
      "Solving environment: ...working... done\n",
      "\n",
      "# All requested packages already installed.\n",
      "\n",
      "Retrieving notices: ...working... done\n"
     ]
    },
    {
     "name": "stderr",
     "output_type": "stream",
     "text": [
      "\n",
      "\n",
      "==> WARNING: A newer version of conda exists. <==\n",
      "  current version: 22.9.0\n",
      "  latest version: 23.3.1\n",
      "\n",
      "Please update conda by running\n",
      "\n",
      "    $ conda update -n base -c defaults conda\n",
      "\n",
      "\n"
     ]
    },
    {
     "name": "stdout",
     "output_type": "stream",
     "text": [
      "Collecting package metadata (current_repodata.json): ...working... done\n",
      "Solving environment: ...working... done\n",
      "\n",
      "# All requested packages already installed.\n",
      "\n",
      "Retrieving notices: ...working... done\n"
     ]
    },
    {
     "name": "stderr",
     "output_type": "stream",
     "text": [
      "\n",
      "\n",
      "==> WARNING: A newer version of conda exists. <==\n",
      "  current version: 22.9.0\n",
      "  latest version: 23.3.1\n",
      "\n",
      "Please update conda by running\n",
      "\n",
      "    $ conda update -n base -c defaults conda\n",
      "\n",
      "\n"
     ]
    }
   ],
   "source": [
    "#!conda install -c conda-forge pydotplus -y\n",
    "#!conda install -c conda-forge python-graphviz -y"
   ]
  },
  {
   "cell_type": "code",
   "execution_count": 45,
   "id": "b10268a6",
   "metadata": {},
   "outputs": [
    {
     "data": {
      "image/png": "[encoded data removed]",
      "text/plain": [
       "<Figure size 1440x720 with 1 Axes>"
      ]
     },
     "metadata": {
      "needs_background": "light"
     },
     "output_type": "display_data"
    }
   ],
   "source": [
    "fig, axes = plt.subplots(figsize=(20, 10))\n",
    "tree.plot_tree(drugTree, ax=axes)\n",
    "plt.show()"
   ]
  },
  {
   "cell_type": "code",
   "execution_count": null,
   "id": "a162f30f",
   "metadata": {},
   "outputs": [],
   "source": []
  }
 ],
 "metadata": {
  "kernelspec": {
   "display_name": "Python 3 (ipykernel)",
   "language": "python",
   "name": "python3"
  },
  "language_info": {
   "codemirror_mode": {
    "name": "ipython",
    "version": 3
   },
   "file_extension": ".py",
   "mimetype": "text/x-python",
   "name": "python",
   "nbconvert_exporter": "python",
   "pygments_lexer": "ipython3",
   "version": "3.9.12"
  }
 },
 "nbformat": 4,
 "nbformat_minor": 5
}
