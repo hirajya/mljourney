{
  "nbformat": 4,
  "nbformat_minor": 0,
  "metadata": {
    "colab": {
      "provenance": []
    },
    "kernelspec": {
      "name": "python3",
      "display_name": "Python 3"
    },
    "language_info": {
      "name": "python"
    }
  },
  "cells": [
    {
      "cell_type": "markdown",
      "source": [
        "## Logistic Regression with TensorFlow"
      ],
      "metadata": {
        "id": "2zapYmQ11FSJ"
      }
    },
    {
      "cell_type": "code",
      "execution_count": 105,
      "metadata": {
        "id": "cdPa03Fb8xuB"
      },
      "outputs": [],
      "source": [
        "import tensorflow as tf\n",
        "import pandas as pd\n",
        "import numpy as np\n",
        "import time\n",
        "from sklearn.datasets import load_iris\n",
        "from sklearn.model_selection import train_test_split\n",
        "import matplotlib.pyplot as plt"
      ]
    },
    {
      "cell_type": "code",
      "source": [
        "iris = load_iris()\n",
        "iris"
      ],
      "metadata": {
        "colab": {
          "base_uri": "https://localhost:8080/"
        },
        "id": "YkJQ4f9-1dpk",
        "outputId": "02440104-bb6e-4935-a56f-120b57256669"
      },
      "execution_count": 106,
      "outputs": [
        {
          "output_type": "execute_result",
          "data": {
            "text/plain": [
              "{'data': array([[5.1, 3.5, 1.4, 0.2],\n",
              "        [4.9, 3. , 1.4, 0.2],\n",
              "        [4.7, 3.2, 1.3, 0.2],\n",
              "        [4.6, 3.1, 1.5, 0.2],\n",
              "        [5. , 3.6, 1.4, 0.2],\n",
              "        [5.4, 3.9, 1.7, 0.4],\n",
              "        [4.6, 3.4, 1.4, 0.3],\n",
              "        [5. , 3.4, 1.5, 0.2],\n",
              "        [4.4, 2.9, 1.4, 0.2],\n",
              "        [4.9, 3.1, 1.5, 0.1],\n",
              "        [5.4, 3.7, 1.5, 0.2],\n",
              "        [4.8, 3.4, 1.6, 0.2],\n",
              "        [4.8, 3. , 1.4, 0.1],\n",
              "        [4.3, 3. , 1.1, 0.1],\n",
              "        [5.8, 4. , 1.2, 0.2],\n",
              "        [5.7, 4.4, 1.5, 0.4],\n",
              "        [5.4, 3.9, 1.3, 0.4],\n",
              "        [5.1, 3.5, 1.4, 0.3],\n",
              "        [5.7, 3.8, 1.7, 0.3],\n",
              "        [5.1, 3.8, 1.5, 0.3],\n",
              "        [5.4, 3.4, 1.7, 0.2],\n",
              "        [5.1, 3.7, 1.5, 0.4],\n",
              "        [4.6, 3.6, 1. , 0.2],\n",
              "        [5.1, 3.3, 1.7, 0.5],\n",
              "        [4.8, 3.4, 1.9, 0.2],\n",
              "        [5. , 3. , 1.6, 0.2],\n",
              "        [5. , 3.4, 1.6, 0.4],\n",
              "        [5.2, 3.5, 1.5, 0.2],\n",
              "        [5.2, 3.4, 1.4, 0.2],\n",
              "        [4.7, 3.2, 1.6, 0.2],\n",
              "        [4.8, 3.1, 1.6, 0.2],\n",
              "        [5.4, 3.4, 1.5, 0.4],\n",
              "        [5.2, 4.1, 1.5, 0.1],\n",
              "        [5.5, 4.2, 1.4, 0.2],\n",
              "        [4.9, 3.1, 1.5, 0.2],\n",
              "        [5. , 3.2, 1.2, 0.2],\n",
              "        [5.5, 3.5, 1.3, 0.2],\n",
              "        [4.9, 3.6, 1.4, 0.1],\n",
              "        [4.4, 3. , 1.3, 0.2],\n",
              "        [5.1, 3.4, 1.5, 0.2],\n",
              "        [5. , 3.5, 1.3, 0.3],\n",
              "        [4.5, 2.3, 1.3, 0.3],\n",
              "        [4.4, 3.2, 1.3, 0.2],\n",
              "        [5. , 3.5, 1.6, 0.6],\n",
              "        [5.1, 3.8, 1.9, 0.4],\n",
              "        [4.8, 3. , 1.4, 0.3],\n",
              "        [5.1, 3.8, 1.6, 0.2],\n",
              "        [4.6, 3.2, 1.4, 0.2],\n",
              "        [5.3, 3.7, 1.5, 0.2],\n",
              "        [5. , 3.3, 1.4, 0.2],\n",
              "        [7. , 3.2, 4.7, 1.4],\n",
              "        [6.4, 3.2, 4.5, 1.5],\n",
              "        [6.9, 3.1, 4.9, 1.5],\n",
              "        [5.5, 2.3, 4. , 1.3],\n",
              "        [6.5, 2.8, 4.6, 1.5],\n",
              "        [5.7, 2.8, 4.5, 1.3],\n",
              "        [6.3, 3.3, 4.7, 1.6],\n",
              "        [4.9, 2.4, 3.3, 1. ],\n",
              "        [6.6, 2.9, 4.6, 1.3],\n",
              "        [5.2, 2.7, 3.9, 1.4],\n",
              "        [5. , 2. , 3.5, 1. ],\n",
              "        [5.9, 3. , 4.2, 1.5],\n",
              "        [6. , 2.2, 4. , 1. ],\n",
              "        [6.1, 2.9, 4.7, 1.4],\n",
              "        [5.6, 2.9, 3.6, 1.3],\n",
              "        [6.7, 3.1, 4.4, 1.4],\n",
              "        [5.6, 3. , 4.5, 1.5],\n",
              "        [5.8, 2.7, 4.1, 1. ],\n",
              "        [6.2, 2.2, 4.5, 1.5],\n",
              "        [5.6, 2.5, 3.9, 1.1],\n",
              "        [5.9, 3.2, 4.8, 1.8],\n",
              "        [6.1, 2.8, 4. , 1.3],\n",
              "        [6.3, 2.5, 4.9, 1.5],\n",
              "        [6.1, 2.8, 4.7, 1.2],\n",
              "        [6.4, 2.9, 4.3, 1.3],\n",
              "        [6.6, 3. , 4.4, 1.4],\n",
              "        [6.8, 2.8, 4.8, 1.4],\n",
              "        [6.7, 3. , 5. , 1.7],\n",
              "        [6. , 2.9, 4.5, 1.5],\n",
              "        [5.7, 2.6, 3.5, 1. ],\n",
              "        [5.5, 2.4, 3.8, 1.1],\n",
              "        [5.5, 2.4, 3.7, 1. ],\n",
              "        [5.8, 2.7, 3.9, 1.2],\n",
              "        [6. , 2.7, 5.1, 1.6],\n",
              "        [5.4, 3. , 4.5, 1.5],\n",
              "        [6. , 3.4, 4.5, 1.6],\n",
              "        [6.7, 3.1, 4.7, 1.5],\n",
              "        [6.3, 2.3, 4.4, 1.3],\n",
              "        [5.6, 3. , 4.1, 1.3],\n",
              "        [5.5, 2.5, 4. , 1.3],\n",
              "        [5.5, 2.6, 4.4, 1.2],\n",
              "        [6.1, 3. , 4.6, 1.4],\n",
              "        [5.8, 2.6, 4. , 1.2],\n",
              "        [5. , 2.3, 3.3, 1. ],\n",
              "        [5.6, 2.7, 4.2, 1.3],\n",
              "        [5.7, 3. , 4.2, 1.2],\n",
              "        [5.7, 2.9, 4.2, 1.3],\n",
              "        [6.2, 2.9, 4.3, 1.3],\n",
              "        [5.1, 2.5, 3. , 1.1],\n",
              "        [5.7, 2.8, 4.1, 1.3],\n",
              "        [6.3, 3.3, 6. , 2.5],\n",
              "        [5.8, 2.7, 5.1, 1.9],\n",
              "        [7.1, 3. , 5.9, 2.1],\n",
              "        [6.3, 2.9, 5.6, 1.8],\n",
              "        [6.5, 3. , 5.8, 2.2],\n",
              "        [7.6, 3. , 6.6, 2.1],\n",
              "        [4.9, 2.5, 4.5, 1.7],\n",
              "        [7.3, 2.9, 6.3, 1.8],\n",
              "        [6.7, 2.5, 5.8, 1.8],\n",
              "        [7.2, 3.6, 6.1, 2.5],\n",
              "        [6.5, 3.2, 5.1, 2. ],\n",
              "        [6.4, 2.7, 5.3, 1.9],\n",
              "        [6.8, 3. , 5.5, 2.1],\n",
              "        [5.7, 2.5, 5. , 2. ],\n",
              "        [5.8, 2.8, 5.1, 2.4],\n",
              "        [6.4, 3.2, 5.3, 2.3],\n",
              "        [6.5, 3. , 5.5, 1.8],\n",
              "        [7.7, 3.8, 6.7, 2.2],\n",
              "        [7.7, 2.6, 6.9, 2.3],\n",
              "        [6. , 2.2, 5. , 1.5],\n",
              "        [6.9, 3.2, 5.7, 2.3],\n",
              "        [5.6, 2.8, 4.9, 2. ],\n",
              "        [7.7, 2.8, 6.7, 2. ],\n",
              "        [6.3, 2.7, 4.9, 1.8],\n",
              "        [6.7, 3.3, 5.7, 2.1],\n",
              "        [7.2, 3.2, 6. , 1.8],\n",
              "        [6.2, 2.8, 4.8, 1.8],\n",
              "        [6.1, 3. , 4.9, 1.8],\n",
              "        [6.4, 2.8, 5.6, 2.1],\n",
              "        [7.2, 3. , 5.8, 1.6],\n",
              "        [7.4, 2.8, 6.1, 1.9],\n",
              "        [7.9, 3.8, 6.4, 2. ],\n",
              "        [6.4, 2.8, 5.6, 2.2],\n",
              "        [6.3, 2.8, 5.1, 1.5],\n",
              "        [6.1, 2.6, 5.6, 1.4],\n",
              "        [7.7, 3. , 6.1, 2.3],\n",
              "        [6.3, 3.4, 5.6, 2.4],\n",
              "        [6.4, 3.1, 5.5, 1.8],\n",
              "        [6. , 3. , 4.8, 1.8],\n",
              "        [6.9, 3.1, 5.4, 2.1],\n",
              "        [6.7, 3.1, 5.6, 2.4],\n",
              "        [6.9, 3.1, 5.1, 2.3],\n",
              "        [5.8, 2.7, 5.1, 1.9],\n",
              "        [6.8, 3.2, 5.9, 2.3],\n",
              "        [6.7, 3.3, 5.7, 2.5],\n",
              "        [6.7, 3. , 5.2, 2.3],\n",
              "        [6.3, 2.5, 5. , 1.9],\n",
              "        [6.5, 3. , 5.2, 2. ],\n",
              "        [6.2, 3.4, 5.4, 2.3],\n",
              "        [5.9, 3. , 5.1, 1.8]]),\n",
              " 'target': array([0, 0, 0, 0, 0, 0, 0, 0, 0, 0, 0, 0, 0, 0, 0, 0, 0, 0, 0, 0, 0, 0,\n",
              "        0, 0, 0, 0, 0, 0, 0, 0, 0, 0, 0, 0, 0, 0, 0, 0, 0, 0, 0, 0, 0, 0,\n",
              "        0, 0, 0, 0, 0, 0, 1, 1, 1, 1, 1, 1, 1, 1, 1, 1, 1, 1, 1, 1, 1, 1,\n",
              "        1, 1, 1, 1, 1, 1, 1, 1, 1, 1, 1, 1, 1, 1, 1, 1, 1, 1, 1, 1, 1, 1,\n",
              "        1, 1, 1, 1, 1, 1, 1, 1, 1, 1, 1, 1, 2, 2, 2, 2, 2, 2, 2, 2, 2, 2,\n",
              "        2, 2, 2, 2, 2, 2, 2, 2, 2, 2, 2, 2, 2, 2, 2, 2, 2, 2, 2, 2, 2, 2,\n",
              "        2, 2, 2, 2, 2, 2, 2, 2, 2, 2, 2, 2, 2, 2, 2, 2, 2, 2]),\n",
              " 'frame': None,\n",
              " 'target_names': array(['setosa', 'versicolor', 'virginica'], dtype='<U10'),\n",
              " 'DESCR': '.. _iris_dataset:\\n\\nIris plants dataset\\n--------------------\\n\\n**Data Set Characteristics:**\\n\\n    :Number of Instances: 150 (50 in each of three classes)\\n    :Number of Attributes: 4 numeric, predictive attributes and the class\\n    :Attribute Information:\\n        - sepal length in cm\\n        - sepal width in cm\\n        - petal length in cm\\n        - petal width in cm\\n        - class:\\n                - Iris-Setosa\\n                - Iris-Versicolour\\n                - Iris-Virginica\\n                \\n    :Summary Statistics:\\n\\n    ============== ==== ==== ======= ===== ====================\\n                    Min  Max   Mean    SD   Class Correlation\\n    ============== ==== ==== ======= ===== ====================\\n    sepal length:   4.3  7.9   5.84   0.83    0.7826\\n    sepal width:    2.0  4.4   3.05   0.43   -0.4194\\n    petal length:   1.0  6.9   3.76   1.76    0.9490  (high!)\\n    petal width:    0.1  2.5   1.20   0.76    0.9565  (high!)\\n    ============== ==== ==== ======= ===== ====================\\n\\n    :Missing Attribute Values: None\\n    :Class Distribution: 33.3% for each of 3 classes.\\n    :Creator: R.A. Fisher\\n    :Donor: Michael Marshall (MARSHALL%PLU@io.arc.nasa.gov)\\n    :Date: July, 1988\\n\\nThe famous Iris database, first used by Sir R.A. Fisher. The dataset is taken\\nfrom Fisher\\'s paper. Note that it\\'s the same as in R, but not as in the UCI\\nMachine Learning Repository, which has two wrong data points.\\n\\nThis is perhaps the best known database to be found in the\\npattern recognition literature.  Fisher\\'s paper is a classic in the field and\\nis referenced frequently to this day.  (See Duda & Hart, for example.)  The\\ndata set contains 3 classes of 50 instances each, where each class refers to a\\ntype of iris plant.  One class is linearly separable from the other 2; the\\nlatter are NOT linearly separable from each other.\\n\\n.. topic:: References\\n\\n   - Fisher, R.A. \"The use of multiple measurements in taxonomic problems\"\\n     Annual Eugenics, 7, Part II, 179-188 (1936); also in \"Contributions to\\n     Mathematical Statistics\" (John Wiley, NY, 1950).\\n   - Duda, R.O., & Hart, P.E. (1973) Pattern Classification and Scene Analysis.\\n     (Q327.D83) John Wiley & Sons.  ISBN 0-471-22361-1.  See page 218.\\n   - Dasarathy, B.V. (1980) \"Nosing Around the Neighborhood: A New System\\n     Structure and Classification Rule for Recognition in Partially Exposed\\n     Environments\".  IEEE Transactions on Pattern Analysis and Machine\\n     Intelligence, Vol. PAMI-2, No. 1, 67-71.\\n   - Gates, G.W. (1972) \"The Reduced Nearest Neighbor Rule\".  IEEE Transactions\\n     on Information Theory, May 1972, 431-433.\\n   - See also: 1988 MLC Proceedings, 54-64.  Cheeseman et al\"s AUTOCLASS II\\n     conceptual clustering system finds 3 classes in the data.\\n   - Many, many more ...',\n",
              " 'feature_names': ['sepal length (cm)',\n",
              "  'sepal width (cm)',\n",
              "  'petal length (cm)',\n",
              "  'petal width (cm)'],\n",
              " 'filename': 'iris.csv',\n",
              " 'data_module': 'sklearn.datasets.data'}"
            ]
          },
          "metadata": {},
          "execution_count": 106
        }
      ]
    },
    {
      "cell_type": "code",
      "source": [
        "iris_X, iris_y = iris.data[:-1, :], iris.target[:-1]"
      ],
      "metadata": {
        "id": "AH7ybgVo1rKx"
      },
      "execution_count": 107,
      "outputs": []
    },
    {
      "cell_type": "code",
      "source": [
        "iris_X[0:5]"
      ],
      "metadata": {
        "colab": {
          "base_uri": "https://localhost:8080/"
        },
        "id": "cFM9fYCv178p",
        "outputId": "34c380fc-46c0-4ea8-da7f-d268c8b4e9d4"
      },
      "execution_count": 108,
      "outputs": [
        {
          "output_type": "execute_result",
          "data": {
            "text/plain": [
              "array([[5.1, 3.5, 1.4, 0.2],\n",
              "       [4.9, 3. , 1.4, 0.2],\n",
              "       [4.7, 3.2, 1.3, 0.2],\n",
              "       [4.6, 3.1, 1.5, 0.2],\n",
              "       [5. , 3.6, 1.4, 0.2]])"
            ]
          },
          "metadata": {},
          "execution_count": 108
        }
      ]
    },
    {
      "cell_type": "code",
      "source": [
        "iris_y[0:5]"
      ],
      "metadata": {
        "colab": {
          "base_uri": "https://localhost:8080/"
        },
        "id": "iINkWK0819EC",
        "outputId": "5d8228fa-6fd6-4b04-a5c4-3bd16dd5ea04"
      },
      "execution_count": 109,
      "outputs": [
        {
          "output_type": "execute_result",
          "data": {
            "text/plain": [
              "array([0, 0, 0, 0, 0])"
            ]
          },
          "metadata": {},
          "execution_count": 109
        }
      ]
    },
    {
      "cell_type": "code",
      "source": [
        "iris_y = pd.get_dummies(iris_y).values"
      ],
      "metadata": {
        "id": "6F0BwJxQ1-Bc"
      },
      "execution_count": 110,
      "outputs": []
    },
    {
      "cell_type": "code",
      "source": [
        "iris_y[0:5]"
      ],
      "metadata": {
        "colab": {
          "base_uri": "https://localhost:8080/"
        },
        "id": "Z503u_uK2qT1",
        "outputId": "b43d0312-2e77-46bb-c9fd-b0c585571f94"
      },
      "execution_count": 111,
      "outputs": [
        {
          "output_type": "execute_result",
          "data": {
            "text/plain": [
              "array([[1, 0, 0],\n",
              "       [1, 0, 0],\n",
              "       [1, 0, 0],\n",
              "       [1, 0, 0],\n",
              "       [1, 0, 0]], dtype=uint8)"
            ]
          },
          "metadata": {},
          "execution_count": 111
        }
      ]
    },
    {
      "cell_type": "code",
      "source": [
        "X_train, X_test, y_train, y_test = train_test_split(iris_X, iris_y, test_size=0.33, random_state=42)"
      ],
      "metadata": {
        "id": "D2QOU5ym2rpT"
      },
      "execution_count": 112,
      "outputs": []
    },
    {
      "cell_type": "code",
      "source": [
        "# Define x and y. These variables will hold our iris data (both the features and label matrices).\n",
        "# Need to give them shapes which correspond to the shape of our data\n",
        "numFeatures = X_train.shape[1]\n",
        "print(f'numFeatures is: {numFeatures}')\n",
        "\n",
        "# numLabels is the number of our classes our data points can be in\n",
        "# In the iris dataset, this is number '3'\n",
        "numLabels = y_train.shape[1]\n",
        "print(f'numLabels is: {numLabels}')"
      ],
      "metadata": {
        "colab": {
          "base_uri": "https://localhost:8080/"
        },
        "id": "JAAJv76e3IsE",
        "outputId": "e0021d73-3971-4d0b-eee1-c27ba4025355"
      },
      "execution_count": 113,
      "outputs": [
        {
          "output_type": "stream",
          "name": "stdout",
          "text": [
            "numFeatures is: 4\n",
            "numLabels is: 3\n"
          ]
        }
      ]
    },
    {
      "cell_type": "code",
      "source": [
        "X_train = tf.constant(X_train, dtype='float32')\n",
        "y_train = tf.constant(y_train, dtype='float32')\n",
        "X_test = tf.constant(X_test, dtype='float32')\n",
        "y_test = tf.constant(y_test, dtype='float32')"
      ],
      "metadata": {
        "id": "jFMsVo5G4EQq"
      },
      "execution_count": 114,
      "outputs": []
    },
    {
      "cell_type": "markdown",
      "source": [
        "## Set model weights and bias"
      ],
      "metadata": {
        "id": "sk7xHP3e5JQc"
      }
    },
    {
      "cell_type": "code",
      "source": [
        "W = tf.Variable(tf.zeros([4, 3])) # 4-dimensional input and 3 classes\n",
        "b = tf.Variable(tf.zeros([3]))  # 3-dimensional output [0,0,1], [0,1,0], [1,0,0]"
      ],
      "metadata": {
        "id": "jqSdZqAu4bec"
      },
      "execution_count": 115,
      "outputs": []
    },
    {
      "cell_type": "code",
      "source": [
        "# Randomly sample from a normal distribution with standard deviation .01\n",
        "weights = tf.Variable(tf.random.normal([numFeatures, numLabels], \n",
        "                                       mean=0., stddev=0.01, name='weights')\n",
        "                                       , dtype='float32')\n",
        "bias = tf.Variable(tf.random.normal([1, numLabels], \n",
        "                                    mean=0., stddev=0.01, name='bias'))"
      ],
      "metadata": {
        "id": "YN0CwsOc3a0r"
      },
      "execution_count": 116,
      "outputs": []
    },
    {
      "cell_type": "markdown",
      "source": [
        "## Logistic Regression model\n",
        "$$\n",
        "ŷ =sigmoid(WX+b)\n",
        "$$\n",
        "\n",
        "-   a weight times features matrix multiplication operation, \n",
        "-   a summation of the weighted features and a bias term, \n",
        "-   and finally the application of a sigmoid function. "
      ],
      "metadata": {
        "id": "H3u2qi4v6Nwq"
      }
    },
    {
      "cell_type": "code",
      "source": [
        "# Three-component breakdown of the Logistic Regression equation\n",
        "def logistic_regression(x):\n",
        "  apply_weights_OP = tf.matmul(x, weights, name='apply_weights')\n",
        "  add_bias_OP = tf.add(apply_weights_OP, bias, name='add_bias')\n",
        "  activation_OP = tf.nn.sigmoid(add_bias_OP, name=\"activation\")\n",
        "  return activation_OP"
      ],
      "metadata": {
        "id": "0geHTQ_p6NZp"
      },
      "execution_count": 117,
      "outputs": []
    },
    {
      "cell_type": "markdown",
      "source": [
        "## Training"
      ],
      "metadata": {
        "id": "dM4wCWY_-wiD"
      }
    },
    {
      "cell_type": "code",
      "source": [
        "# Number of Epochs in our training\n",
        "numEpochs = 800\n",
        "\n",
        "# Defining our learning rate iterations (decay)\n",
        "learningRate = tf.keras.optimizers.schedules.ExponentialDecay(initial_learning_rate=0.0008,\n",
        "                                                              decay_steps=X_train.shape[0],\n",
        "                                                              decay_rate=0.95,\n",
        "                                                              staircase=True)"
      ],
      "metadata": {
        "id": "k9x98FJp6rje"
      },
      "execution_count": 118,
      "outputs": []
    },
    {
      "cell_type": "code",
      "source": [
        "# Defining our cost function - Squared Mean Error\n",
        "loss_object = tf.keras.losses.MeanSquaredLogarithmicError()\n",
        "optimizer = tf.keras.optimizers.SGD(learningRate)"
      ],
      "metadata": {
        "id": "VObm1RYj-6WQ"
      },
      "execution_count": 119,
      "outputs": []
    },
    {
      "cell_type": "code",
      "source": [
        "# Accuracy metric\n",
        "def accuracy(y_pred, y_true):\n",
        "  correct_prediction = tf.equal(tf.argmax(y_pred, 1), tf.argmax(y_true, 1))\n",
        "  return tf.reduce_mean(tf.cast(correct_prediction, tf.float32))"
      ],
      "metadata": {
        "id": "gYdq7R2z_jdh"
      },
      "execution_count": 120,
      "outputs": []
    },
    {
      "cell_type": "code",
      "source": [
        "# Optimization process\n",
        "\n",
        "def run_optimization(x, y):\n",
        "  with tf.GradientTape() as g:\n",
        "    pred = logistic_regression(x)\n",
        "    loss = loss_object(pred, y)\n",
        "  gradients = g.gradient(loss, [weights, bias])\n",
        "  optimizer.apply_gradients(zip(gradients, [weights, bias]))"
      ],
      "metadata": {
        "id": "NfdryOxjAZOo"
      },
      "execution_count": 121,
      "outputs": []
    },
    {
      "cell_type": "code",
      "source": [
        "# Initialize reporting variables\n",
        "display_step = 10\n",
        "epoch_values = []\n",
        "accuracy_values = []\n",
        "loss_values = []\n",
        "loss = 0\n",
        "diff = 1\n",
        "\n",
        "# training epochs\n",
        "for i in range(numEpochs):\n",
        "  if i > 1 and diff < 0.0001:\n",
        "    print(\"change in loss %g; convergence. \"%diff)\n",
        "    break\n",
        "  else:\n",
        "    # run training step\n",
        "    run_optimization(X_train, y_train)\n",
        "\n",
        "    #report occasional stats\n",
        "    if i % display_step == 0:\n",
        "      # add epoch to epoch values\n",
        "      epoch_values.append(i)\n",
        "\n",
        "      pred = logistic_regression(X_test)\n",
        "\n",
        "      newLoss = loss_object(pred, y_test)\n",
        "      # add loss to live graphing variable\n",
        "      loss_values.append(newLoss)\n",
        "\n",
        "      # generate accuracy stats on test data\n",
        "      acc = accuracy(pred, y_test)\n",
        "      accuracy_values.append(acc)\n",
        "\n",
        "      # re-assign values for variables\n",
        "      diff = accuracy(pred, y_test)\n",
        "      loss = newLoss\n",
        "\n",
        "      # generate print statements\n",
        "      print(\"step %d, training accuracy %g, loss %g, change in loss %g\"%(i, acc, newLoss, diff))\n",
        "\n",
        "# how well do we perform on held-out test data?\n",
        "print(\"Final accuracy on test set: %s\" %acc.numpy())"
      ],
      "metadata": {
        "colab": {
          "base_uri": "https://localhost:8080/"
        },
        "id": "DysRVmgXBM0B",
        "outputId": "c2087b7a-9287-483f-824d-fa00ee6ffaff"
      },
      "execution_count": 122,
      "outputs": [
        {
          "output_type": "stream",
          "name": "stdout",
          "text": [
            "step 0, training accuracy 0.38, loss 0.137133, change in loss 0.38\n",
            "step 10, training accuracy 0.38, loss 0.136551, change in loss 0.38\n",
            "step 20, training accuracy 0.38, loss 0.135977, change in loss 0.38\n",
            "step 30, training accuracy 0.38, loss 0.135411, change in loss 0.38\n",
            "step 40, training accuracy 0.38, loss 0.134853, change in loss 0.38\n",
            "step 50, training accuracy 0.38, loss 0.134303, change in loss 0.38\n",
            "step 60, training accuracy 0.28, loss 0.133761, change in loss 0.28\n",
            "step 70, training accuracy 0.12, loss 0.133227, change in loss 0.12\n",
            "step 80, training accuracy 0.28, loss 0.1327, change in loss 0.28\n",
            "step 90, training accuracy 0.32, loss 0.132182, change in loss 0.32\n",
            "step 100, training accuracy 0.32, loss 0.131676, change in loss 0.32\n",
            "step 110, training accuracy 0.32, loss 0.131199, change in loss 0.32\n",
            "step 120, training accuracy 0.32, loss 0.130728, change in loss 0.32\n",
            "step 130, training accuracy 0.32, loss 0.130264, change in loss 0.32\n",
            "step 140, training accuracy 0.32, loss 0.129807, change in loss 0.32\n",
            "step 150, training accuracy 0.32, loss 0.129358, change in loss 0.32\n",
            "step 160, training accuracy 0.32, loss 0.128915, change in loss 0.32\n",
            "step 170, training accuracy 0.32, loss 0.128479, change in loss 0.32\n",
            "step 180, training accuracy 0.32, loss 0.12805, change in loss 0.32\n",
            "step 190, training accuracy 0.32, loss 0.127627, change in loss 0.32\n",
            "step 200, training accuracy 0.32, loss 0.127218, change in loss 0.32\n",
            "step 210, training accuracy 0.32, loss 0.126829, change in loss 0.32\n",
            "step 220, training accuracy 0.32, loss 0.126447, change in loss 0.32\n",
            "step 230, training accuracy 0.32, loss 0.12607, change in loss 0.32\n",
            "step 240, training accuracy 0.32, loss 0.125699, change in loss 0.32\n",
            "step 250, training accuracy 0.32, loss 0.125334, change in loss 0.32\n",
            "step 260, training accuracy 0.32, loss 0.124975, change in loss 0.32\n",
            "step 270, training accuracy 0.32, loss 0.124621, change in loss 0.32\n",
            "step 280, training accuracy 0.32, loss 0.124273, change in loss 0.32\n",
            "step 290, training accuracy 0.32, loss 0.123931, change in loss 0.32\n",
            "step 300, training accuracy 0.32, loss 0.123601, change in loss 0.32\n",
            "step 310, training accuracy 0.32, loss 0.123286, change in loss 0.32\n",
            "step 320, training accuracy 0.32, loss 0.122976, change in loss 0.32\n",
            "step 330, training accuracy 0.32, loss 0.12267, change in loss 0.32\n",
            "step 340, training accuracy 0.32, loss 0.12237, change in loss 0.32\n",
            "step 350, training accuracy 0.32, loss 0.122074, change in loss 0.32\n",
            "step 360, training accuracy 0.32, loss 0.121782, change in loss 0.32\n",
            "step 370, training accuracy 0.32, loss 0.121496, change in loss 0.32\n",
            "step 380, training accuracy 0.32, loss 0.121214, change in loss 0.32\n",
            "step 390, training accuracy 0.32, loss 0.120936, change in loss 0.32\n",
            "step 400, training accuracy 0.32, loss 0.120669, change in loss 0.32\n",
            "step 410, training accuracy 0.32, loss 0.120414, change in loss 0.32\n",
            "step 420, training accuracy 0.32, loss 0.120162, change in loss 0.32\n",
            "step 430, training accuracy 0.32, loss 0.119914, change in loss 0.32\n",
            "step 440, training accuracy 0.32, loss 0.119669, change in loss 0.32\n",
            "step 450, training accuracy 0.32, loss 0.119429, change in loss 0.32\n",
            "step 460, training accuracy 0.32, loss 0.119192, change in loss 0.32\n",
            "step 470, training accuracy 0.32, loss 0.118959, change in loss 0.32\n",
            "step 480, training accuracy 0.32, loss 0.118729, change in loss 0.32\n",
            "step 490, training accuracy 0.32, loss 0.118502, change in loss 0.32\n",
            "step 500, training accuracy 0.32, loss 0.118286, change in loss 0.32\n",
            "step 510, training accuracy 0.32, loss 0.118078, change in loss 0.32\n",
            "step 520, training accuracy 0.32, loss 0.117872, change in loss 0.32\n",
            "step 530, training accuracy 0.32, loss 0.117669, change in loss 0.32\n",
            "step 540, training accuracy 0.32, loss 0.11747, change in loss 0.32\n",
            "step 550, training accuracy 0.32, loss 0.117273, change in loss 0.32\n",
            "step 560, training accuracy 0.32, loss 0.117079, change in loss 0.32\n",
            "step 570, training accuracy 0.32, loss 0.116887, change in loss 0.32\n",
            "step 580, training accuracy 0.32, loss 0.116699, change in loss 0.32\n",
            "step 590, training accuracy 0.32, loss 0.116513, change in loss 0.32\n",
            "step 600, training accuracy 0.32, loss 0.116337, change in loss 0.32\n",
            "step 610, training accuracy 0.32, loss 0.116165, change in loss 0.32\n",
            "step 620, training accuracy 0.32, loss 0.115996, change in loss 0.32\n",
            "step 630, training accuracy 0.32, loss 0.115829, change in loss 0.32\n",
            "step 640, training accuracy 0.32, loss 0.115665, change in loss 0.32\n",
            "step 650, training accuracy 0.32, loss 0.115502, change in loss 0.32\n",
            "step 660, training accuracy 0.32, loss 0.115342, change in loss 0.32\n",
            "step 670, training accuracy 0.32, loss 0.115184, change in loss 0.32\n",
            "step 680, training accuracy 0.32, loss 0.115029, change in loss 0.32\n",
            "step 690, training accuracy 0.32, loss 0.114875, change in loss 0.32\n",
            "step 700, training accuracy 0.32, loss 0.114729, change in loss 0.32\n",
            "step 710, training accuracy 0.32, loss 0.114587, change in loss 0.32\n",
            "step 720, training accuracy 0.32, loss 0.114447, change in loss 0.32\n",
            "step 730, training accuracy 0.32, loss 0.114308, change in loss 0.32\n",
            "step 740, training accuracy 0.32, loss 0.114171, change in loss 0.32\n",
            "step 750, training accuracy 0.32, loss 0.114036, change in loss 0.32\n",
            "step 760, training accuracy 0.32, loss 0.113903, change in loss 0.32\n",
            "step 770, training accuracy 0.32, loss 0.113772, change in loss 0.32\n",
            "step 780, training accuracy 0.32, loss 0.113642, change in loss 0.32\n",
            "step 790, training accuracy 0.32, loss 0.113513, change in loss 0.32\n",
            "Final accuracy on test set: 0.32\n"
          ]
        }
      ]
    },
    {
      "cell_type": "code",
      "source": [
        "#matplotlib inline\n",
        "import numpy as np\n",
        "import matplotlib.pyplot as plt\n",
        "plt.xlabel(\"Epoch\")\n",
        "plt.ylabel(\"Loss\")\n",
        "plt.plot(loss_values)\n",
        "plt.show()"
      ],
      "metadata": {
        "colab": {
          "base_uri": "https://localhost:8080/",
          "height": 449
        },
        "id": "FuJfObktDapt",
        "outputId": "bb96eb1b-eca1-4339-e5f0-853bc5c19ce3"
      },
      "execution_count": 124,
      "outputs": [
        {
          "output_type": "display_data",
          "data": {
            "text/plain": [
              "<Figure size 640x480 with 1 Axes>"
            ],
            "image/png": "[encoded data removed]"
          },
          "metadata": {}
        }
      ]
    },
    {
      "cell_type": "code",
      "source": [],
      "metadata": {
        "id": "9MVQv8PdD4hl"
      },
      "execution_count": 123,
      "outputs": []
    }
  ]
}