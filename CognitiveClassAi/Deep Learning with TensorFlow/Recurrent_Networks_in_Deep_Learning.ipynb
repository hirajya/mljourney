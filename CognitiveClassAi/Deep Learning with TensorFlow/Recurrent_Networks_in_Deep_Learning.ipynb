{
  "nbformat": 4,
  "nbformat_minor": 0,
  "metadata": {
    "colab": {
      "provenance": []
    },
    "kernelspec": {
      "name": "python3",
      "display_name": "Python 3"
    },
    "language_info": {
      "name": "python"
    }
  },
  "cells": [
    {
      "cell_type": "markdown",
      "source": [
        "## LSTM\n",
        "A tiny LSTM networkk sample to understand the architecture of LSTM networks."
      ],
      "metadata": {
        "id": "uddPsPXus97S"
      }
    },
    {
      "cell_type": "code",
      "execution_count": null,
      "metadata": {
        "id": "sRsNjm0Aruc6"
      },
      "outputs": [],
      "source": [
        "import numpy as np\n",
        "import tensorflow as tf"
      ]
    },
    {
      "cell_type": "code",
      "source": [
        "LSTM_CELL_SIZE = 4 # output size (dimension), which is same as hidden size in the cell\n",
        "\n",
        "lstm_cell = tf.keras.layers.LSTMCell(units=LSTM_CELL_SIZE)\n",
        "state = [tf.zeros([1, LSTM_CELL_SIZE]), tf.zeros([1, LSTM_CELL_SIZE])]\n",
        "\n"
      ],
      "metadata": {
        "id": "HjCU7X1LtsJ8"
      },
      "execution_count": null,
      "outputs": []
    },
    {
      "cell_type": "code",
      "source": [
        "state"
      ],
      "metadata": {
        "colab": {
          "base_uri": "https://localhost:8080/"
        },
        "id": "RFtjkqfZEPUj",
        "outputId": "ddc8c7b7-0cce-4fcd-e2af-3ab2af2862ef"
      },
      "execution_count": 35,
      "outputs": [
        {
          "output_type": "execute_result",
          "data": {
            "text/plain": [
              "[<tf.Tensor: shape=(1, 4), dtype=float32, numpy=array([[0., 0., 0., 0.]], dtype=float32)>,\n",
              " <tf.Tensor: shape=(1, 4), dtype=float32, numpy=array([[0., 0., 0., 0.]], dtype=float32)>]"
            ]
          },
          "metadata": {},
          "execution_count": 35
        }
      ]
    },
    {
      "cell_type": "code",
      "source": [
        "sample_input = tf.constant([[3, 2, 2, 2, 2, 2]], dtype=tf.float32)\n",
        "print(sample_input)"
      ],
      "metadata": {
        "id": "zlAYXajXuYOk",
        "colab": {
          "base_uri": "https://localhost:8080/"
        },
        "outputId": "f4c29e20-7c18-46ec-bfc9-83b6868fdb37"
      },
      "execution_count": 6,
      "outputs": [
        {
          "output_type": "stream",
          "name": "stdout",
          "text": [
            "tf.Tensor([[3. 2. 2. 2. 2. 2.]], shape=(1, 6), dtype=float32)\n"
          ]
        }
      ]
    },
    {
      "cell_type": "code",
      "source": [
        "output, state_new = lstm_cell(sample_input, state)\n",
        "\n",
        "print(state_new)"
      ],
      "metadata": {
        "colab": {
          "base_uri": "https://localhost:8080/"
        },
        "id": "Qgh_di488FwU",
        "outputId": "80494fec-3243-42e3-bda8-b7130e347d75"
      },
      "execution_count": 12,
      "outputs": [
        {
          "output_type": "stream",
          "name": "stdout",
          "text": [
            "[<tf.Tensor: shape=(1, 4), dtype=float32, numpy=\n",
            "array([[-0.03210569,  0.03040035,  0.23020034,  0.02028216]],\n",
            "      dtype=float32)>, <tf.Tensor: shape=(1, 4), dtype=float32, numpy=\n",
            "array([[-0.14249499,  0.3107106 ,  0.25259233,  0.1065513 ]],\n",
            "      dtype=float32)>]\n"
          ]
        }
      ]
    },
    {
      "cell_type": "code",
      "source": [
        "print(output.numpy())"
      ],
      "metadata": {
        "colab": {
          "base_uri": "https://localhost:8080/"
        },
        "id": "HbBWy22X9fu6",
        "outputId": "b3fc02a8-8ef2-4c29-a92e-e55dcc8b2e6f"
      },
      "execution_count": 13,
      "outputs": [
        {
          "output_type": "stream",
          "name": "stdout",
          "text": [
            "[[-0.03210569  0.03040035  0.23020034  0.02028216]]\n"
          ]
        }
      ]
    },
    {
      "cell_type": "markdown",
      "source": [
        "## Stacked LSTM\n",
        "RNN with stacked LSTM. The output of the first layer will become the input of the second."
      ],
      "metadata": {
        "id": "hXuGUger935C"
      }
    },
    {
      "cell_type": "code",
      "source": [
        "input_dim = 6\n",
        "\n",
        "# create stacked LSTM cell\n",
        "cells = []"
      ],
      "metadata": {
        "id": "KZ3bCVgE9zCD"
      },
      "execution_count": 15,
      "outputs": []
    },
    {
      "cell_type": "markdown",
      "source": [
        "Creating the first layer LSTM cell"
      ],
      "metadata": {
        "id": "GW8c8OHI_kk5"
      }
    },
    {
      "cell_type": "code",
      "source": [
        "from tensorflow.keras.layers import LSTMCell\n",
        "\n",
        "LSTM_CELL_SIZE_1 = 4 # 4 hidden nodes\n",
        "cell1 = LSTMCell(units=LSTM_CELL_SIZE_1)\n",
        "cells.append(cell1)"
      ],
      "metadata": {
        "id": "tmQYM1Uh_BkU"
      },
      "execution_count": 16,
      "outputs": []
    },
    {
      "cell_type": "markdown",
      "source": [
        "Creating the second layer LSTM cell"
      ],
      "metadata": {
        "id": "j_DVnW0Z_grS"
      }
    },
    {
      "cell_type": "code",
      "source": [
        "LSTM_CELL_SIZE_2 = 5 # 5 hidden nodes\n",
        "cell2 = LSTMCell(units=LSTM_CELL_SIZE_2)\n",
        "cells.append(cell2)"
      ],
      "metadata": {
        "id": "JroiWJlw_fHI"
      },
      "execution_count": 17,
      "outputs": []
    },
    {
      "cell_type": "code",
      "source": [
        "from tensorflow.keras.layers import StackedRNNCells\n",
        "\n",
        "# stacking a multi-layer LSTM\n",
        "stacked_lstm = StackedRNNCells(cells)"
      ],
      "metadata": {
        "id": "KTEGFjdjAKks"
      },
      "execution_count": 19,
      "outputs": []
    },
    {
      "cell_type": "code",
      "source": [
        "from tensorflow.keras.layers import RNN\n",
        "\n",
        "# Create the RNN from stacked_lstm\n",
        "# batch size x time steps x features\n",
        "data = tf.keras.Input(shape=(None, input_dim), dtype=tf.float32)\n",
        "output, state = RNN(stacked_lstm, return_state=True)(data)\n"
      ],
      "metadata": {
        "id": "B_Oy0AQcAYyf"
      },
      "execution_count": 20,
      "outputs": []
    },
    {
      "cell_type": "code",
      "source": [
        "# Input sequence length is 3, the dimensionality of the inputs is 6. The input should be a Tensor of shape\n",
        "# [batch_size, max_time, dimension], in our case it would be (2, 3, 6)\n",
        "\n",
        "# batch_size, time_steps x _features\n",
        "sample_input = tf.constant([[[1,2,3,4,3,2], [1,2,1,1,1,2],[1,2,2,2,2,2]],[[1,2,3,4,3,2],[3,2,2,1,1,2],[0,0,0,0,3,2]]])\n",
        "sample_input"
      ],
      "metadata": {
        "colab": {
          "base_uri": "https://localhost:8080/"
        },
        "id": "tUGBQEc_BPeW",
        "outputId": "1bd1918c-3739-4811-9ed2-820bd3af2b33"
      },
      "execution_count": 25,
      "outputs": [
        {
          "output_type": "execute_result",
          "data": {
            "text/plain": [
              "<tf.Tensor: shape=(2, 3, 6), dtype=int32, numpy=\n",
              "array([[[1, 2, 3, 4, 3, 2],\n",
              "        [1, 2, 1, 1, 1, 2],\n",
              "        [1, 2, 2, 2, 2, 2]],\n",
              "\n",
              "       [[1, 2, 3, 4, 3, 2],\n",
              "        [3, 2, 2, 1, 1, 2],\n",
              "        [0, 0, 0, 0, 3, 2]]], dtype=int32)>"
            ]
          },
          "metadata": {},
          "execution_count": 25
        }
      ]
    },
    {
      "cell_type": "code",
      "source": [
        "output"
      ],
      "metadata": {
        "colab": {
          "base_uri": "https://localhost:8080/"
        },
        "id": "U5vUrLZcB4Lg",
        "outputId": "7d1a6f22-54c6-49c1-b164-656ddbdfc3eb"
      },
      "execution_count": 22,
      "outputs": [
        {
          "output_type": "execute_result",
          "data": {
            "text/plain": [
              "<KerasTensor: shape=(None, 5) dtype=float32 (created by layer 'rnn')>"
            ]
          },
          "metadata": {},
          "execution_count": 22
        }
      ]
    },
    {
      "cell_type": "code",
      "source": [
        "model = tf.keras.Model(inputs=data, outputs=output)\n",
        "model.summary()"
      ],
      "metadata": {
        "colab": {
          "base_uri": "https://localhost:8080/"
        },
        "id": "DPeCeWaNB823",
        "outputId": "5fb90db2-a8b2-4053-8929-2685e5abe079"
      },
      "execution_count": 33,
      "outputs": [
        {
          "output_type": "stream",
          "name": "stdout",
          "text": [
            "Model: \"model_1\"\n",
            "_________________________________________________________________\n",
            " Layer (type)                Output Shape              Param #   \n",
            "=================================================================\n",
            " input_1 (InputLayer)        [(None, None, 6)]         0         \n",
            "                                                                 \n",
            " rnn (RNN)                   (None, 5)                 376       \n",
            "                                                                 \n",
            "=================================================================\n",
            "Total params: 376\n",
            "Trainable params: 376\n",
            "Non-trainable params: 0\n",
            "_________________________________________________________________\n"
          ]
        }
      ]
    },
    {
      "cell_type": "code",
      "source": [
        "\n",
        "output_value = model.predict(sample_input)\n",
        "print(output_value)"
      ],
      "metadata": {
        "colab": {
          "base_uri": "https://localhost:8080/"
        },
        "id": "-eKF0_GLCPqn",
        "outputId": "3840b73b-0c0e-43bc-e547-b4e6fbe6ee0f"
      },
      "execution_count": 34,
      "outputs": [
        {
          "output_type": "stream",
          "name": "stdout",
          "text": [
            "1/1 [==============================] - 0s 266ms/step\n",
            "[[-0.03110039  0.14632788  0.05268353  0.03511842 -0.01406977]\n",
            " [-0.00522834  0.13486136  0.03316358  0.02676085  0.00975636]]\n"
          ]
        }
      ]
    }
  ]
}