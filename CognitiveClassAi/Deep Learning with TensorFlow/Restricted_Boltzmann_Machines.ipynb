{
  "nbformat": 4,
  "nbformat_minor": 0,
  "metadata": {
    "colab": {
      "provenance": []
    },
    "kernelspec": {
      "name": "python3",
      "display_name": "Python 3"
    },
    "language_info": {
      "name": "python"
    }
  },
  "cells": [
    {
      "cell_type": "markdown",
      "source": [
        "# Restricted Boltzmann Machine "
      ],
      "metadata": {
        "id": "AK0ELFrvY0zu"
      }
    },
    {
      "cell_type": "code",
      "execution_count": 2,
      "metadata": {
        "id": "W5efBbdMYwJR"
      },
      "outputs": [],
      "source": [
        "import tensorflow as tf\n",
        "import numpy as np\n",
        "\n",
        "from PIL import Image\n",
        "import matplotlib.pyplot as plt\n",
        "%matplotlib inline"
      ]
    },
    {
      "cell_type": "code",
      "source": [
        "v_bias = tf.Variable(tf.zeros([7]), tf.float32)\n",
        "h_bias = tf.Variable(tf.zeros([2]), tf.float32)"
      ],
      "metadata": {
        "id": "2PUak9BVaaWo"
      },
      "execution_count": 3,
      "outputs": []
    },
    {
      "cell_type": "code",
      "source": [
        "W = tf.constant(np.random.normal(loc=0.0, scale=1.0, size=(7, 2)).astype(np.float32))"
      ],
      "metadata": {
        "id": "o8UdFsC9bKtt"
      },
      "execution_count": 4,
      "outputs": []
    },
    {
      "cell_type": "markdown",
      "source": [
        "### Phase 1) Forward Propagation"
      ],
      "metadata": {
        "id": "PpJ6a2raeAvw"
      }
    },
    {
      "cell_type": "code",
      "source": [
        "# Assuming that we have a trained RBM, and a very simple input vector such as [1.0, 0.0, 0.0, 1.0, 0.0, 0.0, 0.0]\n",
        "# Let's see what the output of forward pass would look like.\n",
        "X = tf.constant([[1.0, 0.0, 0.0, 1.0, 0.0, 0.0, 0.0]])\n",
        "\n",
        "v_state = X\n",
        "print(\"Input: \", v_state)\n",
        "\n",
        "h_bias = tf.constant([0.1, 0.1])\n",
        "print(f\"hb: {h_bias}\")\n",
        "print(f\"w: {W}\")\n",
        "\n",
        "# Calculate the probabilities of turning the hidden units on:\n",
        "h_prob = tf.nn.sigmoid(tf.matmul(v_state, W) + h_bias) # probabilities of the hidden units\n",
        "print(\"p(h|v): \",h_prob)\n",
        "\n",
        "# Draw samples from the distribution:\n",
        "h_state = tf.nn.relu(tf.sign(h_prob - tf.random.uniform(tf.shape(h_prob)))) # states\n",
        "print(f\"h0 states: {h_state}\")\n",
        "\n",
        "\n"
      ],
      "metadata": {
        "colab": {
          "base_uri": "https://localhost:8080/"
        },
        "id": "rXYBdyQvbbdQ",
        "outputId": "a9a7df97-3feb-4f29-e8d7-3b7ee412ab6b"
      },
      "execution_count": 5,
      "outputs": [
        {
          "output_type": "stream",
          "name": "stdout",
          "text": [
            "Input:  tf.Tensor([[1. 0. 0. 1. 0. 0. 0.]], shape=(1, 7), dtype=float32)\n",
            "hb: [0.1 0.1]\n",
            "w: [[ 0.9957702   0.41040307]\n",
            " [ 1.1125721   0.11600418]\n",
            " [-0.99647915  0.1477951 ]\n",
            " [ 0.7819729   1.9111606 ]\n",
            " [-0.95201576  1.5220022 ]\n",
            " [ 0.7343104   0.50511885]\n",
            " [-0.4386052   1.7663141 ]]\n",
            "p(h|v):  tf.Tensor([[0.8673517 0.9184569]], shape=(1, 2), dtype=float32)\n",
            "h0 states: [[1. 1.]]\n"
          ]
        }
      ]
    },
    {
      "cell_type": "markdown",
      "source": [
        "### Phase 2) Backward Pass (Reconstruction)"
      ],
      "metadata": {
        "id": "QD-Yda3deCuo"
      }
    },
    {
      "cell_type": "code",
      "source": [
        "vb = tf.constant([0.1, 0.2, 0.1, 0.1, 0.1, 0.2, 0.1])\n",
        "print(f\"b: {vb}\")\n",
        "\n",
        "v_prob = tf.nn.sigmoid(tf.matmul(h_state, tf.transpose(W)) + vb)\n",
        "print(f\"p(vi|h): {v_prob}\")\n",
        "\n",
        "v_state = tf.nn.relu(tf.sign(v_prob - tf.random.uniform(tf.shape(v_prob))))\n",
        "print(\"v probability states: \", v_state)"
      ],
      "metadata": {
        "colab": {
          "base_uri": "https://localhost:8080/"
        },
        "id": "4XoiJIc6d0vQ",
        "outputId": "7ed90fbf-a995-4656-e01d-5d91fc66f94e"
      },
      "execution_count": 6,
      "outputs": [
        {
          "output_type": "stream",
          "name": "stdout",
          "text": [
            "b: [0.1 0.2 0.1 0.1 0.1 0.2 0.1]\n",
            "p(vi|h): [[0.81849337 0.80667937 0.3211081  0.94230366 0.66150016 0.80836624\n",
            "  0.80654407]]\n",
            "v probability states:  tf.Tensor([[0. 1. 0. 1. 1. 1. 1.]], shape=(1, 7), dtype=float32)\n"
          ]
        }
      ]
    },
    {
      "cell_type": "code",
      "source": [
        "inp = X\n",
        "print(f\"input X:\", v_prob[0].numpy())\n",
        "\n",
        "print(\"probability vector:\", v_prob[0].numpy())\n",
        "v_probability = 1\n",
        "\n",
        "for elm, p in zip(inp[0], v_prob[0]):\n",
        "  if elm==1:\n",
        "    v_probability *= p\n",
        "  else:\n",
        "    v_probability *= (1-p)\n",
        "\n",
        "print(\"probability of generating X: \", v_probability.numpy())"
      ],
      "metadata": {
        "colab": {
          "base_uri": "https://localhost:8080/"
        },
        "id": "05mioJrKfQeX",
        "outputId": "4bcf6edd-fa17-49ef-cfe3-81787207915d"
      },
      "execution_count": 7,
      "outputs": [
        {
          "output_type": "stream",
          "name": "stdout",
          "text": [
            "input X: [0.81849337 0.80667937 0.3211081  0.94230366 0.66150016 0.80836624\n",
            " 0.80654407]\n",
            "probability vector: [0.81849337 0.80667937 0.3211081  0.94230366 0.66150016 0.80836624\n",
            " 0.80654407]\n",
            "probability of generating X:  0.0012702742\n"
          ]
        }
      ]
    },
    {
      "cell_type": "markdown",
      "source": [
        "## MNIST\n",
        "We will be using the MNIST dataset to practice the usage of RBMs."
      ],
      "metadata": {
        "id": "lOo87wJjgcfX"
      }
    },
    {
      "cell_type": "code",
      "source": [
        "# loading training data\n",
        "mnist = tf.keras.datasets.mnist\n",
        "(trX, trY), (teX, teY) = mnist.load_data()\n",
        "\n",
        "# showing an example of the flatten class and operation\n",
        "from tensorflow.keras.layers import Flatten\n",
        "flatten = Flatten(dtype='float32')\n",
        "trX = flatten(trX/255.0)\n",
        "trY = flatten(trY/255.0)"
      ],
      "metadata": {
        "id": "uZFiHWMxgNSt",
        "colab": {
          "base_uri": "https://localhost:8080/"
        },
        "outputId": "6af315ac-7e0d-4d54-9384-99c884a05bff"
      },
      "execution_count": 8,
      "outputs": [
        {
          "output_type": "stream",
          "name": "stdout",
          "text": [
            "Downloading data from https://storage.googleapis.com/tensorflow/tf-keras-datasets/mnist.npz\n",
            "11490434/11490434 [==============================] - 0s 0us/step\n"
          ]
        }
      ]
    },
    {
      "cell_type": "markdown",
      "source": [
        "MNIST images have 784 pixels, so the visible layer must have 784 input nodes. For our case, we'll use 50 nodes in the hidden layer, so i = 50."
      ],
      "metadata": {
        "id": "Cm1G1RJeiBMi"
      }
    },
    {
      "cell_type": "code",
      "source": [
        "trX.shape"
      ],
      "metadata": {
        "colab": {
          "base_uri": "https://localhost:8080/"
        },
        "id": "_YkwH2iJh98O",
        "outputId": "a592d349-2ef3-4763-a219-b4e8f8604a75"
      },
      "execution_count": 9,
      "outputs": [
        {
          "output_type": "execute_result",
          "data": {
            "text/plain": [
              "TensorShape([60000, 784])"
            ]
          },
          "metadata": {},
          "execution_count": 9
        }
      ]
    },
    {
      "cell_type": "code",
      "source": [
        "trY.shape"
      ],
      "metadata": {
        "colab": {
          "base_uri": "https://localhost:8080/"
        },
        "id": "y_32cOs9ivDz",
        "outputId": "accf917b-af77-4e6e-e4a8-8009ed39d84a"
      },
      "execution_count": 10,
      "outputs": [
        {
          "output_type": "execute_result",
          "data": {
            "text/plain": [
              "TensorShape([60000, 1])"
            ]
          },
          "metadata": {},
          "execution_count": 10
        }
      ]
    },
    {
      "cell_type": "code",
      "source": [
        "vb = tf.Variable(tf.zeros([784]), tf.float32)\n",
        "hb = tf.Variable(tf.zeros([50]), tf.float32)"
      ],
      "metadata": {
        "id": "lNFwiBN4iSqL"
      },
      "execution_count": 11,
      "outputs": []
    },
    {
      "cell_type": "markdown",
      "source": [
        "Let **W** be the Tensor of 784x50 (784 - number of visible neurons, 50 - number of hidden neurons) that represents weights between the neurons."
      ],
      "metadata": {
        "id": "r-sUOjfIjIlc"
      }
    },
    {
      "cell_type": "code",
      "source": [
        "W = tf.Variable(tf.zeros([784, 50]), tf.float32)"
      ],
      "metadata": {
        "id": "2s_8d49QjHD5"
      },
      "execution_count": 12,
      "outputs": []
    },
    {
      "cell_type": "code",
      "source": [
        "v0_state = tf.Variable(tf.zeros([784]), tf.float32)\n",
        "\n",
        "#testing to see if the matrix product works\n",
        "tf.matmul( [v0_state], W)"
      ],
      "metadata": {
        "colab": {
          "base_uri": "https://localhost:8080/"
        },
        "id": "_ymjILp_jefO",
        "outputId": "a3d48305-a951-4fe2-eca3-7ca4ed393b85"
      },
      "execution_count": 14,
      "outputs": [
        {
          "output_type": "execute_result",
          "data": {
            "text/plain": [
              "<tf.Tensor: shape=(1, 50), dtype=float32, numpy=\n",
              "array([[0., 0., 0., 0., 0., 0., 0., 0., 0., 0., 0., 0., 0., 0., 0., 0.,\n",
              "        0., 0., 0., 0., 0., 0., 0., 0., 0., 0., 0., 0., 0., 0., 0., 0.,\n",
              "        0., 0., 0., 0., 0., 0., 0., 0., 0., 0., 0., 0., 0., 0., 0., 0.,\n",
              "        0., 0.]], dtype=float32)>"
            ]
          },
          "metadata": {},
          "execution_count": 14
        }
      ]
    },
    {
      "cell_type": "markdown",
      "source": [
        "Define hidden layer"
      ],
      "metadata": {
        "id": "dSxdvRmolMwE"
      }
    },
    {
      "cell_type": "code",
      "source": [
        "#computing the hidden nodes probability vector and checking shape\n",
        "h0_prob = tf.nn.sigmoid(tf.matmul([v0_state], W) + hb)  #probabilities of the hidden units\n",
        "print(\"h0_state shape: \" , tf.shape(h0_prob))\n",
        "\n",
        "#defining a function to return only the generated hidden states \n",
        "def hidden_layer(v0_state, W, hb):\n",
        "    h0_prob = tf.nn.sigmoid(tf.matmul([v0_state], W) + hb)  #probabilities of the hidden units\n",
        "    h0_state = tf.nn.relu(tf.sign(h0_prob - tf.random.uniform(tf.shape(h0_prob)))) #sample_h_given_X\n",
        "    return h0_state\n",
        "\n",
        "\n",
        "h0_state = hidden_layer(v0_state, W, hb)\n",
        "print(\"first 15 hidden states: \", h0_state[0][0:15])"
      ],
      "metadata": {
        "colab": {
          "base_uri": "https://localhost:8080/"
        },
        "id": "FjaEVh3Uj7s0",
        "outputId": "b5d219f9-d67b-4d1f-b56d-4a2481684f21"
      },
      "execution_count": 15,
      "outputs": [
        {
          "output_type": "stream",
          "name": "stdout",
          "text": [
            "h0_state shape:  tf.Tensor([ 1 50], shape=(2,), dtype=int32)\n",
            "first 15 hidden states:  tf.Tensor([0. 0. 0. 0. 0. 1. 0. 0. 0. 1. 1. 0. 1. 0. 1.], shape=(15,), dtype=float32)\n"
          ]
        }
      ]
    },
    {
      "cell_type": "markdown",
      "source": [
        "Define reconstruction part"
      ],
      "metadata": {
        "id": "fsrtrLBimtb1"
      }
    },
    {
      "cell_type": "code",
      "source": [
        "def reconstructed_output(h0_state, W, vb):\n",
        "  v1_prob = tf.nn.sigmoid(tf.matmul(h0_state, tf.transpose(W)) + vb)\n",
        "  v1_state = tf.nn.relu(tf.sign(v1_prob - tf.random.uniform(tf.shape(v1_prob)))) # sample v given h\n",
        "  return v1_state[0]\n",
        "\n",
        "v1_state = reconstructed_output(h0_state, W, vb)\n",
        "print(\"hidden state shape: \", h0_state.shape)\n",
        "print(\"v0 state shape: \",v0_state.shape)\n",
        "print(\"v1 state shape: \", v1_state.shape)"
      ],
      "metadata": {
        "colab": {
          "base_uri": "https://localhost:8080/"
        },
        "id": "gtXPHvmLmXBz",
        "outputId": "04061ca8-482b-4e4d-b5ea-49a3f554f7a1"
      },
      "execution_count": 16,
      "outputs": [
        {
          "output_type": "stream",
          "name": "stdout",
          "text": [
            "hidden state shape:  (1, 50)\n",
            "v0 state shape:  (784,)\n",
            "v1 state shape:  (784,)\n"
          ]
        }
      ]
    },
    {
      "cell_type": "markdown",
      "source": [
        "<h3>What is the objective function?</h3>\n",
        "\n",
        "<b>Goal</b>: Maximize the likelihood of our data being drawn from that distribution\n",
        "\n",
        "<b>Calculate error:</b>  \n",
        "In each epoch, we compute the \"error\" as a sum of the squared difference between step 1 and step n,\n",
        "e.g the error shows the difference between the data and its reconstruction.\n",
        "\n",
        "<b>Note:</b> tf.reduce_mean computes the mean of elements across dimensions of a tensor.\n"
      ],
      "metadata": {
        "id": "ePKy7fCTnnLz"
      }
    },
    {
      "cell_type": "code",
      "source": [
        "def error(v0_state, v1_state):\n",
        "  return tf.reduce_mean(tf.square(v0_state - v1_state))\n",
        "\n",
        "err = tf.reduce_mean(tf.square(v0_state - v1_state))\n",
        "print(\"error\", err.numpy())"
      ],
      "metadata": {
        "colab": {
          "base_uri": "https://localhost:8080/"
        },
        "id": "Gpzwlty4ncBS",
        "outputId": "8a92c1ca-b8b3-4c21-ffb0-78529200bb58"
      },
      "execution_count": 17,
      "outputs": [
        {
          "output_type": "stream",
          "name": "stdout",
          "text": [
            "error 0.502551\n"
          ]
        }
      ]
    },
    {
      "cell_type": "code",
      "source": [
        "h1_prob = tf.nn.sigmoid(tf.matmul([v1_state], W) + hb)\n",
        "h1_state = tf.nn.relu(tf.sign(h1_prob - tf.random.uniform(tf.shape(h1_prob)))) # sample h given x\n"
      ],
      "metadata": {
        "id": "bo2Drp6in6Sm"
      },
      "execution_count": 18,
      "outputs": []
    },
    {
      "cell_type": "code",
      "source": [
        "print(f\"error: {error(v0_state, v1_state)}\")"
      ],
      "metadata": {
        "colab": {
          "base_uri": "https://localhost:8080/"
        },
        "id": "pNdMZLfjESy-",
        "outputId": "5d7eeb1b-8a58-45b0-9510-4901d231781b"
      },
      "execution_count": 19,
      "outputs": [
        {
          "output_type": "stream",
          "name": "stdout",
          "text": [
            "error: 0.5025510191917419\n"
          ]
        }
      ]
    },
    {
      "cell_type": "code",
      "source": [
        "#Parameters\n",
        "alpha = 0.01\n",
        "epochs = 1\n",
        "batchsize = 200\n",
        "weights = []\n",
        "errors = []\n",
        "batch_number = 0\n",
        "K = 1\n",
        "\n",
        "#creating datasets\n",
        "train_ds = \\\n",
        "    tf.data.Dataset.from_tensor_slices((trX, trY)).batch(batchsize)\n",
        "\n",
        "for epoch in range(epochs):\n",
        "    for batch_x, batch_y in train_ds:\n",
        "        batch_number += 1\n",
        "        for i_sample in range(batchsize):           \n",
        "            for k in range(K):\n",
        "                v0_state = batch_x[i_sample]\n",
        "                h0_state = hidden_layer(v0_state, W, hb)\n",
        "                v1_state = reconstructed_output(h0_state, W, vb)\n",
        "                h1_state = hidden_layer(v1_state, W, hb)\n",
        "\n",
        "                delta_W = tf.matmul(tf.transpose([v0_state]), h0_state) - tf.matmul(tf.transpose([v1_state]), h1_state)\n",
        "                W = W + alpha * delta_W\n",
        "\n",
        "                vb = vb + alpha * tf.reduce_mean(v0_state - v1_state, 0)\n",
        "                hb = hb + alpha * tf.reduce_mean(h0_state - h1_state, 0) \n",
        "\n",
        "                v0_state = v1_state\n",
        "\n",
        "            if i_sample == batchsize-1:\n",
        "                err = error(batch_x[i_sample], v1_state)\n",
        "                errors.append(err)\n",
        "                weights.append(W)\n",
        "                print ( 'Epoch: %d' % epoch, \n",
        "                       \"batch #: %i \" % batch_number, \"of %i\" % int(60e3/batchsize), \n",
        "                       \"sample #: %i\" % i_sample,\n",
        "                       'reconstruction error: %f' % err)\n",
        "\n"
      ],
      "metadata": {
        "colab": {
          "base_uri": "https://localhost:8080/"
        },
        "id": "mQ6YFedmEaVP",
        "outputId": "4be4fa2a-b856-4fdb-d302-4c2d8376d181"
      },
      "execution_count": 22,
      "outputs": [
        {
          "output_type": "stream",
          "name": "stdout",
          "text": [
            "Epoch: 0 batch #: 1  of 300 sample #: 199 reconstruction error: 0.152949\n",
            "Epoch: 0 batch #: 2  of 300 sample #: 199 reconstruction error: 0.249192\n",
            "Epoch: 0 batch #: 3  of 300 sample #: 199 reconstruction error: 0.100141\n",
            "Epoch: 0 batch #: 4  of 300 sample #: 199 reconstruction error: 0.100136\n",
            "Epoch: 0 batch #: 5  of 300 sample #: 199 reconstruction error: 0.118915\n",
            "Epoch: 0 batch #: 6  of 300 sample #: 199 reconstruction error: 0.211954\n",
            "Epoch: 0 batch #: 7  of 300 sample #: 199 reconstruction error: 0.097477\n",
            "Epoch: 0 batch #: 8  of 300 sample #: 199 reconstruction error: 0.129553\n",
            "Epoch: 0 batch #: 9  of 300 sample #: 199 reconstruction error: 0.098482\n",
            "Epoch: 0 batch #: 10  of 300 sample #: 199 reconstruction error: 0.161040\n",
            "Epoch: 0 batch #: 11  of 300 sample #: 199 reconstruction error: 0.105501\n",
            "Epoch: 0 batch #: 12  of 300 sample #: 199 reconstruction error: 0.146339\n",
            "Epoch: 0 batch #: 13  of 300 sample #: 199 reconstruction error: 0.070866\n",
            "Epoch: 0 batch #: 14  of 300 sample #: 199 reconstruction error: 0.105113\n",
            "Epoch: 0 batch #: 15  of 300 sample #: 199 reconstruction error: 0.095459\n",
            "Epoch: 0 batch #: 16  of 300 sample #: 199 reconstruction error: 0.124094\n",
            "Epoch: 0 batch #: 17  of 300 sample #: 199 reconstruction error: 0.065779\n",
            "Epoch: 0 batch #: 18  of 300 sample #: 199 reconstruction error: 0.132670\n",
            "Epoch: 0 batch #: 19  of 300 sample #: 199 reconstruction error: 0.129952\n",
            "Epoch: 0 batch #: 20  of 300 sample #: 199 reconstruction error: 0.114596\n",
            "Epoch: 0 batch #: 21  of 300 sample #: 199 reconstruction error: 0.090749\n",
            "Epoch: 0 batch #: 22  of 300 sample #: 199 reconstruction error: 0.076799\n",
            "Epoch: 0 batch #: 23  of 300 sample #: 199 reconstruction error: 0.100181\n",
            "Epoch: 0 batch #: 24  of 300 sample #: 199 reconstruction error: 0.120462\n",
            "Epoch: 0 batch #: 25  of 300 sample #: 199 reconstruction error: 0.094548\n",
            "Epoch: 0 batch #: 26  of 300 sample #: 199 reconstruction error: 0.104419\n",
            "Epoch: 0 batch #: 27  of 300 sample #: 199 reconstruction error: 0.105257\n",
            "Epoch: 0 batch #: 28  of 300 sample #: 199 reconstruction error: 0.085271\n",
            "Epoch: 0 batch #: 29  of 300 sample #: 199 reconstruction error: 0.090227\n",
            "Epoch: 0 batch #: 30  of 300 sample #: 199 reconstruction error: 0.075248\n",
            "Epoch: 0 batch #: 31  of 300 sample #: 199 reconstruction error: 0.094580\n",
            "Epoch: 0 batch #: 32  of 300 sample #: 199 reconstruction error: 0.112386\n",
            "Epoch: 0 batch #: 33  of 300 sample #: 199 reconstruction error: 0.072588\n",
            "Epoch: 0 batch #: 34  of 300 sample #: 199 reconstruction error: 0.086965\n",
            "Epoch: 0 batch #: 35  of 300 sample #: 199 reconstruction error: 0.082388\n",
            "Epoch: 0 batch #: 36  of 300 sample #: 199 reconstruction error: 0.093567\n",
            "Epoch: 0 batch #: 37  of 300 sample #: 199 reconstruction error: 0.079275\n",
            "Epoch: 0 batch #: 38  of 300 sample #: 199 reconstruction error: 0.057323\n",
            "Epoch: 0 batch #: 39  of 300 sample #: 199 reconstruction error: 0.095578\n",
            "Epoch: 0 batch #: 40  of 300 sample #: 199 reconstruction error: 0.121848\n",
            "Epoch: 0 batch #: 41  of 300 sample #: 199 reconstruction error: 0.086621\n",
            "Epoch: 0 batch #: 42  of 300 sample #: 199 reconstruction error: 0.069856\n",
            "Epoch: 0 batch #: 43  of 300 sample #: 199 reconstruction error: 0.124678\n",
            "Epoch: 0 batch #: 44  of 300 sample #: 199 reconstruction error: 0.091078\n",
            "Epoch: 0 batch #: 45  of 300 sample #: 199 reconstruction error: 0.049918\n",
            "Epoch: 0 batch #: 46  of 300 sample #: 199 reconstruction error: 0.040505\n",
            "Epoch: 0 batch #: 47  of 300 sample #: 199 reconstruction error: 0.036249\n",
            "Epoch: 0 batch #: 48  of 300 sample #: 199 reconstruction error: 0.044313\n",
            "Epoch: 0 batch #: 49  of 300 sample #: 199 reconstruction error: 0.119556\n",
            "Epoch: 0 batch #: 50  of 300 sample #: 199 reconstruction error: 0.043960\n",
            "Epoch: 0 batch #: 51  of 300 sample #: 199 reconstruction error: 0.060665\n",
            "Epoch: 0 batch #: 52  of 300 sample #: 199 reconstruction error: 0.035350\n",
            "Epoch: 0 batch #: 53  of 300 sample #: 199 reconstruction error: 0.099695\n",
            "Epoch: 0 batch #: 54  of 300 sample #: 199 reconstruction error: 0.062153\n",
            "Epoch: 0 batch #: 55  of 300 sample #: 199 reconstruction error: 0.105648\n",
            "Epoch: 0 batch #: 56  of 300 sample #: 199 reconstruction error: 0.048968\n",
            "Epoch: 0 batch #: 57  of 300 sample #: 199 reconstruction error: 0.038481\n",
            "Epoch: 0 batch #: 58  of 300 sample #: 199 reconstruction error: 0.073117\n",
            "Epoch: 0 batch #: 59  of 300 sample #: 199 reconstruction error: 0.051309\n",
            "Epoch: 0 batch #: 60  of 300 sample #: 199 reconstruction error: 0.099217\n",
            "Epoch: 0 batch #: 61  of 300 sample #: 199 reconstruction error: 0.079216\n",
            "Epoch: 0 batch #: 62  of 300 sample #: 199 reconstruction error: 0.084320\n",
            "Epoch: 0 batch #: 63  of 300 sample #: 199 reconstruction error: 0.050314\n",
            "Epoch: 0 batch #: 64  of 300 sample #: 199 reconstruction error: 0.088929\n",
            "Epoch: 0 batch #: 65  of 300 sample #: 199 reconstruction error: 0.084129\n",
            "Epoch: 0 batch #: 66  of 300 sample #: 199 reconstruction error: 0.056359\n",
            "Epoch: 0 batch #: 67  of 300 sample #: 199 reconstruction error: 0.042107\n",
            "Epoch: 0 batch #: 68  of 300 sample #: 199 reconstruction error: 0.061413\n",
            "Epoch: 0 batch #: 69  of 300 sample #: 199 reconstruction error: 0.080016\n",
            "Epoch: 0 batch #: 70  of 300 sample #: 199 reconstruction error: 0.088675\n",
            "Epoch: 0 batch #: 71  of 300 sample #: 199 reconstruction error: 0.077796\n",
            "Epoch: 0 batch #: 72  of 300 sample #: 199 reconstruction error: 0.062161\n",
            "Epoch: 0 batch #: 73  of 300 sample #: 199 reconstruction error: 0.078175\n",
            "Epoch: 0 batch #: 74  of 300 sample #: 199 reconstruction error: 0.097295\n",
            "Epoch: 0 batch #: 75  of 300 sample #: 199 reconstruction error: 0.045867\n",
            "Epoch: 0 batch #: 76  of 300 sample #: 199 reconstruction error: 0.079547\n",
            "Epoch: 0 batch #: 77  of 300 sample #: 199 reconstruction error: 0.115430\n",
            "Epoch: 0 batch #: 78  of 300 sample #: 199 reconstruction error: 0.097982\n",
            "Epoch: 0 batch #: 79  of 300 sample #: 199 reconstruction error: 0.097848\n",
            "Epoch: 0 batch #: 80  of 300 sample #: 199 reconstruction error: 0.038834\n",
            "Epoch: 0 batch #: 81  of 300 sample #: 199 reconstruction error: 0.056512\n",
            "Epoch: 0 batch #: 82  of 300 sample #: 199 reconstruction error: 0.049169\n",
            "Epoch: 0 batch #: 83  of 300 sample #: 199 reconstruction error: 0.081907\n",
            "Epoch: 0 batch #: 84  of 300 sample #: 199 reconstruction error: 0.078453\n",
            "Epoch: 0 batch #: 85  of 300 sample #: 199 reconstruction error: 0.051896\n",
            "Epoch: 0 batch #: 86  of 300 sample #: 199 reconstruction error: 0.094912\n",
            "Epoch: 0 batch #: 87  of 300 sample #: 199 reconstruction error: 0.076206\n",
            "Epoch: 0 batch #: 88  of 300 sample #: 199 reconstruction error: 0.028807\n",
            "Epoch: 0 batch #: 89  of 300 sample #: 199 reconstruction error: 0.063545\n",
            "Epoch: 0 batch #: 90  of 300 sample #: 199 reconstruction error: 0.063695\n",
            "Epoch: 0 batch #: 91  of 300 sample #: 199 reconstruction error: 0.057535\n",
            "Epoch: 0 batch #: 92  of 300 sample #: 199 reconstruction error: 0.079499\n",
            "Epoch: 0 batch #: 93  of 300 sample #: 199 reconstruction error: 0.121055\n",
            "Epoch: 0 batch #: 94  of 300 sample #: 199 reconstruction error: 0.116491\n",
            "Epoch: 0 batch #: 95  of 300 sample #: 199 reconstruction error: 0.063860\n",
            "Epoch: 0 batch #: 96  of 300 sample #: 199 reconstruction error: 0.053945\n",
            "Epoch: 0 batch #: 97  of 300 sample #: 199 reconstruction error: 0.107121\n",
            "Epoch: 0 batch #: 98  of 300 sample #: 199 reconstruction error: 0.094796\n",
            "Epoch: 0 batch #: 99  of 300 sample #: 199 reconstruction error: 0.053694\n",
            "Epoch: 0 batch #: 100  of 300 sample #: 199 reconstruction error: 0.090345\n",
            "Epoch: 0 batch #: 101  of 300 sample #: 199 reconstruction error: 0.065564\n",
            "Epoch: 0 batch #: 102  of 300 sample #: 199 reconstruction error: 0.071102\n",
            "Epoch: 0 batch #: 103  of 300 sample #: 199 reconstruction error: 0.089309\n",
            "Epoch: 0 batch #: 104  of 300 sample #: 199 reconstruction error: 0.066776\n",
            "Epoch: 0 batch #: 105  of 300 sample #: 199 reconstruction error: 0.061987\n",
            "Epoch: 0 batch #: 106  of 300 sample #: 199 reconstruction error: 0.113355\n",
            "Epoch: 0 batch #: 107  of 300 sample #: 199 reconstruction error: 0.120131\n",
            "Epoch: 0 batch #: 108  of 300 sample #: 199 reconstruction error: 0.062394\n",
            "Epoch: 0 batch #: 109  of 300 sample #: 199 reconstruction error: 0.115907\n",
            "Epoch: 0 batch #: 110  of 300 sample #: 199 reconstruction error: 0.065324\n",
            "Epoch: 0 batch #: 111  of 300 sample #: 199 reconstruction error: 0.104573\n",
            "Epoch: 0 batch #: 112  of 300 sample #: 199 reconstruction error: 0.037414\n",
            "Epoch: 0 batch #: 113  of 300 sample #: 199 reconstruction error: 0.087289\n",
            "Epoch: 0 batch #: 114  of 300 sample #: 199 reconstruction error: 0.070968\n",
            "Epoch: 0 batch #: 115  of 300 sample #: 199 reconstruction error: 0.059245\n",
            "Epoch: 0 batch #: 116  of 300 sample #: 199 reconstruction error: 0.043612\n",
            "Epoch: 0 batch #: 117  of 300 sample #: 199 reconstruction error: 0.044193\n",
            "Epoch: 0 batch #: 118  of 300 sample #: 199 reconstruction error: 0.072150\n",
            "Epoch: 0 batch #: 119  of 300 sample #: 199 reconstruction error: 0.112724\n",
            "Epoch: 0 batch #: 120  of 300 sample #: 199 reconstruction error: 0.082814\n",
            "Epoch: 0 batch #: 121  of 300 sample #: 199 reconstruction error: 0.048675\n",
            "Epoch: 0 batch #: 122  of 300 sample #: 199 reconstruction error: 0.090143\n",
            "Epoch: 0 batch #: 123  of 300 sample #: 199 reconstruction error: 0.066889\n",
            "Epoch: 0 batch #: 124  of 300 sample #: 199 reconstruction error: 0.079011\n",
            "Epoch: 0 batch #: 125  of 300 sample #: 199 reconstruction error: 0.048012\n",
            "Epoch: 0 batch #: 126  of 300 sample #: 199 reconstruction error: 0.097052\n",
            "Epoch: 0 batch #: 127  of 300 sample #: 199 reconstruction error: 0.083087\n",
            "Epoch: 0 batch #: 128  of 300 sample #: 199 reconstruction error: 0.072263\n",
            "Epoch: 0 batch #: 129  of 300 sample #: 199 reconstruction error: 0.056247\n",
            "Epoch: 0 batch #: 130  of 300 sample #: 199 reconstruction error: 0.074033\n",
            "Epoch: 0 batch #: 131  of 300 sample #: 199 reconstruction error: 0.058940\n",
            "Epoch: 0 batch #: 132  of 300 sample #: 199 reconstruction error: 0.064428\n",
            "Epoch: 0 batch #: 133  of 300 sample #: 199 reconstruction error: 0.062257\n",
            "Epoch: 0 batch #: 134  of 300 sample #: 199 reconstruction error: 0.099679\n",
            "Epoch: 0 batch #: 135  of 300 sample #: 199 reconstruction error: 0.102447\n",
            "Epoch: 0 batch #: 136  of 300 sample #: 199 reconstruction error: 0.107947\n",
            "Epoch: 0 batch #: 137  of 300 sample #: 199 reconstruction error: 0.065099\n",
            "Epoch: 0 batch #: 138  of 300 sample #: 199 reconstruction error: 0.081151\n",
            "Epoch: 0 batch #: 139  of 300 sample #: 199 reconstruction error: 0.096885\n",
            "Epoch: 0 batch #: 140  of 300 sample #: 199 reconstruction error: 0.071434\n",
            "Epoch: 0 batch #: 141  of 300 sample #: 199 reconstruction error: 0.088578\n",
            "Epoch: 0 batch #: 142  of 300 sample #: 199 reconstruction error: 0.071115\n",
            "Epoch: 0 batch #: 143  of 300 sample #: 199 reconstruction error: 0.064980\n",
            "Epoch: 0 batch #: 144  of 300 sample #: 199 reconstruction error: 0.073225\n",
            "Epoch: 0 batch #: 145  of 300 sample #: 199 reconstruction error: 0.093567\n",
            "Epoch: 0 batch #: 146  of 300 sample #: 199 reconstruction error: 0.098958\n",
            "Epoch: 0 batch #: 147  of 300 sample #: 199 reconstruction error: 0.056135\n",
            "Epoch: 0 batch #: 148  of 300 sample #: 199 reconstruction error: 0.083638\n",
            "Epoch: 0 batch #: 149  of 300 sample #: 199 reconstruction error: 0.035934\n",
            "Epoch: 0 batch #: 150  of 300 sample #: 199 reconstruction error: 0.039198\n",
            "Epoch: 0 batch #: 151  of 300 sample #: 199 reconstruction error: 0.105736\n",
            "Epoch: 0 batch #: 152  of 300 sample #: 199 reconstruction error: 0.077952\n",
            "Epoch: 0 batch #: 153  of 300 sample #: 199 reconstruction error: 0.057156\n",
            "Epoch: 0 batch #: 154  of 300 sample #: 199 reconstruction error: 0.081480\n",
            "Epoch: 0 batch #: 155  of 300 sample #: 199 reconstruction error: 0.054805\n",
            "Epoch: 0 batch #: 156  of 300 sample #: 199 reconstruction error: 0.062702\n",
            "Epoch: 0 batch #: 157  of 300 sample #: 199 reconstruction error: 0.084816\n",
            "Epoch: 0 batch #: 158  of 300 sample #: 199 reconstruction error: 0.067668\n",
            "Epoch: 0 batch #: 159  of 300 sample #: 199 reconstruction error: 0.061467\n",
            "Epoch: 0 batch #: 160  of 300 sample #: 199 reconstruction error: 0.069107\n",
            "Epoch: 0 batch #: 161  of 300 sample #: 199 reconstruction error: 0.082820\n",
            "Epoch: 0 batch #: 162  of 300 sample #: 199 reconstruction error: 0.118380\n",
            "Epoch: 0 batch #: 163  of 300 sample #: 199 reconstruction error: 0.040132\n",
            "Epoch: 0 batch #: 164  of 300 sample #: 199 reconstruction error: 0.053500\n",
            "Epoch: 0 batch #: 165  of 300 sample #: 199 reconstruction error: 0.078934\n",
            "Epoch: 0 batch #: 166  of 300 sample #: 199 reconstruction error: 0.061211\n",
            "Epoch: 0 batch #: 167  of 300 sample #: 199 reconstruction error: 0.079551\n",
            "Epoch: 0 batch #: 168  of 300 sample #: 199 reconstruction error: 0.055059\n",
            "Epoch: 0 batch #: 169  of 300 sample #: 199 reconstruction error: 0.035160\n",
            "Epoch: 0 batch #: 170  of 300 sample #: 199 reconstruction error: 0.060994\n",
            "Epoch: 0 batch #: 171  of 300 sample #: 199 reconstruction error: 0.032356\n",
            "Epoch: 0 batch #: 172  of 300 sample #: 199 reconstruction error: 0.052758\n",
            "Epoch: 0 batch #: 173  of 300 sample #: 199 reconstruction error: 0.085344\n",
            "Epoch: 0 batch #: 174  of 300 sample #: 199 reconstruction error: 0.100135\n",
            "Epoch: 0 batch #: 175  of 300 sample #: 199 reconstruction error: 0.056602\n",
            "Epoch: 0 batch #: 176  of 300 sample #: 199 reconstruction error: 0.049653\n",
            "Epoch: 0 batch #: 177  of 300 sample #: 199 reconstruction error: 0.037343\n",
            "Epoch: 0 batch #: 178  of 300 sample #: 199 reconstruction error: 0.114379\n",
            "Epoch: 0 batch #: 179  of 300 sample #: 199 reconstruction error: 0.069792\n",
            "Epoch: 0 batch #: 180  of 300 sample #: 199 reconstruction error: 0.092790\n",
            "Epoch: 0 batch #: 181  of 300 sample #: 199 reconstruction error: 0.104971\n",
            "Epoch: 0 batch #: 182  of 300 sample #: 199 reconstruction error: 0.061500\n",
            "Epoch: 0 batch #: 183  of 300 sample #: 199 reconstruction error: 0.100716\n",
            "Epoch: 0 batch #: 184  of 300 sample #: 199 reconstruction error: 0.047797\n",
            "Epoch: 0 batch #: 185  of 300 sample #: 199 reconstruction error: 0.075174\n",
            "Epoch: 0 batch #: 186  of 300 sample #: 199 reconstruction error: 0.107731\n",
            "Epoch: 0 batch #: 187  of 300 sample #: 199 reconstruction error: 0.051986\n",
            "Epoch: 0 batch #: 188  of 300 sample #: 199 reconstruction error: 0.108229\n",
            "Epoch: 0 batch #: 189  of 300 sample #: 199 reconstruction error: 0.078652\n",
            "Epoch: 0 batch #: 190  of 300 sample #: 199 reconstruction error: 0.061097\n",
            "Epoch: 0 batch #: 191  of 300 sample #: 199 reconstruction error: 0.112736\n",
            "Epoch: 0 batch #: 192  of 300 sample #: 199 reconstruction error: 0.106143\n",
            "Epoch: 0 batch #: 193  of 300 sample #: 199 reconstruction error: 0.092164\n",
            "Epoch: 0 batch #: 194  of 300 sample #: 199 reconstruction error: 0.079039\n",
            "Epoch: 0 batch #: 195  of 300 sample #: 199 reconstruction error: 0.033828\n",
            "Epoch: 0 batch #: 196  of 300 sample #: 199 reconstruction error: 0.036914\n",
            "Epoch: 0 batch #: 197  of 300 sample #: 199 reconstruction error: 0.063518\n",
            "Epoch: 0 batch #: 198  of 300 sample #: 199 reconstruction error: 0.100198\n",
            "Epoch: 0 batch #: 199  of 300 sample #: 199 reconstruction error: 0.065733\n",
            "Epoch: 0 batch #: 200  of 300 sample #: 199 reconstruction error: 0.102661\n",
            "Epoch: 0 batch #: 201  of 300 sample #: 199 reconstruction error: 0.089742\n",
            "Epoch: 0 batch #: 202  of 300 sample #: 199 reconstruction error: 0.030174\n",
            "Epoch: 0 batch #: 203  of 300 sample #: 199 reconstruction error: 0.096759\n",
            "Epoch: 0 batch #: 204  of 300 sample #: 199 reconstruction error: 0.054401\n",
            "Epoch: 0 batch #: 205  of 300 sample #: 199 reconstruction error: 0.029219\n",
            "Epoch: 0 batch #: 206  of 300 sample #: 199 reconstruction error: 0.057395\n",
            "Epoch: 0 batch #: 207  of 300 sample #: 199 reconstruction error: 0.067817\n",
            "Epoch: 0 batch #: 208  of 300 sample #: 199 reconstruction error: 0.057206\n",
            "Epoch: 0 batch #: 209  of 300 sample #: 199 reconstruction error: 0.036243\n",
            "Epoch: 0 batch #: 210  of 300 sample #: 199 reconstruction error: 0.093895\n",
            "Epoch: 0 batch #: 211  of 300 sample #: 199 reconstruction error: 0.077718\n",
            "Epoch: 0 batch #: 212  of 300 sample #: 199 reconstruction error: 0.093395\n",
            "Epoch: 0 batch #: 213  of 300 sample #: 199 reconstruction error: 0.103639\n",
            "Epoch: 0 batch #: 214  of 300 sample #: 199 reconstruction error: 0.081000\n",
            "Epoch: 0 batch #: 215  of 300 sample #: 199 reconstruction error: 0.029847\n",
            "Epoch: 0 batch #: 216  of 300 sample #: 199 reconstruction error: 0.087337\n",
            "Epoch: 0 batch #: 217  of 300 sample #: 199 reconstruction error: 0.097047\n",
            "Epoch: 0 batch #: 218  of 300 sample #: 199 reconstruction error: 0.063600\n",
            "Epoch: 0 batch #: 219  of 300 sample #: 199 reconstruction error: 0.072091\n",
            "Epoch: 0 batch #: 220  of 300 sample #: 199 reconstruction error: 0.061386\n",
            "Epoch: 0 batch #: 221  of 300 sample #: 199 reconstruction error: 0.103309\n",
            "Epoch: 0 batch #: 222  of 300 sample #: 199 reconstruction error: 0.099396\n",
            "Epoch: 0 batch #: 223  of 300 sample #: 199 reconstruction error: 0.064720\n",
            "Epoch: 0 batch #: 224  of 300 sample #: 199 reconstruction error: 0.067642\n",
            "Epoch: 0 batch #: 225  of 300 sample #: 199 reconstruction error: 0.061855\n",
            "Epoch: 0 batch #: 226  of 300 sample #: 199 reconstruction error: 0.125471\n",
            "Epoch: 0 batch #: 227  of 300 sample #: 199 reconstruction error: 0.077496\n",
            "Epoch: 0 batch #: 228  of 300 sample #: 199 reconstruction error: 0.060363\n",
            "Epoch: 0 batch #: 229  of 300 sample #: 199 reconstruction error: 0.077210\n",
            "Epoch: 0 batch #: 230  of 300 sample #: 199 reconstruction error: 0.030712\n",
            "Epoch: 0 batch #: 231  of 300 sample #: 199 reconstruction error: 0.028035\n",
            "Epoch: 0 batch #: 232  of 300 sample #: 199 reconstruction error: 0.071550\n",
            "Epoch: 0 batch #: 233  of 300 sample #: 199 reconstruction error: 0.071025\n",
            "Epoch: 0 batch #: 234  of 300 sample #: 199 reconstruction error: 0.059230\n",
            "Epoch: 0 batch #: 235  of 300 sample #: 199 reconstruction error: 0.076132\n",
            "Epoch: 0 batch #: 236  of 300 sample #: 199 reconstruction error: 0.103193\n",
            "Epoch: 0 batch #: 237  of 300 sample #: 199 reconstruction error: 0.078764\n",
            "Epoch: 0 batch #: 238  of 300 sample #: 199 reconstruction error: 0.104711\n",
            "Epoch: 0 batch #: 239  of 300 sample #: 199 reconstruction error: 0.030171\n",
            "Epoch: 0 batch #: 240  of 300 sample #: 199 reconstruction error: 0.096386\n",
            "Epoch: 0 batch #: 241  of 300 sample #: 199 reconstruction error: 0.083246\n",
            "Epoch: 0 batch #: 242  of 300 sample #: 199 reconstruction error: 0.056814\n",
            "Epoch: 0 batch #: 243  of 300 sample #: 199 reconstruction error: 0.069350\n",
            "Epoch: 0 batch #: 244  of 300 sample #: 199 reconstruction error: 0.087446\n",
            "Epoch: 0 batch #: 245  of 300 sample #: 199 reconstruction error: 0.056836\n",
            "Epoch: 0 batch #: 246  of 300 sample #: 199 reconstruction error: 0.083553\n",
            "Epoch: 0 batch #: 247  of 300 sample #: 199 reconstruction error: 0.048091\n",
            "Epoch: 0 batch #: 248  of 300 sample #: 199 reconstruction error: 0.068032\n",
            "Epoch: 0 batch #: 249  of 300 sample #: 199 reconstruction error: 0.041880\n",
            "Epoch: 0 batch #: 250  of 300 sample #: 199 reconstruction error: 0.074611\n",
            "Epoch: 0 batch #: 251  of 300 sample #: 199 reconstruction error: 0.039072\n",
            "Epoch: 0 batch #: 252  of 300 sample #: 199 reconstruction error: 0.060558\n",
            "Epoch: 0 batch #: 253  of 300 sample #: 199 reconstruction error: 0.058616\n",
            "Epoch: 0 batch #: 254  of 300 sample #: 199 reconstruction error: 0.032399\n",
            "Epoch: 0 batch #: 255  of 300 sample #: 199 reconstruction error: 0.053522\n",
            "Epoch: 0 batch #: 256  of 300 sample #: 199 reconstruction error: 0.076204\n",
            "Epoch: 0 batch #: 257  of 300 sample #: 199 reconstruction error: 0.078289\n",
            "Epoch: 0 batch #: 258  of 300 sample #: 199 reconstruction error: 0.081161\n",
            "Epoch: 0 batch #: 259  of 300 sample #: 199 reconstruction error: 0.079875\n",
            "Epoch: 0 batch #: 260  of 300 sample #: 199 reconstruction error: 0.083517\n",
            "Epoch: 0 batch #: 261  of 300 sample #: 199 reconstruction error: 0.029780\n",
            "Epoch: 0 batch #: 262  of 300 sample #: 199 reconstruction error: 0.043464\n",
            "Epoch: 0 batch #: 263  of 300 sample #: 199 reconstruction error: 0.071929\n",
            "Epoch: 0 batch #: 264  of 300 sample #: 199 reconstruction error: 0.070443\n",
            "Epoch: 0 batch #: 265  of 300 sample #: 199 reconstruction error: 0.075436\n",
            "Epoch: 0 batch #: 266  of 300 sample #: 199 reconstruction error: 0.039445\n",
            "Epoch: 0 batch #: 267  of 300 sample #: 199 reconstruction error: 0.060748\n",
            "Epoch: 0 batch #: 268  of 300 sample #: 199 reconstruction error: 0.030647\n",
            "Epoch: 0 batch #: 269  of 300 sample #: 199 reconstruction error: 0.082636\n",
            "Epoch: 0 batch #: 270  of 300 sample #: 199 reconstruction error: 0.081841\n",
            "Epoch: 0 batch #: 271  of 300 sample #: 199 reconstruction error: 0.051991\n",
            "Epoch: 0 batch #: 272  of 300 sample #: 199 reconstruction error: 0.049926\n",
            "Epoch: 0 batch #: 273  of 300 sample #: 199 reconstruction error: 0.057929\n",
            "Epoch: 0 batch #: 274  of 300 sample #: 199 reconstruction error: 0.060769\n",
            "Epoch: 0 batch #: 275  of 300 sample #: 199 reconstruction error: 0.087621\n",
            "Epoch: 0 batch #: 276  of 300 sample #: 199 reconstruction error: 0.060426\n",
            "Epoch: 0 batch #: 277  of 300 sample #: 199 reconstruction error: 0.082318\n",
            "Epoch: 0 batch #: 278  of 300 sample #: 199 reconstruction error: 0.048060\n",
            "Epoch: 0 batch #: 279  of 300 sample #: 199 reconstruction error: 0.047714\n",
            "Epoch: 0 batch #: 280  of 300 sample #: 199 reconstruction error: 0.079745\n",
            "Epoch: 0 batch #: 281  of 300 sample #: 199 reconstruction error: 0.064405\n",
            "Epoch: 0 batch #: 282  of 300 sample #: 199 reconstruction error: 0.091570\n",
            "Epoch: 0 batch #: 283  of 300 sample #: 199 reconstruction error: 0.058671\n",
            "Epoch: 0 batch #: 284  of 300 sample #: 199 reconstruction error: 0.049512\n",
            "Epoch: 0 batch #: 285  of 300 sample #: 199 reconstruction error: 0.060008\n",
            "Epoch: 0 batch #: 286  of 300 sample #: 199 reconstruction error: 0.081908\n",
            "Epoch: 0 batch #: 287  of 300 sample #: 199 reconstruction error: 0.081734\n",
            "Epoch: 0 batch #: 288  of 300 sample #: 199 reconstruction error: 0.032144\n",
            "Epoch: 0 batch #: 289  of 300 sample #: 199 reconstruction error: 0.077484\n",
            "Epoch: 0 batch #: 290  of 300 sample #: 199 reconstruction error: 0.082927\n",
            "Epoch: 0 batch #: 291  of 300 sample #: 199 reconstruction error: 0.103471\n",
            "Epoch: 0 batch #: 292  of 300 sample #: 199 reconstruction error: 0.069087\n",
            "Epoch: 0 batch #: 293  of 300 sample #: 199 reconstruction error: 0.061127\n",
            "Epoch: 0 batch #: 294  of 300 sample #: 199 reconstruction error: 0.082246\n",
            "Epoch: 0 batch #: 295  of 300 sample #: 199 reconstruction error: 0.064383\n",
            "Epoch: 0 batch #: 296  of 300 sample #: 199 reconstruction error: 0.038633\n",
            "Epoch: 0 batch #: 297  of 300 sample #: 199 reconstruction error: 0.093967\n",
            "Epoch: 0 batch #: 298  of 300 sample #: 199 reconstruction error: 0.050441\n",
            "Epoch: 0 batch #: 299  of 300 sample #: 199 reconstruction error: 0.051786\n",
            "Epoch: 0 batch #: 300  of 300 sample #: 199 reconstruction error: 0.083065\n"
          ]
        }
      ]
    },
    {
      "cell_type": "code",
      "source": [
        "plt.plot(errors)\n",
        "plt.xlabel(\"Batch Number\")\n",
        "plt.ylabel(\"Error\")\n",
        "plt.show()"
      ],
      "metadata": {
        "colab": {
          "base_uri": "https://localhost:8080/",
          "height": 449
        },
        "id": "zfIu5idDGqcr",
        "outputId": "22d842ba-759e-46a4-fc9d-bd27685ebe2d"
      },
      "execution_count": 23,
      "outputs": [
        {
          "output_type": "display_data",
          "data": {
            "text/plain": [
              "<Figure size 640x480 with 1 Axes>"
            ],
            "image/png": "[encoded data removed]"
          },
          "metadata": {}
        }
      ]
    },
    {
      "cell_type": "code",
      "source": [
        "print(W.numpy()) # a weight matrix of shape (50, 784) final"
      ],
      "metadata": {
        "colab": {
          "base_uri": "https://localhost:8080/"
        },
        "id": "7FaLQO_oHTNe",
        "outputId": "d3a09e7a-13b4-42e1-beb0-f31ada8316b2"
      },
      "execution_count": 24,
      "outputs": [
        {
          "output_type": "stream",
          "name": "stdout",
          "text": [
            "[[-0.42999986 -0.33999994 -0.19000001 ... -0.29       -0.45999983\n",
            "  -0.20000002]\n",
            " [-0.36999992 -0.33999994 -0.22000003 ... -0.32999995 -0.46999982\n",
            "  -0.21000002]\n",
            " [-0.34999993 -0.33999994 -0.20000002 ... -0.29       -0.44999984\n",
            "  -0.24000004]\n",
            " ...\n",
            " [-0.40999988 -0.30999997 -0.18       ... -0.26000002 -0.3899999\n",
            "  -0.16      ]\n",
            " [-0.46999982 -0.29       -0.17       ... -0.29       -0.4899998\n",
            "  -0.14999999]\n",
            " [-0.3899999  -0.30999997 -0.17       ... -0.28       -0.5199998\n",
            "  -0.21000002]]\n"
          ]
        }
      ]
    },
    {
      "cell_type": "code",
      "source": [
        "!wget -O destructed3.jpg  https://ibm.box.com/shared/static/vvm1b63uvuxq88vbw9znpwu5ol380mco.jpg\n",
        "img = Image.open('destructed3.jpg')\n",
        "img"
      ],
      "metadata": {
        "colab": {
          "base_uri": "https://localhost:8080/",
          "height": 652
        },
        "id": "x_1PLrl7HVkO",
        "outputId": "d3e9accd-d5a8-4e2d-9bdb-6630bd0a4e7c"
      },
      "execution_count": 25,
      "outputs": [
        {
          "output_type": "stream",
          "name": "stdout",
          "text": [
            "--2023-06-08 08:30:49--  https://ibm.box.com/shared/static/vvm1b63uvuxq88vbw9znpwu5ol380mco.jpg\n",
            "Resolving ibm.box.com (ibm.box.com)... 74.112.186.144\n",
            "Connecting to ibm.box.com (ibm.box.com)|74.112.186.144|:443... connected.\n",
            "HTTP request sent, awaiting response... 301 Moved Permanently\n",
            "Location: /public/static/vvm1b63uvuxq88vbw9znpwu5ol380mco.jpg [following]\n",
            "--2023-06-08 08:30:49--  https://ibm.box.com/public/static/vvm1b63uvuxq88vbw9znpwu5ol380mco.jpg\n",
            "Reusing existing connection to ibm.box.com:443.\n",
            "HTTP request sent, awaiting response... 301 Moved Permanently\n",
            "Location: https://ibm.ent.box.com/public/static/vvm1b63uvuxq88vbw9znpwu5ol380mco.jpg [following]\n",
            "--2023-06-08 08:30:49--  https://ibm.ent.box.com/public/static/vvm1b63uvuxq88vbw9znpwu5ol380mco.jpg\n",
            "Resolving ibm.ent.box.com (ibm.ent.box.com)... 74.112.186.144\n",
            "Connecting to ibm.ent.box.com (ibm.ent.box.com)|74.112.186.144|:443... connected.\n",
            "HTTP request sent, awaiting response... 302 Found\n",
            "Location: https://public.boxcloud.com/d/1/b1!HHHgXonJuHgCc8w-zBv5a3LpB5zEaJWTKcPA7GVX8sHIYaUlpV_h2Zho6s5vR5UsRynB7xjbTLPWK_9S2VqzpQ8fZCn8sFkzXjwd9TcCzWurTMstHdsYmdOJrt7SgVYmJYiH_xMJUIYU88rT4Z4oRyEhagqV38O2Zxvenc6Tfa-sG9IbbRPG5P0Pu3il44XJiIN-RQzbL-zFVaLgiaWWOw1Jc2RNtHbcJgH_3Z3HYBNcGZt7oYnGHQnO494QRuNLdhlrJPzP67Koj4RLPYJUF7J99vzOYAS8RDx-MLQuKTIr_gj6HVbNeHbtCLPhNNj7aLrLrcdlEdLkrBH2y-jIAsy_LeXWf5qjWlO6H7ZBSMbOSDJDNaeJJbckky_LFVc44isk2ChVE1pmf5H4dbpym-UwaXKCg3chteGJ7CtUQcTchy0A0nROEovYFoRwgZC94dBAuMYX73mGt4Hx54OT4MCElwBQXqNmBcnaXdgOqrNgu1bNW2L6qL3Lvcpvb_Z_rh7HkrbmVChF--wGPUKv38HcueIptDjCPggps3VMyclPg8lc23W8uuoCN4UoHRD1gUab1jf4lDWjL3jhqBWx1PNPzKQI5541pUxkCEhe4ROjWxgmOuMUukhB26lZ0o8sZJrzPmrZ3BrorgBbVb7FbQjvpvADFRNnhCAOSRsYdTCbKc9T6_nhHQxej4cB6aNdZARyenH7NPjZ_Fouxn4EIfagmhJPOk1LNZHNdvyMGSKupY_zoz-J87pi8clc6SgMxpn2WhIFaw9umT3VT6LYdUkeV-dxgf8hZBPte8djzKuvL6-8bYUDnE2CW_8RNiLFntPXKst-AnHWDjNWOWqh7XLNvedtDlVH32XY25oWu1Os2AguIPmiYMa7o5NLA2k1QC-liXLD9P-6-JXxSoE7Fpct-Shh0Nmf7YOaGT7EV6j9hMvSzbuUSw68VAIs9gRz5xWLl2Adc7RSjwSql6LuENxRWM0LiD1DRPez6qeQDnHO5C7lM6ydIJg-LgaOgNwr3J8qErZbqG08uDA7IkjEYUVSFNkqPbsOTeJi1abfsuAlCU1V_CBcXXD7Q6s2ZOYduILpWjswj3nPyoslMvgR92QqdnUJZr0V0FZKCY58MJDuFJSr3ubQ9Kfehq9fUttg4NNnP_jI_tp-DUW9kBTdApvS5iNAFPAKe3XHecodMZHw08B-2nWfZ46Q1TKSBlxLEeou7D9T4h6MpPZf_NxmKmOqBujbZRweZhlKT5IThXKbuSN-ADdJWuwKHKUGWO16I3fPleVgtBAgAv0QPXjoC9EacJ0PJtiGSRedAh7yol9HIgcFjO93V1fFyFg1pTVtJVEB4LIStrR3IxKEhtEiMPzs8SdgCSFDmNbMLn_sqFIRggDwzwSoITMQBTaS8vAUlGhfUxsBuDlY7Fv6jfx1iczppXBgBqwk6Q../download [following]\n",
            "--2023-06-08 08:30:50--  https://public.boxcloud.com/d/1/b1!HHHgXonJuHgCc8w-zBv5a3LpB5zEaJWTKcPA7GVX8sHIYaUlpV_h2Zho6s5vR5UsRynB7xjbTLPWK_9S2VqzpQ8fZCn8sFkzXjwd9TcCzWurTMstHdsYmdOJrt7SgVYmJYiH_xMJUIYU88rT4Z4oRyEhagqV38O2Zxvenc6Tfa-sG9IbbRPG5P0Pu3il44XJiIN-RQzbL-zFVaLgiaWWOw1Jc2RNtHbcJgH_3Z3HYBNcGZt7oYnGHQnO494QRuNLdhlrJPzP67Koj4RLPYJUF7J99vzOYAS8RDx-MLQuKTIr_gj6HVbNeHbtCLPhNNj7aLrLrcdlEdLkrBH2y-jIAsy_LeXWf5qjWlO6H7ZBSMbOSDJDNaeJJbckky_LFVc44isk2ChVE1pmf5H4dbpym-UwaXKCg3chteGJ7CtUQcTchy0A0nROEovYFoRwgZC94dBAuMYX73mGt4Hx54OT4MCElwBQXqNmBcnaXdgOqrNgu1bNW2L6qL3Lvcpvb_Z_rh7HkrbmVChF--wGPUKv38HcueIptDjCPggps3VMyclPg8lc23W8uuoCN4UoHRD1gUab1jf4lDWjL3jhqBWx1PNPzKQI5541pUxkCEhe4ROjWxgmOuMUukhB26lZ0o8sZJrzPmrZ3BrorgBbVb7FbQjvpvADFRNnhCAOSRsYdTCbKc9T6_nhHQxej4cB6aNdZARyenH7NPjZ_Fouxn4EIfagmhJPOk1LNZHNdvyMGSKupY_zoz-J87pi8clc6SgMxpn2WhIFaw9umT3VT6LYdUkeV-dxgf8hZBPte8djzKuvL6-8bYUDnE2CW_8RNiLFntPXKst-AnHWDjNWOWqh7XLNvedtDlVH32XY25oWu1Os2AguIPmiYMa7o5NLA2k1QC-liXLD9P-6-JXxSoE7Fpct-Shh0Nmf7YOaGT7EV6j9hMvSzbuUSw68VAIs9gRz5xWLl2Adc7RSjwSql6LuENxRWM0LiD1DRPez6qeQDnHO5C7lM6ydIJg-LgaOgNwr3J8qErZbqG08uDA7IkjEYUVSFNkqPbsOTeJi1abfsuAlCU1V_CBcXXD7Q6s2ZOYduILpWjswj3nPyoslMvgR92QqdnUJZr0V0FZKCY58MJDuFJSr3ubQ9Kfehq9fUttg4NNnP_jI_tp-DUW9kBTdApvS5iNAFPAKe3XHecodMZHw08B-2nWfZ46Q1TKSBlxLEeou7D9T4h6MpPZf_NxmKmOqBujbZRweZhlKT5IThXKbuSN-ADdJWuwKHKUGWO16I3fPleVgtBAgAv0QPXjoC9EacJ0PJtiGSRedAh7yol9HIgcFjO93V1fFyFg1pTVtJVEB4LIStrR3IxKEhtEiMPzs8SdgCSFDmNbMLn_sqFIRggDwzwSoITMQBTaS8vAUlGhfUxsBuDlY7Fv6jfx1iczppXBgBqwk6Q../download\n",
            "Resolving public.boxcloud.com (public.boxcloud.com)... 74.112.186.128\n",
            "Connecting to public.boxcloud.com (public.boxcloud.com)|74.112.186.128|:443... connected.\n",
            "HTTP request sent, awaiting response... 200 OK\n",
            "Length: 24383 (24K) [image/jpeg]\n",
            "Saving to: ‘destructed3.jpg’\n",
            "\n",
            "destructed3.jpg     100%[===================>]  23.81K  --.-KB/s    in 0.03s   \n",
            "\n",
            "2023-06-08 08:30:50 (812 KB/s) - ‘destructed3.jpg’ saved [24383/24383]\n",
            "\n"
          ]
        },
        {
          "output_type": "execute_result",
          "data": {
            "text/plain": [
              "<PIL.JpegImagePlugin.JpegImageFile image mode=RGB size=181x181 at 0x7F77139BFDF0>"
            ],
            "image/png": "[encoded data removed]"
          },
          "metadata": {},
          "execution_count": 25
        }
      ]
    },
    {
      "cell_type": "code",
      "source": [
        "# convert the image to a 1d numpy array\n",
        "sample_case = np.array(img.convert('I').resize((28,28))).ravel().reshape((1, -1))/255.0\n",
        "\n",
        "sample_case = tf.cast(sample_case, dtype=tf.float32)"
      ],
      "metadata": {
        "id": "VGN6oGGSIbxh"
      },
      "execution_count": 27,
      "outputs": []
    },
    {
      "cell_type": "code",
      "source": [
        "hh0_p = tf.nn.sigmoid(tf.matmul(sample_case, W) + hb)\n",
        "hh0_s = tf.round(hh0_p)\n",
        "\n",
        "print(\"Probability nodes in hidden layer:\" ,hh0_p)\n",
        "print(\"activated nodes in hidden layer:\" ,hh0_s)\n",
        "\n",
        "# reconstruct\n",
        "vv1_p = tf.nn.sigmoid(tf.matmul(hh0_s, tf.transpose(W)) + vb)\n",
        "\n",
        "print(vv1_p)\n",
        "#rec_prob = sess.run(vv1_p, feed_dict={ hh0_s: hh0_s_val, W: prv_w, vb: prv_vb})"
      ],
      "metadata": {
        "colab": {
          "base_uri": "https://localhost:8080/"
        },
        "id": "_4mMeiklITb6",
        "outputId": "addfb968-8ef4-4d31-a695-22a4232ebb78"
      },
      "execution_count": 28,
      "outputs": [
        {
          "output_type": "stream",
          "name": "stdout",
          "text": [
            "Probability nodes in hidden layer: tf.Tensor(\n",
            "[[1.00000000e+00 6.47064388e-01 2.47405318e-10 1.00000000e+00\n",
            "  9.99881685e-01 3.85045499e-01 1.91215631e-02 5.37376764e-06\n",
            "  9.99999404e-01 9.99801755e-01 1.16938178e-11 9.99998868e-01\n",
            "  9.99621987e-01 1.00000000e+00 4.62528795e-01 8.08811074e-11\n",
            "  3.09194775e-07 9.99998212e-01 1.00000000e+00 4.86413967e-08\n",
            "  1.19772056e-04 4.74345285e-10 3.51110905e-01 8.75887362e-14\n",
            "  1.00000000e+00 1.69188413e-11 4.06732084e-04 1.44996748e-05\n",
            "  9.89528596e-01 4.69734405e-05 7.63662408e-14 6.20519955e-08\n",
            "  1.87580351e-09 9.11722905e-17 7.17827827e-02 1.23689272e-08\n",
            "  9.81641352e-01 6.50004210e-08 2.13091295e-10 8.42963398e-01\n",
            "  9.11637432e-10 1.16801396e-01 5.30982716e-03 8.28949887e-09\n",
            "  9.99267578e-01 6.29620314e-11 9.91371095e-01 2.01447145e-03\n",
            "  6.79790735e-01 2.92761024e-11]], shape=(1, 50), dtype=float32)\n",
            "activated nodes in hidden layer: tf.Tensor(\n",
            "[[1. 1. 0. 1. 1. 0. 0. 0. 1. 1. 0. 1. 1. 1. 0. 0. 0. 1. 1. 0. 0. 0. 0. 0.\n",
            "  1. 0. 0. 0. 1. 0. 0. 0. 0. 0. 0. 0. 1. 0. 0. 1. 0. 0. 0. 0. 1. 0. 1. 0.\n",
            "  1. 0.]], shape=(1, 50), dtype=float32)\n",
            "tf.Tensor(\n",
            "[[2.08852420e-04 2.37840184e-04 1.57855364e-04 1.69299354e-04\n",
            "  1.74454326e-04 2.33131635e-04 1.92798194e-04 2.04717609e-04\n",
            "  2.19558206e-04 1.44270874e-04 1.88981168e-04 1.81572657e-04\n",
            "  1.82500560e-04 2.11083432e-04 1.91037456e-04 1.67970371e-04\n",
            "  1.72718908e-04 1.85239711e-04 2.33131854e-04 1.64296493e-04\n",
            "  2.21764349e-04 1.18122109e-04 1.83397176e-04 1.72718734e-04\n",
            "  1.31855384e-04 1.74454326e-04 1.57855524e-04 1.37235649e-04\n",
            "  2.26243181e-04 1.57855364e-04 1.09041444e-04 1.67614868e-04\n",
            "  1.41947952e-04 1.55137168e-04 2.12928746e-04 1.98832480e-04\n",
            "  1.83699609e-04 1.74659726e-04 3.05468333e-04 3.29891278e-04\n",
            "  5.38649096e-04 3.75215837e-04 3.68553796e-04 3.63403815e-04\n",
            "  2.96815851e-04 7.11155124e-04 2.57311476e-04 2.56988569e-04\n",
            "  2.07554927e-04 1.64019759e-04 1.94919063e-04 2.46392330e-04\n",
            "  1.59441610e-04 1.83397002e-04 1.90880135e-04 1.51666725e-04\n",
            "  2.37840184e-04 1.19309145e-04 2.70871416e-04 1.85290744e-04\n",
            "  2.30604768e-04 2.66437477e-04 1.26879851e-04 2.96838465e-04\n",
            "  1.92157138e-04 2.49131554e-04 2.42653783e-04 1.03403698e-04\n",
            "  3.55834636e-04 3.62665451e-04 4.93628555e-04 4.42925579e-04\n",
            "  1.98655296e-04 7.85924276e-05 5.82172179e-05 7.48330203e-05\n",
            "  9.23939078e-05 1.31995286e-04 4.86517354e-04 5.22737042e-04\n",
            "  1.88175633e-04 2.44909053e-04 2.57644075e-04 3.44292610e-04\n",
            "  2.15211490e-04 1.42835532e-04 2.78299092e-04 1.80331059e-04\n",
            "  2.55872728e-04 2.49209494e-04 3.71717353e-04 3.32110620e-04\n",
            "  1.79436611e-04 2.01811126e-04 1.60151350e-04 2.87135656e-04\n",
            "  3.60641105e-04 8.82417604e-04 5.17383683e-04 7.65062985e-04\n",
            "  7.65535922e-04 4.42081917e-04 4.12626774e-04 2.29879006e-04\n",
            "  3.46885005e-04 3.11687909e-04 3.38498765e-04 4.21975186e-04\n",
            "  3.29000206e-04 3.22727748e-04 2.97152525e-04 2.30812628e-04\n",
            "  1.98668742e-04 1.87262791e-04 2.83808156e-04 2.38625202e-04\n",
            "  3.21262836e-04 8.70754360e-04 7.67328194e-04 4.68570128e-04\n",
            "  1.02891750e-03 2.76544620e-03 2.39228853e-03 3.86492210e-03\n",
            "  8.17857496e-03 1.20973643e-02 3.28321755e-02 4.30661701e-02\n",
            "  2.57416964e-02 3.66367921e-02 2.27967296e-02 1.75945945e-02\n",
            "  5.57213323e-03 4.07391274e-03 2.39839824e-03 2.71456339e-03\n",
            "  1.08242093e-03 9.09708906e-04 1.71854146e-04 1.66045123e-04\n",
            "  1.85240060e-04 2.23992480e-04 2.33745057e-04 3.30486218e-04\n",
            "  1.09054369e-03 1.20727485e-03 1.37805019e-03 4.67794435e-03\n",
            "  2.33435556e-02 5.02459630e-02 3.27183567e-02 8.72918516e-02\n",
            "  2.40245059e-01 4.62232172e-01 6.56689048e-01 7.10598767e-01\n",
            "  8.15328479e-01 6.74950302e-01 5.87480247e-01 3.50726545e-01\n",
            "  1.57599181e-01 6.61130548e-02 2.10918728e-02 7.62924552e-03\n",
            "  2.22926238e-03 7.00753531e-04 3.47303139e-04 1.90260165e-04\n",
            "  1.74454151e-04 2.07961988e-04 2.26731863e-04 1.10837491e-03\n",
            "  2.70415423e-03 3.66492895e-03 6.61038700e-03 1.79626327e-02\n",
            "  4.65921536e-02 1.26289979e-01 2.51629263e-01 6.24909341e-01\n",
            "  8.33687425e-01 9.39790249e-01 9.10660088e-01 8.93451512e-01\n",
            "  7.92819083e-01 8.29015791e-01 8.33528817e-01 8.00158024e-01\n",
            "  4.76284653e-01 1.83245584e-01 3.15443352e-02 1.01682181e-02\n",
            "  3.04231374e-03 9.94831789e-04 8.27868120e-04 1.99394621e-04\n",
            "  1.95661822e-04 2.01027171e-04 4.92001825e-04 2.27968511e-03\n",
            "  2.92415172e-03 4.79062973e-03 1.43097723e-02 3.29083577e-02\n",
            "  7.94646889e-02 2.58508801e-01 5.60840845e-01 8.42366636e-01\n",
            "  9.45546865e-01 8.82235229e-01 8.37424695e-01 7.50522554e-01\n",
            "  4.88395602e-01 4.17455316e-01 6.13615572e-01 7.00382769e-01\n",
            "  8.53331566e-01 3.87944698e-01 8.56720358e-02 1.74431298e-02\n",
            "  2.60107429e-03 3.03608656e-04 7.68200029e-04 1.71316045e-04\n",
            "  1.58892522e-04 3.79193138e-04 1.24604383e-03 2.22618459e-03\n",
            "  1.67639414e-03 2.05902685e-03 8.62185098e-03 2.69057434e-02\n",
            "  1.39476255e-01 3.87589097e-01 5.93917429e-01 6.47774994e-01\n",
            "  7.73949265e-01 8.42398465e-01 2.91744173e-01 1.15625322e-01\n",
            "  7.28666931e-02 6.99672997e-02 3.33749801e-01 7.79420912e-01\n",
            "  8.56315315e-01 7.36843050e-01 1.15018144e-01 2.44315676e-02\n",
            "  1.44992035e-03 3.72974609e-04 4.26064653e-04 2.20706293e-04\n",
            "  1.45754966e-04 2.29747311e-04 1.04729529e-03 1.28539721e-03\n",
            "  3.07036424e-03 4.08348860e-03 1.14250258e-02 1.81961711e-02\n",
            "  8.44850093e-02 1.08402021e-01 4.02038455e-01 3.66352141e-01\n",
            "  3.47389579e-01 1.46638587e-01 4.55636010e-02 1.90033261e-02\n",
            "  2.99666803e-02 1.77425787e-01 7.04144359e-01 8.75229120e-01\n",
            "  8.67185235e-01 6.62938595e-01 3.49440575e-01 1.33095160e-02\n",
            "  1.53281563e-03 3.67848086e-04 7.54713430e-04 3.48803063e-04\n",
            "  3.09494353e-04 2.76309904e-04 1.05507800e-03 1.26979139e-03\n",
            "  3.54742026e-03 3.33349919e-03 7.66462367e-03 1.32534122e-02\n",
            "  2.71797404e-02 4.30859961e-02 1.24980547e-01 1.75419986e-01\n",
            "  1.20128632e-01 6.65957257e-02 2.20558159e-02 4.13647704e-02\n",
            "  1.30258873e-01 6.10324204e-01 8.70107234e-01 9.43216205e-01\n",
            "  9.09743488e-01 7.28646159e-01 9.31898728e-02 8.38260539e-03\n",
            "  1.17643038e-03 5.67407638e-04 6.90938148e-04 2.18819434e-04\n",
            "  1.74126442e-04 3.72606621e-04 9.99435899e-04 2.53335410e-03\n",
            "  5.12758037e-03 3.09693674e-03 7.18181394e-03 9.34569072e-03\n",
            "  2.99443561e-03 1.17130959e-02 1.72356926e-02 8.95823240e-02\n",
            "  1.69813916e-01 1.58562422e-01 1.32654995e-01 2.07947552e-01\n",
            "  6.29262924e-01 9.00588810e-01 9.16482508e-01 9.52765882e-01\n",
            "  8.59205306e-01 4.29015964e-01 2.52189469e-02 2.65796063e-03\n",
            "  7.40132411e-04 6.95310300e-04 3.19418235e-04 2.45485775e-04\n",
            "  1.84855409e-04 2.91304808e-04 5.80337830e-04 8.87737668e-04\n",
            "  8.65182199e-04 2.79774703e-03 2.82974448e-03 1.04083901e-03\n",
            "  1.40917499e-03 1.43340719e-03 2.15555150e-02 2.43548468e-01\n",
            "  7.04372227e-01 6.58187211e-01 6.36974156e-01 8.39241743e-01\n",
            "  9.06485081e-01 8.61001313e-01 8.63436282e-01 7.89317787e-01\n",
            "  4.52619404e-01 5.89675121e-02 4.91449190e-03 6.01231935e-04\n",
            "  4.62801399e-04 5.31706261e-04 3.20445804e-04 1.35668190e-04\n",
            "  4.40411648e-04 2.08239595e-04 5.48190437e-04 5.28671604e-04\n",
            "  1.28822483e-03 2.81950622e-03 3.70732858e-03 1.37201452e-03\n",
            "  6.38884783e-04 2.11690180e-03 5.25125563e-02 6.63311183e-01\n",
            "  8.44418764e-01 9.21531916e-01 9.31644857e-01 8.48312914e-01\n",
            "  9.51657891e-01 8.47762764e-01 6.00747466e-01 5.15147448e-01\n",
            "  1.29698873e-01 2.62050778e-02 3.53914360e-03 9.43366264e-04\n",
            "  2.79272994e-04 2.35696964e-04 3.65460379e-04 3.21754807e-04\n",
            "  1.48798339e-04 2.52642785e-04 3.52721807e-04 9.53389157e-04\n",
            "  1.93727540e-03 4.09160275e-03 2.70398962e-03 1.00183929e-03\n",
            "  9.96202347e-04 5.87967783e-03 1.00934558e-01 5.29379368e-01\n",
            "  8.57383609e-01 8.79217446e-01 9.15763676e-01 9.21739101e-01\n",
            "  9.33960736e-01 7.08614528e-01 4.86985832e-01 2.68171668e-01\n",
            "  7.11185113e-02 1.51166441e-02 2.39518750e-03 4.63676406e-04\n",
            "  2.63086258e-04 3.27251852e-04 3.14743898e-04 2.27640106e-04\n",
            "  1.71975611e-04 2.29828409e-04 3.49077018e-04 7.57885748e-04\n",
            "  3.27022723e-03 4.17016540e-03 2.36253394e-03 1.61562592e-03\n",
            "  1.72494841e-03 3.59555264e-03 3.21551748e-02 1.59274548e-01\n",
            "  1.98967233e-01 3.73485833e-01 4.16164875e-01 6.40878260e-01\n",
            "  6.94077373e-01 7.02221513e-01 6.45357311e-01 2.91640937e-01\n",
            "  4.12785485e-02 1.18103549e-02 3.10380477e-03 4.20925382e-04\n",
            "  1.84481061e-04 1.82795047e-04 2.52395752e-04 2.19696216e-04\n",
            "  1.46321850e-04 1.32238682e-04 5.48148178e-04 2.51233694e-03\n",
            "  9.58377775e-03 6.31802529e-03 4.09509055e-03 1.44739228e-03\n",
            "  1.54174271e-03 3.79050151e-03 6.98483875e-03 2.81884354e-02\n",
            "  4.73601595e-02 3.52723114e-02 1.37170404e-01 1.80964977e-01\n",
            "  3.80366653e-01 6.12846255e-01 7.47298658e-01 5.91162562e-01\n",
            "  5.00882901e-02 9.03185550e-03 4.78283130e-03 7.23170582e-04\n",
            "  1.88784135e-04 1.20665180e-04 3.12469230e-04 2.22548304e-04\n",
            "  2.08852420e-04 3.02287284e-04 9.49510140e-04 9.49069578e-03\n",
            "  3.01191509e-02 3.46012972e-02 2.26248652e-02 2.71396176e-03\n",
            "  2.68539460e-03 3.01819923e-03 3.76918982e-03 5.55938389e-03\n",
            "  7.70666311e-03 1.81963053e-02 2.14618463e-02 5.89645505e-02\n",
            "  9.00254324e-02 3.50744218e-01 6.77347720e-01 6.15523636e-01\n",
            "  1.46062389e-01 2.17331778e-02 1.86309940e-03 4.56590031e-04\n",
            "  1.24623053e-04 1.96879570e-04 4.53534274e-04 2.29189653e-04\n",
            "  2.12195300e-04 2.47757911e-04 1.01677468e-03 1.41303046e-02\n",
            "  8.06648061e-02 4.01741937e-02 6.72132671e-02 2.43586749e-02\n",
            "  1.53735811e-02 2.31813453e-02 8.17271695e-03 5.60203521e-03\n",
            "  5.84297394e-03 5.86715387e-03 1.26619395e-02 1.91119909e-02\n",
            "  1.17664650e-01 5.29110074e-01 8.19140673e-01 8.42648506e-01\n",
            "  2.68675029e-01 1.65234338e-02 9.24123626e-04 3.50416551e-04\n",
            "  1.46927661e-04 1.58787851e-04 2.76428967e-04 1.64954996e-04\n",
            "  1.77351030e-04 2.82000459e-04 2.10329704e-03 5.67366853e-02\n",
            "  1.02967046e-01 1.98719159e-01 1.24873303e-01 3.65988389e-02\n",
            "  6.86986297e-02 5.92457354e-02 2.80391220e-02 8.27711448e-03\n",
            "  1.35319587e-02 1.34575348e-02 1.67665128e-02 3.40269990e-02\n",
            "  2.43286863e-01 8.43681693e-01 9.15295601e-01 7.75006056e-01\n",
            "  1.00566961e-01 5.03777480e-03 5.50135563e-04 1.72338725e-04\n",
            "  1.56784008e-04 2.17776251e-04 3.96787917e-04 1.77267517e-04\n",
            "  1.69299354e-04 1.56150374e-04 3.32612940e-03 9.16063264e-02\n",
            "  2.72546738e-01 1.82549372e-01 2.56496489e-01 2.61204779e-01\n",
            "  2.82429814e-01 1.84676081e-01 1.28532007e-01 2.84107067e-02\n",
            "  2.79985461e-02 2.19506081e-02 6.75170273e-02 2.21303478e-01\n",
            "  7.36693442e-01 9.40392017e-01 8.94531250e-01 3.92015547e-01\n",
            "  2.09046490e-02 1.88978587e-03 3.94698873e-04 3.00013984e-04\n",
            "  1.94166321e-04 2.22139570e-04 3.92133748e-04 2.73442856e-04\n",
            "  1.49043437e-04 1.89627171e-04 5.50372805e-03 1.32909283e-01\n",
            "  3.70813787e-01 3.85021359e-01 4.28106546e-01 5.88901281e-01\n",
            "  5.47337234e-01 3.33355546e-01 2.09371001e-01 1.83618307e-01\n",
            "  1.84048995e-01 1.91209033e-01 3.54889125e-01 5.00811040e-01\n",
            "  8.46599638e-01 8.87102127e-01 5.17742991e-01 7.02639222e-02\n",
            "  4.77879075e-03 3.35979625e-04 2.80385750e-04 4.80589893e-04\n",
            "  4.01359575e-04 4.13882895e-04 1.66671540e-04 1.68762461e-04\n",
            "  2.11406485e-04 3.26481531e-04 1.74686674e-03 4.30770665e-02\n",
            "  1.77029237e-01 4.13686126e-01 6.29821658e-01 9.08670366e-01\n",
            "  7.06348419e-01 6.33326769e-01 6.81824684e-01 7.31128871e-01\n",
            "  7.12579668e-01 8.41194630e-01 7.77496457e-01 7.88693130e-01\n",
            "  6.31163239e-01 3.53879958e-01 9.45769995e-02 1.18371919e-02\n",
            "  1.70496840e-03 9.45963780e-04 2.88491428e-04 4.18468233e-04\n",
            "  6.27267291e-04 4.81792260e-04 2.80259061e-04 1.64470795e-04\n",
            "  2.10951024e-04 2.08852420e-04 4.52859444e-04 8.74901470e-03\n",
            "  6.88823834e-02 1.89345345e-01 4.99764800e-01 7.33561277e-01\n",
            "  9.11351860e-01 9.26740825e-01 9.55248177e-01 9.47280109e-01\n",
            "  9.16975856e-01 8.89578521e-01 7.36500382e-01 3.04032147e-01\n",
            "  3.01881075e-01 3.96808907e-02 9.48566291e-03 3.30588967e-03\n",
            "  1.22853043e-03 5.46780473e-04 4.92775929e-04 4.10153356e-04\n",
            "  7.46771926e-04 3.71236238e-04 1.70478466e-04 1.85240060e-04\n",
            "  1.85239885e-04 2.87593750e-04 3.58521705e-04 9.85246617e-04\n",
            "  1.02813710e-02 4.91088666e-02 1.08089350e-01 1.97137862e-01\n",
            "  6.93287015e-01 7.24292874e-01 8.74485075e-01 7.61618793e-01\n",
            "  4.98882592e-01 3.17504704e-01 9.12238955e-02 3.53956595e-02\n",
            "  1.09111750e-02 4.71516792e-03 1.49249611e-03 1.28135062e-03\n",
            "  6.16473961e-04 2.60509376e-04 2.03150965e-04 2.38813183e-04\n",
            "  3.76616197e-04 2.60621164e-04 2.32620718e-04 2.57644075e-04\n",
            "  1.47184968e-04 1.41414595e-04 2.38662280e-04 2.09237696e-04\n",
            "  5.62865462e-04 1.82709144e-03 2.80309748e-03 4.25570039e-03\n",
            "  6.91102119e-03 1.86439175e-02 2.35447697e-02 7.31693022e-03\n",
            "  6.12337049e-03 3.11892177e-03 1.24709343e-03 5.68122778e-04\n",
            "  7.63947261e-04 5.57250576e-04 6.00544387e-04 1.82681440e-04\n",
            "  2.95469392e-04 2.99409905e-04 3.42328683e-04 3.15695361e-04\n",
            "  1.19290489e-04 2.58180138e-04 1.71450374e-04 1.38614720e-04\n",
            "  2.00664843e-04 2.55081337e-04 2.23992480e-04 2.53516278e-04\n",
            "  2.61378154e-04 6.49783411e-04 6.59842859e-04 4.98994661e-04\n",
            "  4.63055621e-04 6.78490847e-04 7.00292818e-04 5.64574904e-04\n",
            "  7.21577264e-04 2.52317579e-04 2.24883537e-04 1.45471582e-04\n",
            "  1.07173437e-04 1.17573283e-04 2.22942675e-04 2.29631478e-04\n",
            "  5.87041432e-04 3.73045536e-04 1.97534871e-04 1.65486068e-04\n",
            "  1.93851854e-04 1.83124081e-04 1.77977825e-04 2.57644075e-04\n",
            "  1.69299354e-04 1.87101439e-04 1.42835663e-04 1.94735505e-04\n",
            "  2.87909497e-04 3.07715818e-04 2.55892723e-04 7.62202370e-04\n",
            "  4.48372884e-04 8.51989666e-04 7.26508617e-04 1.26309309e-03\n",
            "  5.80361579e-04 6.25814428e-04 3.58380814e-04 3.35446384e-04\n",
            "  6.41408784e-04 5.00443915e-04 6.56644348e-04 2.57109612e-04\n",
            "  2.41192785e-04 1.03780949e-04 1.42154109e-04 1.30073371e-04\n",
            "  1.65947480e-04 2.21764349e-04 1.54730180e-04 2.37840184e-04]], shape=(1, 784), dtype=float32)\n"
          ]
        }
      ]
    },
    {
      "cell_type": "code",
      "source": [],
      "metadata": {
        "id": "9QV9lfZvIZSI"
      },
      "execution_count": null,
      "outputs": []
    }
  ]
}