{
  "nbformat": 4,
  "nbformat_minor": 0,
  "metadata": {
    "colab": {
      "provenance": []
    },
    "kernelspec": {
      "name": "python3",
      "display_name": "Python 3"
    },
    "language_info": {
      "name": "python"
    }
  },
  "cells": [
    {
      "cell_type": "markdown",
      "source": [
        "## TensorFlow's Hello World"
      ],
      "metadata": {
        "id": "_3g5dlY91Top"
      }
    },
    {
      "cell_type": "code",
      "execution_count": 26,
      "metadata": {
        "id": "YTDMLbxew1C9"
      },
      "outputs": [],
      "source": [
        "# importing library\n",
        "import tensorflow as tf"
      ]
    },
    {
      "cell_type": "code",
      "source": [
        "# tf.function and AutoGraph\n",
        "a = tf.constant([2], name = 'constant_a')\n",
        "b = tf.constant([3], name = 'constant_b')"
      ],
      "metadata": {
        "id": "qma3k00zxiZ3"
      },
      "execution_count": 27,
      "outputs": []
    },
    {
      "cell_type": "code",
      "source": [
        "# print tensor a\n",
        "a "
      ],
      "metadata": {
        "colab": {
          "base_uri": "https://localhost:8080/"
        },
        "id": "acseBqDDyw6z",
        "outputId": "f6bb69e6-6a1d-4b14-e588-8b7fafdb19ca"
      },
      "execution_count": 28,
      "outputs": [
        {
          "output_type": "execute_result",
          "data": {
            "text/plain": [
              "<tf.Tensor: shape=(1,), dtype=int32, numpy=array([2], dtype=int32)>"
            ]
          },
          "metadata": {},
          "execution_count": 28
        }
      ]
    },
    {
      "cell_type": "code",
      "source": [
        "# print the value of tensor a\n",
        "tf.print(a.numpy()[0])"
      ],
      "metadata": {
        "colab": {
          "base_uri": "https://localhost:8080/"
        },
        "id": "nSjMohsMzGfg",
        "outputId": "bcc4f5b6-3251-4966-c467-05c7e3ac7d60"
      },
      "execution_count": 29,
      "outputs": [
        {
          "output_type": "stream",
          "name": "stdout",
          "text": [
            "2\n"
          ]
        }
      ]
    },
    {
      "cell_type": "code",
      "source": [
        "\"\"\"\n",
        "Annotating the python functions with tf.function uses TensorFlow Autograph to \n",
        "create a TensorFlow static execution graph for the function. tf.function \n",
        "annotation tells TensorFlow Autograph to transform function add into TensorFlow \n",
        "control flow, which then defines the TensorFlow static execution graph.\n",
        "\"\"\"\n",
        "@tf.function\n",
        "def add(a, b):\n",
        "  c = tf.add(a, b)\n",
        "  # c = a + b is also a way to define the sum of the terms\n",
        "  print(c)\n",
        "  return c"
      ],
      "metadata": {
        "id": "b47N5cEKzQRc"
      },
      "execution_count": 30,
      "outputs": []
    },
    {
      "cell_type": "code",
      "source": [
        "result = add(a, b)\n",
        "tf.print(result[0])"
      ],
      "metadata": {
        "colab": {
          "base_uri": "https://localhost:8080/"
        },
        "id": "1edAhWROz3iG",
        "outputId": "406d1839-3150-42e7-9d6e-2a8f71d8ca06"
      },
      "execution_count": 31,
      "outputs": [
        {
          "output_type": "stream",
          "name": "stdout",
          "text": [
            "Tensor(\"Add:0\", shape=(1,), dtype=int32)\n",
            "5\n"
          ]
        }
      ]
    },
    {
      "cell_type": "markdown",
      "source": [
        "### Defining multidimensional arrays using TensorFlow"
      ],
      "metadata": {
        "id": "dyubAVjp1L7i"
      }
    },
    {
      "cell_type": "markdown",
      "source": [
        "Summarizing:<br><br>\n",
        "\n",
        "<table style=\"width:100%\">\n",
        "  <tr>\n",
        "    <td><b>Dimension</b></td>\n",
        "    <td><b>Physical Representation</b></td> \n",
        "    <td><b>Mathematical Object</b></td>\n",
        "    <td><b>In Code</b></td>\n",
        "  </tr>\n",
        "  \n",
        "  <tr>\n",
        "    <td>Zero </td>\n",
        "    <td>Point</td> \n",
        "    <td>Scalar (Single Number)</td>\n",
        "    <td>[ 1 ]</td>\n",
        "  </tr>\n",
        "\n",
        "  <tr>\n",
        "    <td>One</td>\n",
        "    <td>Line</td> \n",
        "    <td>Vector (Series of Numbers) </td>\n",
        "    <td>[ 1,2,3,4,... ]</td>\n",
        "  </tr>\n",
        "  \n",
        "   <tr>\n",
        "    <td>Two</td>\n",
        "    <td>Surface</td> \n",
        "    <td>Matrix (Table of Numbers)</td>\n",
        "       <td>[ [1,2,3,4,...], [1,2,3,4,...], [1,2,3,4,...],... ]</td>\n",
        "  </tr>\n",
        "  \n",
        "   <tr>\n",
        "    <td>Three</td>\n",
        "    <td>Volume</td> \n",
        "    <td>Tensor (Cube of Numbers)</td>\n",
        "    <td>[ [[1,2,...], [1,2,...], [1,2,...],...], [[1,2,...], [1,2,...], [1,2,...],...], [[1,2,...], [1,2,...], [1,2,...] ,...]... ]</td>\n",
        "  </tr>\n",
        "  \n",
        "</table>\n"
      ],
      "metadata": {
        "id": "BOqp1sUq2QhK"
      }
    },
    {
      "cell_type": "code",
      "source": [
        "Scalar = tf.constant(2)\n",
        "Vector = tf.constant([5, 6, 2])\n",
        "Matrix = tf.constant([[1, 2, 3], [2, 3, 4], [5, 6, 7]])\n",
        "Tensor = tf.constant([ [[1, 2, 3],[2, 3, 4],[3, 4, 5]], [[4, 5, 6],[5, 6, 7],[6, 7, 8]], [[7, 8, 9],[8, 9, 10],[9, 10, 11]] ])\n",
        "\n",
        "print(f\"\"\"Scalar (1 entry): \n",
        "{Scalar}\\n\"\"\")\n",
        "print(f\"\"\"Scalar (3 entries): \n",
        "{Vector}\\n\"\"\")\n",
        "print(f\"\"\"Scalar (3x3 entries): \n",
        "{Matrix}\\n\"\"\")\n",
        "print(f\"\"\"Scalar (3x3x3 entries): \n",
        "{Tensor}\"\"\")\n",
        "\n",
        "print(\"\\n====================\\n\")\n",
        "\n",
        "print (\"Scalar (1 entry):\\n %s \\n\" % Scalar)\n",
        "\n",
        "print (\"Vector (3 entries) :\\n %s \\n\" % Vector)\n",
        "\n",
        "print (\"Matrix (3x3 entries):\\n %s \\n\" % Matrix)\n",
        "\n",
        "print (\"Tensor (3x3x3 entries) :\\n %s \\n\" % Tensor)\n"
      ],
      "metadata": {
        "colab": {
          "base_uri": "https://localhost:8080/"
        },
        "id": "6ldiTdaL0erl",
        "outputId": "d7171fef-8ae4-44b8-c520-b2a31db30999"
      },
      "execution_count": 45,
      "outputs": [
        {
          "output_type": "stream",
          "name": "stdout",
          "text": [
            "Scalar (1 entry): \n",
            "2\n",
            "\n",
            "Scalar (3 entries): \n",
            "[5 6 2]\n",
            "\n",
            "Scalar (3x3 entries): \n",
            "[[1 2 3]\n",
            " [2 3 4]\n",
            " [5 6 7]]\n",
            "\n",
            "Scalar (3x3x3 entries): \n",
            "[[[ 1  2  3]\n",
            "  [ 2  3  4]\n",
            "  [ 3  4  5]]\n",
            "\n",
            " [[ 4  5  6]\n",
            "  [ 5  6  7]\n",
            "  [ 6  7  8]]\n",
            "\n",
            " [[ 7  8  9]\n",
            "  [ 8  9 10]\n",
            "  [ 9 10 11]]]\n",
            "\n",
            "====================\n",
            "\n",
            "Scalar (1 entry):\n",
            " tf.Tensor(2, shape=(), dtype=int32) \n",
            "\n",
            "Vector (3 entries) :\n",
            " tf.Tensor([5 6 2], shape=(3,), dtype=int32) \n",
            "\n",
            "Matrix (3x3 entries):\n",
            " tf.Tensor(\n",
            "[[1 2 3]\n",
            " [2 3 4]\n",
            " [5 6 7]], shape=(3, 3), dtype=int32) \n",
            "\n",
            "Tensor (3x3x3 entries) :\n",
            " tf.Tensor(\n",
            "[[[ 1  2  3]\n",
            "  [ 2  3  4]\n",
            "  [ 3  4  5]]\n",
            "\n",
            " [[ 4  5  6]\n",
            "  [ 5  6  7]\n",
            "  [ 6  7  8]]\n",
            "\n",
            " [[ 7  8  9]\n",
            "  [ 8  9 10]\n",
            "  [ 9 10 11]]], shape=(3, 3, 3), dtype=int32) \n",
            "\n"
          ]
        }
      ]
    },
    {
      "cell_type": "code",
      "source": [
        "# tf.shape returns the shape of our data structure.\n",
        "Scalar.shape"
      ],
      "metadata": {
        "colab": {
          "base_uri": "https://localhost:8080/"
        },
        "id": "0S77REDA3gzM",
        "outputId": "00bcf309-e6a7-449b-ba3c-975672a89e34"
      },
      "execution_count": 33,
      "outputs": [
        {
          "output_type": "execute_result",
          "data": {
            "text/plain": [
              "TensorShape([])"
            ]
          },
          "metadata": {},
          "execution_count": 33
        }
      ]
    },
    {
      "cell_type": "code",
      "source": [
        "Tensor.shape"
      ],
      "metadata": {
        "colab": {
          "base_uri": "https://localhost:8080/"
        },
        "id": "4KDZWYcb4Crf",
        "outputId": "74625498-821f-470d-d664-80945dce129c"
      },
      "execution_count": 34,
      "outputs": [
        {
          "output_type": "execute_result",
          "data": {
            "text/plain": [
              "TensorShape([3, 3, 3])"
            ]
          },
          "metadata": {},
          "execution_count": 34
        }
      ]
    },
    {
      "cell_type": "code",
      "source": [
        "Matrix_one = tf.constant([[1, 2, 3],[2, 3, 4],[3, 4, 5]])\n",
        "Matrix_two = tf.constant([[2,2,2], [2,2,2], [2,2,2]])\n",
        "\n",
        "@tf.function\n",
        "def add():\n",
        "  add_1_operation = tf.add(Matrix_one, Matrix_two)\n",
        "  return add_1_operation\n",
        "\n",
        "print(\"Defined using tensorflow function:\")\n",
        "add_1_operation = add()\n",
        "print(add_1_operation)\n",
        "print()\n",
        "print(\"Defined using normal expressions:\")\n",
        "add_2_operation = Matrix_one + Matrix_two\n",
        "print(add_2_operation)"
      ],
      "metadata": {
        "colab": {
          "base_uri": "https://localhost:8080/"
        },
        "id": "najCV9Qn4EUp",
        "outputId": "7366d914-1c28-400f-a1d2-27a16c97b408"
      },
      "execution_count": 35,
      "outputs": [
        {
          "output_type": "stream",
          "name": "stdout",
          "text": [
            "Defined using tensorflow function:\n",
            "tf.Tensor(\n",
            "[[3 4 5]\n",
            " [4 5 6]\n",
            " [5 6 7]], shape=(3, 3), dtype=int32)\n",
            "\n",
            "Defined using normal expressions:\n",
            "tf.Tensor(\n",
            "[[3 4 5]\n",
            " [4 5 6]\n",
            " [5 6 7]], shape=(3, 3), dtype=int32)\n"
          ]
        }
      ]
    },
    {
      "cell_type": "code",
      "source": [
        "Matrix_one = tf.constant([[1,2], [3,4]])\n",
        "Matrix_two = tf.constant([[5,6], [7,8]])\n",
        "\n",
        "@tf.function\n",
        "def mathmul():\n",
        "  return tf.matmul(Matrix_one, Matrix_two)\n",
        "\n",
        "mul_operation = mathmul()\n",
        "\n",
        "print(\"Defined using TensorFlow function:\")\n",
        "print(mul_operation)"
      ],
      "metadata": {
        "colab": {
          "base_uri": "https://localhost:8080/"
        },
        "id": "NBzt1VcD5QfM",
        "outputId": "2b2df118-7f24-454a-b867-2c2f967a042c"
      },
      "execution_count": 38,
      "outputs": [
        {
          "output_type": "stream",
          "name": "stdout",
          "text": [
            "Defined using TensorFlow function:\n",
            "tf.Tensor(\n",
            "[[19 22]\n",
            " [43 50]], shape=(2, 2), dtype=int32)\n"
          ]
        }
      ]
    },
    {
      "cell_type": "markdown",
      "source": [
        "### Variables"
      ],
      "metadata": {
        "id": "ygclrbnYMwfm"
      }
    },
    {
      "cell_type": "code",
      "source": [
        "v = tf.Variable(0)"
      ],
      "metadata": {
        "id": "Gzlwl1t6KVFt"
      },
      "execution_count": 39,
      "outputs": []
    },
    {
      "cell_type": "code",
      "source": [
        "@tf.function\n",
        "def increment_by_one(v):\n",
        "  v = tf.add(v, 1)\n",
        "  return v"
      ],
      "metadata": {
        "id": "MsSN9uGNM-W_"
      },
      "execution_count": 40,
      "outputs": []
    },
    {
      "cell_type": "code",
      "source": [
        "for i in range(3):\n",
        "  v = increment_by_one(v)\n",
        "  print(v)"
      ],
      "metadata": {
        "colab": {
          "base_uri": "https://localhost:8080/"
        },
        "id": "Aj7x89cmNFpt",
        "outputId": "031b45db-6047-4872-aabe-34081b4d14ce"
      },
      "execution_count": 41,
      "outputs": [
        {
          "output_type": "stream",
          "name": "stdout",
          "text": [
            "tf.Tensor(1, shape=(), dtype=int32)\n",
            "tf.Tensor(2, shape=(), dtype=int32)\n",
            "tf.Tensor(3, shape=(), dtype=int32)\n"
          ]
        }
      ]
    },
    {
      "cell_type": "markdown",
      "source": [
        "## Operations"
      ],
      "metadata": {
        "id": "BoimXrwUNPHP"
      }
    },
    {
      "cell_type": "code",
      "source": [
        "a = tf.constant([5])\n",
        "b = tf.constant([2])\n",
        "c = tf.add(a, b)\n",
        "d = tf.subtract(a, b)\n",
        "\n",
        "print ('c =: %s' % c)\n",
        "print ('d =: %s' % d)\n"
      ],
      "metadata": {
        "colab": {
          "base_uri": "https://localhost:8080/"
        },
        "id": "5ckWUvzSNL9x",
        "outputId": "ac52693f-f6db-4480-c0ed-6e7bfaab0188"
      },
      "execution_count": 47,
      "outputs": [
        {
          "output_type": "stream",
          "name": "stdout",
          "text": [
            "c =: tf.Tensor([7], shape=(1,), dtype=int32)\n",
            "d =: tf.Tensor([3], shape=(1,), dtype=int32)\n"
          ]
        }
      ]
    },
    {
      "cell_type": "code",
      "source": [],
      "metadata": {
        "id": "1OSbJK5POaGZ"
      },
      "execution_count": null,
      "outputs": []
    }
  ]
}