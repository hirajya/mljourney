{
  "nbformat": 4,
  "nbformat_minor": 0,
  "metadata": {
    "colab": {
      "provenance": []
    },
    "kernelspec": {
      "name": "python3",
      "display_name": "Python 3"
    },
    "language_info": {
      "name": "python"
    }
  },
  "cells": [
    {
      "cell_type": "code",
      "execution_count": 23,
      "metadata": {
        "id": "4EtXnXecK48M"
      },
      "outputs": [],
      "source": [
        "import numpy as np\n",
        "\n",
        "y_predicted = np.array([1, 1, 0, 0, 1])\n",
        "y_true = np.array([0.30, 0.7, 1, 0, 0.5])"
      ]
    },
    {
      "cell_type": "code",
      "source": [
        "def mae(y_true, y_predicted):\n",
        "  total_error = 0\n",
        "  for yt, yp in zip(y_true, y_predicted):\n",
        "    print(yt, yp)"
      ],
      "metadata": {
        "id": "o1ja_y9xLGJh"
      },
      "execution_count": 2,
      "outputs": []
    },
    {
      "cell_type": "code",
      "source": [
        "mae(y_true, y_predicted)"
      ],
      "metadata": {
        "colab": {
          "base_uri": "https://localhost:8080/"
        },
        "id": "tV3Fzc0FLYte",
        "outputId": "2bbc0581-b75b-4024-e41e-f95a67fba6e7"
      },
      "execution_count": 3,
      "outputs": [
        {
          "output_type": "stream",
          "name": "stdout",
          "text": [
            "0.3 1\n",
            "0.7 1\n",
            "1.0 0\n",
            "0.0 0\n",
            "0.5 1\n"
          ]
        }
      ]
    },
    {
      "cell_type": "code",
      "source": [
        "def mae(y_true, y_predicted):\n",
        "  total_error = 0\n",
        "  for yt, yp in zip(y_true, y_predicted):\n",
        "    total_error += abs(yt - yp)\n",
        "  print(\"Total error:\",total_error)\n",
        "  mae = total_error / len(y_true)\n",
        "  print(\"MAE:\", mae)\n",
        "  return mae"
      ],
      "metadata": {
        "id": "lqBi_3D9LIqP"
      },
      "execution_count": 5,
      "outputs": []
    },
    {
      "cell_type": "code",
      "source": [
        "mae(y_true, y_predicted)"
      ],
      "metadata": {
        "colab": {
          "base_uri": "https://localhost:8080/"
        },
        "id": "oqDnsM8aLsXx",
        "outputId": "baa05525-54fc-4773-810b-4cce5e7083eb"
      },
      "execution_count": 6,
      "outputs": [
        {
          "output_type": "stream",
          "name": "stdout",
          "text": [
            "Total error: 2.5\n",
            "MAE: 0.5\n"
          ]
        },
        {
          "output_type": "execute_result",
          "data": {
            "text/plain": [
              "0.5"
            ]
          },
          "metadata": {},
          "execution_count": 6
        }
      ]
    },
    {
      "cell_type": "code",
      "source": [
        "np.log([0.00034])"
      ],
      "metadata": {
        "colab": {
          "base_uri": "https://localhost:8080/"
        },
        "id": "kbbhUVz6L-8z",
        "outputId": "15170f33-af55-4fd6-8f6f-9604d94de428"
      },
      "execution_count": 9,
      "outputs": [
        {
          "output_type": "execute_result",
          "data": {
            "text/plain": [
              "array([-7.98656494])"
            ]
          },
          "metadata": {},
          "execution_count": 9
        }
      ]
    },
    {
      "cell_type": "code",
      "source": [
        "epsilon = 1e-15"
      ],
      "metadata": {
        "id": "R5Knk6D1MJot"
      },
      "execution_count": 10,
      "outputs": []
    },
    {
      "cell_type": "code",
      "source": [
        "y_predicted_new = [max(i, epsilon) for i in y_predicted]\n",
        "y_predicted_new"
      ],
      "metadata": {
        "colab": {
          "base_uri": "https://localhost:8080/"
        },
        "id": "ykEglUK8Mo0L",
        "outputId": "22183559-0803-4c7a-9201-0498a07c8555"
      },
      "execution_count": 12,
      "outputs": [
        {
          "output_type": "execute_result",
          "data": {
            "text/plain": [
              "[1, 1, 1e-15, 1e-15, 1]"
            ]
          },
          "metadata": {},
          "execution_count": 12
        }
      ]
    },
    {
      "cell_type": "code",
      "source": [
        "y_predicted_new = [min(i, 1-epsilon) for i in y_predicted_new]\n",
        "y_predicted_new"
      ],
      "metadata": {
        "colab": {
          "base_uri": "https://localhost:8080/"
        },
        "id": "R7v0eX9EMp6-",
        "outputId": "5a51c56e-6433-4353-a50c-4a74b80423b2"
      },
      "execution_count": 13,
      "outputs": [
        {
          "output_type": "execute_result",
          "data": {
            "text/plain": [
              "[0.999999999999999, 0.999999999999999, 1e-15, 1e-15, 0.999999999999999]"
            ]
          },
          "metadata": {},
          "execution_count": 13
        }
      ]
    },
    {
      "cell_type": "code",
      "source": [
        "y_predicted_new = np.array(y_predicted_new)\n",
        "np.log(y_predicted_new)"
      ],
      "metadata": {
        "colab": {
          "base_uri": "https://localhost:8080/"
        },
        "id": "xw3uvHLtNRPD",
        "outputId": "fbb384b8-72ab-474b-d1d7-535930a8c173"
      },
      "execution_count": 14,
      "outputs": [
        {
          "output_type": "execute_result",
          "data": {
            "text/plain": [
              "array([-9.99200722e-16, -9.99200722e-16, -3.45387764e+01, -3.45387764e+01,\n",
              "       -9.99200722e-16])"
            ]
          },
          "metadata": {},
          "execution_count": 14
        }
      ]
    },
    {
      "cell_type": "code",
      "source": [
        "-np.mean(y_true*np.log(y_predicted_new)+(1-y_true)*np.log(1-y_predicted_new))"
      ],
      "metadata": {
        "colab": {
          "base_uri": "https://localhost:8080/"
        },
        "id": "uLQEYYQtNXMy",
        "outputId": "68db61f0-cf88-441c-e432-73f9b982629d"
      },
      "execution_count": 15,
      "outputs": [
        {
          "output_type": "execute_result",
          "data": {
            "text/plain": [
              "17.2696280766844"
            ]
          },
          "metadata": {},
          "execution_count": 15
        }
      ]
    },
    {
      "cell_type": "code",
      "source": [
        "def log_loss(y_true, y_predicted):\n",
        "  epsilon = 1e-15\n",
        "  y_predicted_new = [max(i, epsilon) for i in y_predicted]\n",
        "  y_predicted_new = [min(i, 1-epsilon) for i in y_predicted_new]\n",
        "  y_predicted_new = np.array(y_predicted_new)\n",
        "  return -np.mean(y_true*np.log(y_predicted_new)+(1-y_true)*np.log(1-y_predicted_new))"
      ],
      "metadata": {
        "id": "4MpR2yz4NtHa"
      },
      "execution_count": 18,
      "outputs": []
    },
    {
      "cell_type": "code",
      "source": [
        "log_loss(y_true, y_predicted)"
      ],
      "metadata": {
        "colab": {
          "base_uri": "https://localhost:8080/"
        },
        "id": "UvoOEa96OC_b",
        "outputId": "e5aa741b-4ce4-4501-cbd3-a2535cf6704d"
      },
      "execution_count": 19,
      "outputs": [
        {
          "output_type": "execute_result",
          "data": {
            "text/plain": [
              "17.2696280766844"
            ]
          },
          "metadata": {},
          "execution_count": 19
        }
      ]
    },
    {
      "cell_type": "code",
      "source": [
        "def mean_squared_error(y_true, y_pred):\n",
        "  total_error = 0\n",
        "  for yt, yp in zip(y_true, y_pred):\n",
        "    total_error += np.power(yt-yp, 2)\n",
        "  print(f\"Total Error: {total_error}\")\n",
        "\n",
        "  mse = total_error / len(y_true)\n",
        "  print(f\"MSE: {mse}\")\n",
        "\n",
        "  return mse\n"
      ],
      "metadata": {
        "id": "Sf34EbDfOGQ9"
      },
      "execution_count": 25,
      "outputs": []
    },
    {
      "cell_type": "code",
      "source": [
        "mean_squared_error(y_true, y_predicted)"
      ],
      "metadata": {
        "colab": {
          "base_uri": "https://localhost:8080/"
        },
        "id": "ocScTdN-O3Yt",
        "outputId": "973deef4-1d6a-4d63-9ae3-c6af9501dbcc"
      },
      "execution_count": 26,
      "outputs": [
        {
          "output_type": "stream",
          "name": "stdout",
          "text": [
            "Total Error: 1.83\n",
            "MSE: 0.366\n"
          ]
        },
        {
          "output_type": "execute_result",
          "data": {
            "text/plain": [
              "0.366"
            ]
          },
          "metadata": {},
          "execution_count": 26
        }
      ]
    },
    {
      "cell_type": "code",
      "source": [],
      "metadata": {
        "id": "vU_mtkVTPcEO"
      },
      "execution_count": null,
      "outputs": []
    }
  ]
}