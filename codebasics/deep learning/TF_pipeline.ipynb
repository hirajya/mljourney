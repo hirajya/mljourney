{
  "nbformat": 4,
  "nbformat_minor": 0,
  "metadata": {
    "colab": {
      "provenance": []
    },
    "kernelspec": {
      "name": "python3",
      "display_name": "Python 3"
    },
    "language_info": {
      "name": "python"
    }
  },
  "cells": [
    {
      "cell_type": "code",
      "execution_count": 157,
      "metadata": {
        "id": "3wYHftsND_6R"
      },
      "outputs": [],
      "source": [
        "import tensorflow as tf"
      ]
    },
    {
      "cell_type": "code",
      "source": [
        "daily_sales_numbers = [21, 22, -108, 31, -1, 32, 34, 31]"
      ],
      "metadata": {
        "id": "S8tZILUYEEqz"
      },
      "execution_count": 158,
      "outputs": []
    },
    {
      "cell_type": "code",
      "source": [
        "tf_dataset = tf.data.Dataset.from_tensor_slices(daily_sales_numbers)\n",
        "tf_dataset"
      ],
      "metadata": {
        "colab": {
          "base_uri": "https://localhost:8080/"
        },
        "id": "3NhUkSwzEK7x",
        "outputId": "3096416a-eb70-40c3-805a-4fb94b08221b"
      },
      "execution_count": 159,
      "outputs": [
        {
          "output_type": "execute_result",
          "data": {
            "text/plain": [
              "<_TensorSliceDataset element_spec=TensorSpec(shape=(), dtype=tf.int32, name=None)>"
            ]
          },
          "metadata": {},
          "execution_count": 159
        }
      ]
    },
    {
      "cell_type": "code",
      "source": [
        "for sales in tf_dataset.as_numpy_iterator():\n",
        "  print(sales)"
      ],
      "metadata": {
        "colab": {
          "base_uri": "https://localhost:8080/"
        },
        "id": "PbmpyYyGEULd",
        "outputId": "244e7af0-1255-47b4-ab93-4cd0dc568976"
      },
      "execution_count": 160,
      "outputs": [
        {
          "output_type": "stream",
          "name": "stdout",
          "text": [
            "21\n",
            "22\n",
            "-108\n",
            "31\n",
            "-1\n",
            "32\n",
            "34\n",
            "31\n"
          ]
        }
      ]
    },
    {
      "cell_type": "code",
      "source": [
        "for sales in tf_dataset.take(3):\n",
        "  print(sales.numpy())"
      ],
      "metadata": {
        "colab": {
          "base_uri": "https://localhost:8080/"
        },
        "id": "HgqCp5ZMEW1d",
        "outputId": "7c27bffe-1049-40a6-c135-bdea8c68be3e"
      },
      "execution_count": 161,
      "outputs": [
        {
          "output_type": "stream",
          "name": "stdout",
          "text": [
            "21\n",
            "22\n",
            "-108\n"
          ]
        }
      ]
    },
    {
      "cell_type": "code",
      "source": [
        "tf_dataset = tf_dataset.filter(lambda x: x>0)\n",
        "for sales in tf_dataset.as_numpy_iterator():\n",
        "  print(sales)"
      ],
      "metadata": {
        "colab": {
          "base_uri": "https://localhost:8080/"
        },
        "id": "BwDMDw5BEpXw",
        "outputId": "d8569bdf-120d-472a-b334-19b307493fc8"
      },
      "execution_count": 162,
      "outputs": [
        {
          "output_type": "stream",
          "name": "stdout",
          "text": [
            "21\n",
            "22\n",
            "31\n",
            "32\n",
            "34\n",
            "31\n"
          ]
        }
      ]
    },
    {
      "cell_type": "code",
      "source": [
        "tf_dataset = tf_dataset.map(lambda x: x*72)\n",
        "for sales in tf_dataset.as_numpy_iterator():\n",
        "  print(sales)"
      ],
      "metadata": {
        "colab": {
          "base_uri": "https://localhost:8080/"
        },
        "id": "QxJoPHTBE3Ms",
        "outputId": "b168218e-4856-4982-bca1-e97ba9f5cc33"
      },
      "execution_count": 163,
      "outputs": [
        {
          "output_type": "stream",
          "name": "stdout",
          "text": [
            "1512\n",
            "1584\n",
            "2232\n",
            "2304\n",
            "2448\n",
            "2232\n"
          ]
        }
      ]
    },
    {
      "cell_type": "code",
      "source": [
        "tf_dataset = tf_dataset.shuffle(3)\n",
        "for sales in tf_dataset.as_numpy_iterator():\n",
        "  print(sales)"
      ],
      "metadata": {
        "colab": {
          "base_uri": "https://localhost:8080/"
        },
        "id": "LlUjtTQ3FDrI",
        "outputId": "875fbb9e-4f55-49da-ae9b-4894c08090fb"
      },
      "execution_count": 164,
      "outputs": [
        {
          "output_type": "stream",
          "name": "stdout",
          "text": [
            "2232\n",
            "1512\n",
            "2304\n",
            "2232\n",
            "1584\n",
            "2448\n"
          ]
        }
      ]
    },
    {
      "cell_type": "code",
      "source": [
        "for sales_batch in tf_dataset.batch(2):\n",
        "  print(sales_batch.numpy())"
      ],
      "metadata": {
        "colab": {
          "base_uri": "https://localhost:8080/"
        },
        "id": "nZNyTatIFgFQ",
        "outputId": "07d58dbb-8351-4675-e4cc-fe1297cef2dc"
      },
      "execution_count": 165,
      "outputs": [
        {
          "output_type": "stream",
          "name": "stdout",
          "text": [
            "[2232 1512]\n",
            "[2448 1584]\n",
            "[2232 2304]\n"
          ]
        }
      ]
    },
    {
      "cell_type": "code",
      "source": [
        "tf_dataset = tf.data.Dataset.from_tensor_slices(daily_sales_numbers)\n",
        "tf_dataset = tf_dataset.filter(lambda x: x>0).map(lambda y: y*72).shuffle(2).batch(2)\n",
        "for sales in tf_dataset.as_numpy_iterator():\n",
        "  print(sales)"
      ],
      "metadata": {
        "colab": {
          "base_uri": "https://localhost:8080/"
        },
        "id": "LqzBYts1FouN",
        "outputId": "c8f93c78-903f-497f-b175-d72ddab4d017"
      },
      "execution_count": 166,
      "outputs": [
        {
          "output_type": "stream",
          "name": "stdout",
          "text": [
            "[1512 2232]\n",
            "[2304 2448]\n",
            "[2232 1584]\n"
          ]
        }
      ]
    },
    {
      "cell_type": "code",
      "source": [
        "from google.colab import drive\n",
        "drive.mount('/content/drive')"
      ],
      "metadata": {
        "colab": {
          "base_uri": "https://localhost:8080/"
        },
        "id": "c1GmNZwXF5so",
        "outputId": "c145e637-6cf0-4582-f225-1283a07dd916"
      },
      "execution_count": 167,
      "outputs": [
        {
          "output_type": "stream",
          "name": "stdout",
          "text": [
            "Drive already mounted at /content/drive; to attempt to forcibly remount, call drive.mount(\"/content/drive\", force_remount=True).\n"
          ]
        }
      ]
    },
    {
      "cell_type": "code",
      "source": [
        "images_ds = tf.data.Dataset.list_files('/content/drive/MyDrive/TF_pipeline_testpics/*/*', shuffle=False)\n"
      ],
      "metadata": {
        "id": "CdYnz83LH3ty"
      },
      "execution_count": 168,
      "outputs": []
    },
    {
      "cell_type": "code",
      "source": [
        "for file in images_ds.take(3):\n",
        "  print(file.numpy())"
      ],
      "metadata": {
        "colab": {
          "base_uri": "https://localhost:8080/"
        },
        "id": "qZQZv_tEHStz",
        "outputId": "ffd8390e-5b56-42a0-d03c-7503f1bd6381"
      },
      "execution_count": 169,
      "outputs": [
        {
          "output_type": "stream",
          "name": "stdout",
          "text": [
            "b'/content/drive/MyDrive/TF_pipeline_testpics/cat pics/00tb-cats1-videoSixteenByNineJumbo1600.jpg'\n",
            "b'/content/drive/MyDrive/TF_pipeline_testpics/cat pics/07CAT-STRIPES-mediumSquareAt3X-v2.jpg'\n",
            "b'/content/drive/MyDrive/TF_pipeline_testpics/cat pics/1200px-Cat03.jpg'\n"
          ]
        }
      ]
    },
    {
      "cell_type": "code",
      "source": [
        "images_ds = images_ds.shuffle(200)\n",
        "\n",
        "for file in images_ds.take(3):\n",
        "  print(file.numpy())"
      ],
      "metadata": {
        "colab": {
          "base_uri": "https://localhost:8080/"
        },
        "id": "cv8jNGu6Hzpc",
        "outputId": "a125b4a2-8644-4401-a407-e073db78bbf8"
      },
      "execution_count": 170,
      "outputs": [
        {
          "output_type": "stream",
          "name": "stdout",
          "text": [
            "b'/content/drive/MyDrive/TF_pipeline_testpics/dog pics/neapolitan-mastiff-with-woman-on-leash-2-77685259-2000-81fba6fbcb8244d2adb24e31cc082c78.jpg'\n",
            "b'/content/drive/MyDrive/TF_pipeline_testpics/dog pics/AdobeStock_94435211-500x500.jpg'\n",
            "b'/content/drive/MyDrive/TF_pipeline_testpics/dog pics/GettyImages-1294547052.webp'\n"
          ]
        }
      ]
    },
    {
      "cell_type": "code",
      "source": [
        "class_names = [\"cat\", \"dog\"]"
      ],
      "metadata": {
        "id": "iR04VFzOIK5a"
      },
      "execution_count": 171,
      "outputs": []
    },
    {
      "cell_type": "code",
      "source": [
        "image_count = len(images_ds)\n",
        "image_count"
      ],
      "metadata": {
        "colab": {
          "base_uri": "https://localhost:8080/"
        },
        "id": "vQcyf8K1IPyD",
        "outputId": "16836d87-b192-4064-95e5-e0384b062efd"
      },
      "execution_count": 172,
      "outputs": [
        {
          "output_type": "execute_result",
          "data": {
            "text/plain": [
              "197"
            ]
          },
          "metadata": {},
          "execution_count": 172
        }
      ]
    },
    {
      "cell_type": "code",
      "source": [
        "train_size = int(image_count*0.8)\n",
        "\n",
        "train_ds = images_ds.take(train_size)\n",
        "test_ds = images_ds.skip(train_size)"
      ],
      "metadata": {
        "id": "e9lBlfoaIXKP"
      },
      "execution_count": 173,
      "outputs": []
    },
    {
      "cell_type": "code",
      "source": [
        "len(train_ds)"
      ],
      "metadata": {
        "colab": {
          "base_uri": "https://localhost:8080/"
        },
        "id": "o1sz037vIka0",
        "outputId": "cb2fc397-1526-41fe-e214-690cd646f5ad"
      },
      "execution_count": 174,
      "outputs": [
        {
          "output_type": "execute_result",
          "data": {
            "text/plain": [
              "157"
            ]
          },
          "metadata": {},
          "execution_count": 174
        }
      ]
    },
    {
      "cell_type": "code",
      "source": [
        "len(test_ds)"
      ],
      "metadata": {
        "colab": {
          "base_uri": "https://localhost:8080/"
        },
        "id": "Ir_bx0xwIliE",
        "outputId": "58586c9a-4677-46ac-fde1-07aeab50ff9d"
      },
      "execution_count": 175,
      "outputs": [
        {
          "output_type": "execute_result",
          "data": {
            "text/plain": [
              "40"
            ]
          },
          "metadata": {},
          "execution_count": 175
        }
      ]
    },
    {
      "cell_type": "code",
      "source": [
        "s = '/content/drive/MyDrive/TF_pipeline_testpics/cat pics/00tb-cats1-videoSixteenByNineJumbo1600.jpg'\n",
        "\n",
        "s.split(\"/\")"
      ],
      "metadata": {
        "colab": {
          "base_uri": "https://localhost:8080/"
        },
        "id": "fnEvowEAIm54",
        "outputId": "1da0457e-9e81-4330-8f5c-62397aa2737d"
      },
      "execution_count": 176,
      "outputs": [
        {
          "output_type": "execute_result",
          "data": {
            "text/plain": [
              "['',\n",
              " 'content',\n",
              " 'drive',\n",
              " 'MyDrive',\n",
              " 'TF_pipeline_testpics',\n",
              " 'cat pics',\n",
              " '00tb-cats1-videoSixteenByNineJumbo1600.jpg']"
            ]
          },
          "metadata": {},
          "execution_count": 176
        }
      ]
    },
    {
      "cell_type": "code",
      "source": [
        "import os"
      ],
      "metadata": {
        "id": "VmcqLnnVKfpY"
      },
      "execution_count": 177,
      "outputs": []
    },
    {
      "cell_type": "code",
      "source": [
        "def get_label(file_path):\n",
        "  val = tf.strings.split(file_path, os.path.sep)[-2]\n",
        "  if val == 'cat pics':\n",
        "    return 'cat'\n",
        "  else:\n",
        "    return 'dog'"
      ],
      "metadata": {
        "id": "CgvfQLBEJUGs"
      },
      "execution_count": 178,
      "outputs": []
    },
    {
      "cell_type": "code",
      "source": [
        "def process_image(file_path):\n",
        "  label = get_label(file_path)\n",
        "  img = tf.io.read_file(file_path)\n",
        "  img = tf.image.decode_jpeg(img)\n",
        "  img = tf.image.resize(img, [128, 128])\n",
        "\n",
        "  return img, label"
      ],
      "metadata": {
        "id": "Q6Lcsww9Krjo"
      },
      "execution_count": 179,
      "outputs": []
    },
    {
      "cell_type": "code",
      "source": [
        "for t in train_ds.take(4):\n",
        "  print(t.numpy())"
      ],
      "metadata": {
        "colab": {
          "base_uri": "https://localhost:8080/"
        },
        "id": "p6gxavL2KGPN",
        "outputId": "0b7fc78b-e8cb-4b58-bfa7-60d1548ccda2"
      },
      "execution_count": 180,
      "outputs": [
        {
          "output_type": "stream",
          "name": "stdout",
          "text": [
            "b'/content/drive/MyDrive/TF_pipeline_testpics/cat pics/3683.jpg'\n",
            "b'/content/drive/MyDrive/TF_pipeline_testpics/dog pics/800px-French_Bulldog_with_puppies.jpg'\n",
            "b'/content/drive/MyDrive/TF_pipeline_testpics/cat pics/reddit-cats-judging-looks-00.jpg'\n",
            "b'/content/drive/MyDrive/TF_pipeline_testpics/cat pics/kitten.jpg'\n"
          ]
        }
      ]
    },
    {
      "cell_type": "code",
      "source": [
        "train_ds = train_ds.map(process_image)\n",
        "\n",
        "for img, label in train_ds.take(3):\n",
        "  print(\"Image\", img)\n",
        "  print(\"Label\", label)"
      ],
      "metadata": {
        "colab": {
          "base_uri": "https://localhost:8080/"
        },
        "id": "BvIgsWFMJwmv",
        "outputId": "43afac77-8306-4495-fb8c-f4dd166f8c05"
      },
      "execution_count": 181,
      "outputs": [
        {
          "output_type": "stream",
          "name": "stdout",
          "text": [
            "Image tf.Tensor(\n",
            "[[[142.88214   122.88214    95.88214  ]\n",
            "  [101.16693    81.16693    54.16693  ]\n",
            "  [141.81268   121.81268    94.81268  ]\n",
            "  ...\n",
            "  [230.71497   210.71497   183.80872  ]\n",
            "  [205.08832   182.09222   158.75629  ]\n",
            "  [211.72272   189.72272   165.72272  ]]\n",
            "\n",
            " [[102.174255   82.174255   55.174255 ]\n",
            "  [138.54205   118.54205    91.54205  ]\n",
            "  [ 92.082825   72.082825   45.082825 ]\n",
            "  ...\n",
            "  [198.60638   177.65308   150.65308  ]\n",
            "  [223.66986   207.49866   181.49866  ]\n",
            "  [220.6189    202.6189    178.6189   ]]\n",
            "\n",
            " [[137.56305   117.56305    90.56305  ]\n",
            "  [103.1012     83.1012     56.101196 ]\n",
            "  [137.84888   117.84888    90.84888  ]\n",
            "  ...\n",
            "  [178.41473   153.7669    126.09082  ]\n",
            "  [208.0744    189.65607   162.10938  ]\n",
            "  [226.03119   206.80481   181.54694  ]]\n",
            "\n",
            " ...\n",
            "\n",
            " [[ 47.339844   68.66016    57.       ]\n",
            "  [ 46.         66.67969    55.339844 ]\n",
            "  [ 44.37079    68.27704    55.323914 ]\n",
            "  ...\n",
            "  [ 11.6796875  20.679688   15.6796875]\n",
            "  [ 10.132996   19.132996   14.132996 ]\n",
            "  [ 13.421814   19.421814   15.421814 ]]\n",
            "\n",
            " [[ 41.007812   65.         52.003906 ]\n",
            "  [ 45.         65.         54.       ]\n",
            "  [ 43.000183   66.99982    54.       ]\n",
            "  ...\n",
            "  [ 11.         20.         15.       ]\n",
            "  [ 14.828125   23.828125   18.828125 ]\n",
            "  [ 13.614807   19.614807   15.614807 ]]\n",
            "\n",
            " [[ 44.609375   68.609375   55.609375 ]\n",
            "  [ 48.65625    68.65625    57.65625  ]\n",
            "  [ 44.046875   68.046875   55.046875 ]\n",
            "  ...\n",
            "  [ 12.         21.         16.       ]\n",
            "  [ 11.171875   20.171875   15.171875 ]\n",
            "  [ 15.058594   21.058594   17.058594 ]]], shape=(128, 128, 3), dtype=float32)\n",
            "Label tf.Tensor(b'cat', shape=(), dtype=string)\n",
            "Image tf.Tensor(\n",
            "[[[212.08716 213.08716 208.08716]\n",
            "  [212.      213.      208.     ]\n",
            "  [211.35156 212.35156 207.35156]\n",
            "  ...\n",
            "  [209.      206.      197.     ]\n",
            "  [209.      206.      197.     ]\n",
            "  [210.      206.      197.     ]]\n",
            "\n",
            " [[212.07031 213.07031 208.07031]\n",
            "  [212.71875 213.71875 208.71875]\n",
            "  [212.35156 213.35156 208.35156]\n",
            "  ...\n",
            "  [209.      206.      197.     ]\n",
            "  [209.      206.      197.     ]\n",
            "  [210.07031 206.07031 197.07031]]\n",
            "\n",
            " [[212.46875 213.46875 208.46875]\n",
            "  [212.      213.      208.     ]\n",
            "  [212.64844 213.64844 208.64844]\n",
            "  ...\n",
            "  [210.64844 207.64844 198.64844]\n",
            "  [209.78906 206.78906 197.78906]\n",
            "  [210.      206.      197.     ]]\n",
            "\n",
            " ...\n",
            "\n",
            " [[220.92969 219.92969 214.92969]\n",
            "  [221.      220.      215.     ]\n",
            "  [220.65552 219.65552 214.65552]\n",
            "  ...\n",
            "  [185.7727  162.31104 135.13135]\n",
            "  [185.1145  161.1145  133.1145 ]\n",
            "  [188.59717 162.46875 133.03296]]\n",
            "\n",
            " [[221.      220.      215.     ]\n",
            "  [221.      220.      215.     ]\n",
            "  [218.6018  217.6018  212.6018 ]\n",
            "  ...\n",
            "  [193.88794 172.04419 145.32544]\n",
            "  [189.30786 165.35156 133.77808]\n",
            "  [186.21094 161.77344 130.77344]]\n",
            "\n",
            " [[220.92969 219.92969 214.92969]\n",
            "  [221.      220.      215.     ]\n",
            "  [220.93921 219.93921 214.93921]\n",
            "  ...\n",
            "  [157.27686 122.33765  84.33765]\n",
            "  [162.68335 127.68335  87.68335]\n",
            "  [170.15381 138.15381 100.15381]]], shape=(128, 128, 3), dtype=float32)\n",
            "Label tf.Tensor(b'cat', shape=(), dtype=string)\n",
            "Image tf.Tensor(\n",
            "[[[3.54218750e+01 4.74218750e+01 6.26718750e+01]\n",
            "  [4.25703125e+01 4.63437500e+01 6.22656250e+01]\n",
            "  [3.21250000e+01 4.47265625e+01 6.07734375e+01]\n",
            "  ...\n",
            "  [2.60234375e+01 1.82265625e+01 2.81250000e+00]\n",
            "  [2.66484375e+01 1.15234375e+01 8.98437500e-01]\n",
            "  [2.63046875e+01 1.28203125e+01 7.03125000e-02]]\n",
            "\n",
            " [[3.26015625e+01 5.01484375e+01 6.08359375e+01]\n",
            "  [3.55468750e+01 4.45468750e+01 5.97343750e+01]\n",
            "  [4.61093750e+01 4.81953125e+01 6.31875000e+01]\n",
            "  ...\n",
            "  [3.01250000e+01 1.41250000e+01 2.50000000e-01]\n",
            "  [2.43281250e+01 1.84921875e+01 2.57812500e+00]\n",
            "  [2.78281250e+01 1.57265625e+01 0.00000000e+00]]\n",
            "\n",
            " [[4.79375000e+01 5.01406250e+01 6.76796875e+01]\n",
            "  [3.31718750e+01 4.40234375e+01 6.46171875e+01]\n",
            "  [3.52031250e+01 5.20781250e+01 6.24531250e+01]\n",
            "  ...\n",
            "  [5.21093750e+01 2.15703125e+01 3.44531250e+00]\n",
            "  [4.21015625e+01 2.14609375e+01 1.14843750e+00]\n",
            "  [4.23359375e+01 1.30390625e+01 0.00000000e+00]]\n",
            "\n",
            " ...\n",
            "\n",
            " [[1.60835938e+02 1.09460938e+02 6.92109375e+01]\n",
            "  [1.57320312e+02 1.09726562e+02 5.95468750e+01]\n",
            "  [1.71515625e+02 1.14765625e+02 7.65156250e+01]\n",
            "  ...\n",
            "  [2.33125000e+01 2.35468750e+01 1.75078125e+01]\n",
            "  [6.21875000e+00 2.22031250e+01 1.62734375e+01]\n",
            "  [1.91718750e+01 2.15390625e+01 1.67031250e+01]]\n",
            "\n",
            " [[1.55390625e+02 1.07515625e+02 6.73906250e+01]\n",
            "  [1.59984375e+02 1.16179688e+02 7.39687500e+01]\n",
            "  [1.54320312e+02 1.04945312e+02 6.23203125e+01]\n",
            "  ...\n",
            "  [2.47578125e+01 2.32578125e+01 1.83828125e+01]\n",
            "  [1.83125000e+01 2.18203125e+01 1.77578125e+01]\n",
            "  [1.97890625e+01 2.18593750e+01 1.68828125e+01]]\n",
            "\n",
            " [[1.51335938e+02 1.03687500e+02 6.45859375e+01]\n",
            "  [1.62367188e+02 1.12328125e+02 6.56406250e+01]\n",
            "  [1.65320312e+02 1.16320312e+02 7.40703125e+01]\n",
            "  ...\n",
            "  [1.57890625e+01 2.55234375e+01 1.76250000e+01]\n",
            "  [1.70390625e+01 2.20390625e+01 1.60390625e+01]\n",
            "  [2.00625000e+01 2.26250000e+01 1.78125000e+01]]], shape=(128, 128, 3), dtype=float32)\n",
            "Label tf.Tensor(b'cat', shape=(), dtype=string)\n"
          ]
        }
      ]
    },
    {
      "cell_type": "code",
      "source": [
        "def scale(image, label):\n",
        "  return image/255, label"
      ],
      "metadata": {
        "id": "veF1eayjKedc"
      },
      "execution_count": 182,
      "outputs": []
    },
    {
      "cell_type": "code",
      "source": [
        "train_ds = train_ds.map(scale)\n",
        "for image, label in train_ds.take(5):\n",
        "  print(\"****Image: \", image.numpy()[0][0])\n",
        "  print(\"****Label: \", label.numpy())"
      ],
      "metadata": {
        "colab": {
          "base_uri": "https://localhost:8080/"
        },
        "id": "B3EgPTLcLpEa",
        "outputId": "2cc81314-deab-4090-8ee0-ec24fe45b8e4"
      },
      "execution_count": 183,
      "outputs": [
        {
          "output_type": "stream",
          "name": "stdout",
          "text": [
            "****Image:  [0.9019608 0.9372549 0.9647059]\n",
            "****Label:  b'cat'\n",
            "****Image:  [0.6095282  0.64090073 0.6918811 ]\n",
            "****Label:  b'cat'\n",
            "****Image:  [0.16285545 0.05305152 0.00108762]\n",
            "****Label:  b'cat'\n",
            "****Image:  [0.5749081 0.6807904 0.7239277]\n",
            "****Label:  b'cat'\n",
            "****Image:  [0.24387255 0.31446078 0.3615196 ]\n",
            "****Label:  b'dog'\n"
          ]
        }
      ]
    },
    {
      "cell_type": "code",
      "source": [],
      "metadata": {
        "id": "og0YXexmTe5g"
      },
      "execution_count": null,
      "outputs": []
    },
    {
      "cell_type": "code",
      "source": [],
      "metadata": {
        "id": "lYfZLBd8SCJ5"
      },
      "execution_count": null,
      "outputs": []
    }
  ]
}