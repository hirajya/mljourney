{
  "nbformat": 4,
  "nbformat_minor": 0,
  "metadata": {
    "colab": {
      "provenance": []
    },
    "kernelspec": {
      "name": "python3",
      "display_name": "Python 3"
    },
    "language_info": {
      "name": "python"
    }
  },
  "cells": [
    {
      "cell_type": "code",
      "execution_count": 1,
      "metadata": {
        "id": "WHKEnOTpUGo2"
      },
      "outputs": [],
      "source": [
        "import tensorflow as tf\n",
        "from tensorflow.keras import datasets, layers, models\n",
        "import matplotlib.pyplot as plt\n",
        "import numpy as np"
      ]
    },
    {
      "cell_type": "code",
      "source": [
        "(X_train, y_train), (X_test, y_test) = datasets.cifar10.load_data()\n",
        "X_train.shape"
      ],
      "metadata": {
        "colab": {
          "base_uri": "https://localhost:8080/"
        },
        "id": "4aDbMXdMUUyb",
        "outputId": "cb441a94-b9d7-4e78-b209-d72545969e22"
      },
      "execution_count": 3,
      "outputs": [
        {
          "output_type": "execute_result",
          "data": {
            "text/plain": [
              "(50000, 32, 32, 3)"
            ]
          },
          "metadata": {},
          "execution_count": 3
        }
      ]
    },
    {
      "cell_type": "code",
      "source": [
        "X_test.shape"
      ],
      "metadata": {
        "colab": {
          "base_uri": "https://localhost:8080/"
        },
        "id": "gmZasQ7nUXPK",
        "outputId": "0e4bd492-33b7-45a7-a956-253d44783333"
      },
      "execution_count": 4,
      "outputs": [
        {
          "output_type": "execute_result",
          "data": {
            "text/plain": [
              "(10000, 32, 32, 3)"
            ]
          },
          "metadata": {},
          "execution_count": 4
        }
      ]
    },
    {
      "cell_type": "code",
      "source": [
        "y_train.shape"
      ],
      "metadata": {
        "colab": {
          "base_uri": "https://localhost:8080/"
        },
        "id": "NaeIGn9oVRbC",
        "outputId": "07acb34c-d146-4ef8-83c3-1f6d61ff537d"
      },
      "execution_count": 9,
      "outputs": [
        {
          "output_type": "execute_result",
          "data": {
            "text/plain": [
              "(50000, 1)"
            ]
          },
          "metadata": {},
          "execution_count": 9
        }
      ]
    },
    {
      "cell_type": "code",
      "source": [
        "y_train[:5]"
      ],
      "metadata": {
        "colab": {
          "base_uri": "https://localhost:8080/"
        },
        "id": "Y7vAmjVJVcdS",
        "outputId": "16d24c62-0b8f-431c-c814-2fd396c37117"
      },
      "execution_count": 10,
      "outputs": [
        {
          "output_type": "execute_result",
          "data": {
            "text/plain": [
              "array([[6],\n",
              "       [9],\n",
              "       [9],\n",
              "       [4],\n",
              "       [1]], dtype=uint8)"
            ]
          },
          "metadata": {},
          "execution_count": 10
        }
      ]
    },
    {
      "cell_type": "code",
      "source": [
        "y_train = y_train.reshape(-1, ) # 2d array to 1d array\n",
        "y_train[:5]"
      ],
      "metadata": {
        "colab": {
          "base_uri": "https://localhost:8080/"
        },
        "id": "ecBpJePVVe8W",
        "outputId": "c690440c-40b1-49da-aeaf-10fbaee66cfd"
      },
      "execution_count": 11,
      "outputs": [
        {
          "output_type": "execute_result",
          "data": {
            "text/plain": [
              "array([6, 9, 9, 4, 1], dtype=uint8)"
            ]
          },
          "metadata": {},
          "execution_count": 11
        }
      ]
    },
    {
      "cell_type": "code",
      "source": [
        "classes = ['airplane', 'automobile', 'bird', 'cat', 'deer', 'dog', 'frog', 'horse', 'ship', 'truck']"
      ],
      "metadata": {
        "id": "Pf1KQSWlU-Zy"
      },
      "execution_count": 8,
      "outputs": []
    },
    {
      "cell_type": "code",
      "source": [
        "def plot_sample(X, y, index):\n",
        "  plt.figure(figsize= (15, 2))\n",
        "  plt.imshow(X_train[index])\n",
        "  plt.xlabel(classes[y[index]])"
      ],
      "metadata": {
        "id": "sxqn09BHUjCb"
      },
      "execution_count": 12,
      "outputs": []
    },
    {
      "cell_type": "code",
      "source": [
        "plot_sample(X_train, y_train, 69)"
      ],
      "metadata": {
        "colab": {
          "base_uri": "https://localhost:8080/",
          "height": 237
        },
        "id": "xZNpK9a7UnMX",
        "outputId": "4e644626-3e27-42a3-a1b9-98801b32a731"
      },
      "execution_count": 13,
      "outputs": [
        {
          "output_type": "display_data",
          "data": {
            "text/plain": [
              "<Figure size 1500x200 with 1 Axes>"
            ],
            "image/png": "[encoded data removed]"
          },
          "metadata": {}
        }
      ]
    },
    {
      "cell_type": "code",
      "source": [
        "plot_sample(X_train, y_train, 25)"
      ],
      "metadata": {
        "colab": {
          "base_uri": "https://localhost:8080/",
          "height": 237
        },
        "id": "bYJiZqi4V5cJ",
        "outputId": "56fe4b42-306c-4b9a-8772-1430c425693f"
      },
      "execution_count": 14,
      "outputs": [
        {
          "output_type": "display_data",
          "data": {
            "text/plain": [
              "<Figure size 1500x200 with 1 Axes>"
            ],
            "image/png": "[encoded data removed]"
          },
          "metadata": {}
        }
      ]
    },
    {
      "cell_type": "code",
      "source": [
        "X_train = X_train/255\n",
        "X_test = X_test/255"
      ],
      "metadata": {
        "id": "6OkH96yGV-Q4"
      },
      "execution_count": 17,
      "outputs": []
    },
    {
      "cell_type": "code",
      "source": [
        "ann = models.Sequential([\n",
        "    layers.Flatten(input_shape=(32, 32, 3)),\n",
        "    layers.Dense(3000, activation='relu'),\n",
        "    layers.Dense(1000, activation='relu'),\n",
        "    layers.Dense(10, activation='sigmoid')\n",
        "])\n",
        "\n",
        "ann.compile(\n",
        "    optimizer='SGD',\n",
        "    loss='sparse_categorical_crossentropy',\n",
        "    metrics=['accuracy']\n",
        ")\n",
        "\n",
        "ann.fit(X_train, y_train, epochs=5)"
      ],
      "metadata": {
        "colab": {
          "base_uri": "https://localhost:8080/"
        },
        "id": "BCxg_IP9WRq6",
        "outputId": "4451851f-2310-475a-dbd2-a11b910f3dad"
      },
      "execution_count": 18,
      "outputs": [
        {
          "output_type": "stream",
          "name": "stdout",
          "text": [
            "Epoch 1/5\n",
            "1563/1563 [==============================] - 194s 124ms/step - loss: 1.8143 - accuracy: 0.3529\n",
            "Epoch 2/5\n",
            "1563/1563 [==============================] - 163s 104ms/step - loss: 1.6252 - accuracy: 0.4272\n",
            "Epoch 3/5\n",
            "1563/1563 [==============================] - 184s 117ms/step - loss: 1.5448 - accuracy: 0.4562\n",
            "Epoch 4/5\n",
            "1563/1563 [==============================] - 184s 118ms/step - loss: 1.4847 - accuracy: 0.4743\n",
            "Epoch 5/5\n",
            "1563/1563 [==============================] - 241s 154ms/step - loss: 1.4339 - accuracy: 0.4957\n"
          ]
        },
        {
          "output_type": "execute_result",
          "data": {
            "text/plain": [
              "<keras.callbacks.History at 0x7eabe79433a0>"
            ]
          },
          "metadata": {},
          "execution_count": 18
        }
      ]
    },
    {
      "cell_type": "code",
      "source": [
        "ann.evaluate(X_test, y_test)"
      ],
      "metadata": {
        "colab": {
          "base_uri": "https://localhost:8080/"
        },
        "id": "gUVYanvFXrBD",
        "outputId": "e35e8a37-4181-45bd-fac3-abc9c96fa70a"
      },
      "execution_count": 19,
      "outputs": [
        {
          "output_type": "stream",
          "name": "stdout",
          "text": [
            "313/313 [==============================] - 11s 34ms/step - loss: 1.4918 - accuracy: 0.4667\n"
          ]
        },
        {
          "output_type": "execute_result",
          "data": {
            "text/plain": [
              "[1.4917523860931396, 0.4666999876499176]"
            ]
          },
          "metadata": {},
          "execution_count": 19
        }
      ]
    },
    {
      "cell_type": "code",
      "source": [
        "from sklearn.metrics import confusion_matrix, classification_report\n",
        "import numpy as np\n",
        "\n",
        "y_pred = ann.predict(X_test)\n",
        "print(y_pred)\n",
        "y_pred_classes = [np.argmax(element) for element in y_pred]\n",
        "\n",
        "print(\"Classification Report: \\n\", classification_report(y_test, y_pred_classes))"
      ],
      "metadata": {
        "colab": {
          "base_uri": "https://localhost:8080/"
        },
        "id": "NwA2bKxZYK4E",
        "outputId": "f375b9d4-d01d-44ec-cf34-87b414b7b3f1"
      },
      "execution_count": 20,
      "outputs": [
        {
          "output_type": "stream",
          "name": "stdout",
          "text": [
            "313/313 [==============================] - 11s 34ms/step\n",
            "[[0.3108519  0.5618135  0.7827013  ... 0.10936999 0.52784824 0.12843783]\n",
            " [0.8486326  0.9751255  0.22517362 ... 0.30793965 0.91622627 0.9802848 ]\n",
            " [0.9644745  0.94712305 0.30209708 ... 0.2988106  0.954649   0.9160996 ]\n",
            " ...\n",
            " [0.11840429 0.06692684 0.771578   ... 0.7675397  0.3640515  0.21338995]\n",
            " [0.36473575 0.27054262 0.7511518  ... 0.6352625  0.05907142 0.16861293]\n",
            " [0.5542694  0.1126352  0.6925455  ... 0.9398507  0.13132225 0.18091041]]\n",
            "Classification Report: \n",
            "               precision    recall  f1-score   support\n",
            "\n",
            "           0       0.55      0.58      0.56      1000\n",
            "           1       0.60      0.58      0.59      1000\n",
            "           2       0.45      0.29      0.36      1000\n",
            "           3       0.28      0.52      0.37      1000\n",
            "           4       0.45      0.36      0.40      1000\n",
            "           5       0.41      0.28      0.34      1000\n",
            "           6       0.66      0.31      0.42      1000\n",
            "           7       0.37      0.73      0.49      1000\n",
            "           8       0.71      0.50      0.59      1000\n",
            "           9       0.58      0.51      0.54      1000\n",
            "\n",
            "    accuracy                           0.47     10000\n",
            "   macro avg       0.51      0.47      0.47     10000\n",
            "weighted avg       0.51      0.47      0.47     10000\n",
            "\n"
          ]
        }
      ]
    },
    {
      "cell_type": "code",
      "source": [
        "cnn = models.Sequential([\n",
        "\n",
        "    # cnn\n",
        "    layers.Conv2D(filters=32, kernel_size=(3, 3), activation='relu', input_shape=(32,32,3)),\n",
        "    layers.MaxPooling2D((2,2)),\n",
        "\n",
        "    layers.Conv2D(filters=64, kernel_size=(3, 3), activation='relu'),\n",
        "    layers.MaxPooling2D((2,2)),\n",
        "\n",
        "    # dense\n",
        "    layers.Flatten(),\n",
        "    layers.Dense(64, activation='relu'),\n",
        "    layers.Dense(10, activation='softmax')\n",
        "])\n",
        "\n",
        "cnn.compile(\n",
        "    optimizer='adam',\n",
        "    loss='sparse_categorical_crossentropy',\n",
        "    metrics=['accuracy']\n",
        ")\n",
        "\n",
        "cnn.fit(X_train, y_train, epochs=5)"
      ],
      "metadata": {
        "colab": {
          "base_uri": "https://localhost:8080/"
        },
        "id": "7-evUMhyX6uA",
        "outputId": "9cfacf86-bb20-4744-9c5d-89dcbb30c324"
      },
      "execution_count": 21,
      "outputs": [
        {
          "output_type": "stream",
          "name": "stdout",
          "text": [
            "Epoch 1/5\n",
            "1563/1563 [==============================] - 80s 51ms/step - loss: 1.4635 - accuracy: 0.4743\n",
            "Epoch 2/5\n",
            "1563/1563 [==============================] - 98s 63ms/step - loss: 1.1198 - accuracy: 0.6068\n",
            "Epoch 3/5\n",
            "1563/1563 [==============================] - 102s 65ms/step - loss: 0.9902 - accuracy: 0.6538\n",
            "Epoch 4/5\n",
            "1563/1563 [==============================] - 76s 49ms/step - loss: 0.9055 - accuracy: 0.6863\n",
            "Epoch 5/5\n",
            "1563/1563 [==============================] - 88s 57ms/step - loss: 0.8434 - accuracy: 0.7083\n"
          ]
        },
        {
          "output_type": "execute_result",
          "data": {
            "text/plain": [
              "<keras.callbacks.History at 0x7eab74c10580>"
            ]
          },
          "metadata": {},
          "execution_count": 21
        }
      ]
    },
    {
      "cell_type": "code",
      "source": [
        "cnn.evaluate(X_test, y_test)"
      ],
      "metadata": {
        "colab": {
          "base_uri": "https://localhost:8080/"
        },
        "id": "mKOMSfl4bUCy",
        "outputId": "640e8717-f0f5-4976-addb-2f3e00690061"
      },
      "execution_count": 22,
      "outputs": [
        {
          "output_type": "stream",
          "name": "stdout",
          "text": [
            "313/313 [==============================] - 5s 16ms/step - loss: 0.9270 - accuracy: 0.6790\n"
          ]
        },
        {
          "output_type": "execute_result",
          "data": {
            "text/plain": [
              "[0.9269850850105286, 0.6790000200271606]"
            ]
          },
          "metadata": {},
          "execution_count": 22
        }
      ]
    },
    {
      "cell_type": "code",
      "source": [
        "y_test = y_test.reshape(-1, )\n",
        "y_test[:5]\n"
      ],
      "metadata": {
        "colab": {
          "base_uri": "https://localhost:8080/"
        },
        "id": "BUuSy-4Fbbc_",
        "outputId": "9b23eb1a-ca8c-4e12-8a9b-8bc25a4ffe83"
      },
      "execution_count": 23,
      "outputs": [
        {
          "output_type": "execute_result",
          "data": {
            "text/plain": [
              "array([3, 8, 8, 0, 6], dtype=uint8)"
            ]
          },
          "metadata": {},
          "execution_count": 23
        }
      ]
    },
    {
      "cell_type": "code",
      "source": [
        "plot_sample(X_test, y_test, 1)"
      ],
      "metadata": {
        "colab": {
          "base_uri": "https://localhost:8080/",
          "height": 237
        },
        "id": "Jn9JQdc1cGKK",
        "outputId": "0728894d-c8a0-4123-cd80-9ab61d979e64"
      },
      "execution_count": 24,
      "outputs": [
        {
          "output_type": "display_data",
          "data": {
            "text/plain": [
              "<Figure size 1500x200 with 1 Axes>"
            ],
            "image/png": "[encoded data removed]"
          },
          "metadata": {}
        }
      ]
    },
    {
      "cell_type": "code",
      "source": [
        "y_pred = cnn.predict(X_test)\n",
        "y_pred[:5]"
      ],
      "metadata": {
        "colab": {
          "base_uri": "https://localhost:8080/"
        },
        "id": "WeBEsRV7cIzN",
        "outputId": "7ddfcef2-b64a-493e-de75-7955b4869e0b"
      },
      "execution_count": 25,
      "outputs": [
        {
          "output_type": "stream",
          "name": "stdout",
          "text": [
            "313/313 [==============================] - 4s 14ms/step\n"
          ]
        },
        {
          "output_type": "execute_result",
          "data": {
            "text/plain": [
              "array([[4.0520858e-03, 1.8360476e-04, 1.1890239e-02, 7.4360400e-01,\n",
              "        2.9198134e-02, 1.6837479e-01, 1.4885716e-02, 2.5999527e-03,\n",
              "        2.4541829e-02, 6.6953979e-04],\n",
              "       [1.9529676e-02, 2.0537782e-01, 9.5620198e-05, 4.5919624e-06,\n",
              "        1.0316261e-05, 7.3081515e-07, 5.0648096e-06, 1.0162382e-06,\n",
              "        7.6787060e-01, 7.1044085e-03],\n",
              "       [1.8133499e-01, 2.5446323e-01, 2.2327031e-03, 4.1603711e-03,\n",
              "        1.9838423e-03, 9.1401243e-04, 4.8876950e-04, 2.2619285e-03,\n",
              "        5.2416742e-01, 2.7992750e-02],\n",
              "       [3.7465212e-01, 4.3359123e-02, 4.3277811e-02, 3.2172229e-03,\n",
              "        2.3316991e-02, 2.7163664e-04, 2.1395425e-03, 8.9818053e-04,\n",
              "        5.0785136e-01, 1.0160083e-03],\n",
              "       [1.2484578e-05, 8.9643530e-05, 2.1382442e-02, 3.0794865e-02,\n",
              "        3.3321387e-01, 6.7357123e-03, 6.0732836e-01, 5.4336349e-05,\n",
              "        3.4256830e-04, 4.5737339e-05]], dtype=float32)"
            ]
          },
          "metadata": {},
          "execution_count": 25
        }
      ]
    },
    {
      "cell_type": "code",
      "source": [
        "np.argmax([5, 12, 1, 2])"
      ],
      "metadata": {
        "colab": {
          "base_uri": "https://localhost:8080/"
        },
        "id": "Iq-I064McRzm",
        "outputId": "88f3e402-5ebf-4902-9588-61f82b43881e"
      },
      "execution_count": 26,
      "outputs": [
        {
          "output_type": "execute_result",
          "data": {
            "text/plain": [
              "1"
            ]
          },
          "metadata": {},
          "execution_count": 26
        }
      ]
    },
    {
      "cell_type": "code",
      "source": [
        "y_classes = [np.argmax(element) for element in y_pred]\n",
        "y_classes[:5]"
      ],
      "metadata": {
        "colab": {
          "base_uri": "https://localhost:8080/"
        },
        "id": "EXJ2qPH1cVOh",
        "outputId": "edfc77c8-f05c-4e51-f2f5-0b44bfe003a1"
      },
      "execution_count": 27,
      "outputs": [
        {
          "output_type": "execute_result",
          "data": {
            "text/plain": [
              "[3, 8, 8, 8, 6]"
            ]
          },
          "metadata": {},
          "execution_count": 27
        }
      ]
    },
    {
      "cell_type": "code",
      "source": [
        "y_test[:5]"
      ],
      "metadata": {
        "colab": {
          "base_uri": "https://localhost:8080/"
        },
        "id": "AF6um8EWcjBB",
        "outputId": "6f279aaf-83c1-4e22-f43d-2bab57f40e6d"
      },
      "execution_count": 28,
      "outputs": [
        {
          "output_type": "execute_result",
          "data": {
            "text/plain": [
              "array([3, 8, 8, 0, 6], dtype=uint8)"
            ]
          },
          "metadata": {},
          "execution_count": 28
        }
      ]
    },
    {
      "cell_type": "code",
      "source": [
        " print(\"Classification Report: \\n\", classification_report(y_test, y_classes))"
      ],
      "metadata": {
        "colab": {
          "base_uri": "https://localhost:8080/"
        },
        "id": "A4FpSOxXckdC",
        "outputId": "f04e060e-2eab-4046-b3fe-e3310f559477"
      },
      "execution_count": 29,
      "outputs": [
        {
          "output_type": "stream",
          "name": "stdout",
          "text": [
            "Classification Report: \n",
            "               precision    recall  f1-score   support\n",
            "\n",
            "           0       0.75      0.67      0.70      1000\n",
            "           1       0.86      0.72      0.79      1000\n",
            "           2       0.63      0.51      0.56      1000\n",
            "           3       0.52      0.43      0.48      1000\n",
            "           4       0.61      0.66      0.63      1000\n",
            "           5       0.55      0.70      0.61      1000\n",
            "           6       0.75      0.77      0.76      1000\n",
            "           7       0.75      0.72      0.74      1000\n",
            "           8       0.67      0.83      0.74      1000\n",
            "           9       0.75      0.78      0.76      1000\n",
            "\n",
            "    accuracy                           0.68     10000\n",
            "   macro avg       0.68      0.68      0.68     10000\n",
            "weighted avg       0.68      0.68      0.68     10000\n",
            "\n"
          ]
        }
      ]
    }
  ]
}