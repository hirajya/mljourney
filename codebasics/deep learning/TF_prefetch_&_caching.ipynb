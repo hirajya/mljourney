{
  "nbformat": 4,
  "nbformat_minor": 0,
  "metadata": {
    "colab": {
      "provenance": []
    },
    "kernelspec": {
      "name": "python3",
      "display_name": "Python 3"
    },
    "language_info": {
      "name": "python"
    }
  },
  "cells": [
    {
      "cell_type": "code",
      "execution_count": 1,
      "metadata": {
        "id": "TLNnFXC05Mbs"
      },
      "outputs": [],
      "source": [
        "import tensorflow as tf\n",
        "import time"
      ]
    },
    {
      "cell_type": "code",
      "source": [
        "tf.__version__"
      ],
      "metadata": {
        "colab": {
          "base_uri": "https://localhost:8080/",
          "height": 36
        },
        "id": "uea9lGrp5QMw",
        "outputId": "83a4cf94-a39b-4660-dbbc-c5734299ad4b"
      },
      "execution_count": 2,
      "outputs": [
        {
          "output_type": "execute_result",
          "data": {
            "text/plain": [
              "'2.12.0'"
            ],
            "application/vnd.google.colaboratory.intrinsic+json": {
              "type": "string"
            }
          },
          "metadata": {},
          "execution_count": 2
        }
      ]
    },
    {
      "cell_type": "code",
      "source": [
        "class FileDataset(tf.data.Dataset):\n",
        "  def read_files_in_batches(num_samples):\n",
        "    # open file\n",
        "    time.sleep(0.03)\n",
        "    for sample_idx in range(num_samples):\n",
        "      time.sleep(0.015)\n",
        "      yield (sample_idx, )\n",
        "\n",
        "  def __new__(cls, num_samples=3):\n",
        "    return tf.data.Dataset.from_generator(\n",
        "        cls.read_files_in_batches,\n",
        "        output_signature=tf.TensorSpec(shape = (1, ), dtype = tf.int64),\n",
        "        args=(num_samples,)\n",
        "    )\n",
        "\n",
        "\n"
      ],
      "metadata": {
        "id": "5j93txl75SQx"
      },
      "execution_count": 17,
      "outputs": []
    },
    {
      "cell_type": "code",
      "source": [
        "def benchmark(dataset, num_epochs=2):\n",
        "  for epoch_num in range(num_epochs):\n",
        "    for sample in dataset:\n",
        "      time.sleep(0.01)"
      ],
      "metadata": {
        "id": "kMElNPrT5_1V"
      },
      "execution_count": 18,
      "outputs": []
    },
    {
      "cell_type": "code",
      "source": [
        "%%timeit\n",
        "benchmark(FileDataset())"
      ],
      "metadata": {
        "colab": {
          "base_uri": "https://localhost:8080/"
        },
        "id": "YIN4ldPY6pe-",
        "outputId": "6b264c4a-8fff-49d6-c244-298028e7bc49"
      },
      "execution_count": 19,
      "outputs": [
        {
          "output_type": "stream",
          "name": "stdout",
          "text": [
            "316 ms ± 33.3 ms per loop (mean ± std. dev. of 7 runs, 1 loop each)\n"
          ]
        }
      ]
    },
    {
      "cell_type": "code",
      "source": [
        "%%timeit\n",
        "benchmark(FileDataset().prefetch(1))"
      ],
      "metadata": {
        "colab": {
          "base_uri": "https://localhost:8080/"
        },
        "id": "qd020zUU779j",
        "outputId": "e0a32946-56b1-4f0b-cc54-6090359cdda8"
      },
      "execution_count": 20,
      "outputs": [
        {
          "output_type": "stream",
          "name": "stdout",
          "text": [
            "332 ms ± 54.3 ms per loop (mean ± std. dev. of 7 runs, 1 loop each)\n"
          ]
        }
      ]
    },
    {
      "cell_type": "code",
      "source": [
        "%%timeit\n",
        "benchmark(FileDataset().prefetch(tf.data.AUTOTUNE))"
      ],
      "metadata": {
        "colab": {
          "base_uri": "https://localhost:8080/"
        },
        "id": "vyevvWDc8QG8",
        "outputId": "8b986d58-05b6-4d14-a3bc-12a9370f5da3"
      },
      "execution_count": 21,
      "outputs": [
        {
          "output_type": "stream",
          "name": "stdout",
          "text": [
            "292 ms ± 30.1 ms per loop (mean ± std. dev. of 7 runs, 1 loop each)\n"
          ]
        }
      ]
    },
    {
      "cell_type": "code",
      "source": [
        "dataset = tf.data.Dataset.range(5)\n",
        "for d in dataset:\n",
        "  print(d.numpy())"
      ],
      "metadata": {
        "colab": {
          "base_uri": "https://localhost:8080/"
        },
        "id": "Dr80ungL8bA5",
        "outputId": "d3d503d4-708d-485e-c5e1-e5a6202f82c9"
      },
      "execution_count": 22,
      "outputs": [
        {
          "output_type": "stream",
          "name": "stdout",
          "text": [
            "0\n",
            "1\n",
            "2\n",
            "3\n",
            "4\n"
          ]
        }
      ]
    },
    {
      "cell_type": "code",
      "source": [
        "df = dataset.map(lambda x: x**2)"
      ],
      "metadata": {
        "id": "BawKGpus892v"
      },
      "execution_count": 25,
      "outputs": []
    },
    {
      "cell_type": "code",
      "source": [
        "for d in df:\n",
        "  print(d.numpy())"
      ],
      "metadata": {
        "colab": {
          "base_uri": "https://localhost:8080/"
        },
        "id": "j9z4UxsF9Bt7",
        "outputId": "ecb0db5e-43f6-4b25-9412-3cad48d808a4"
      },
      "execution_count": 26,
      "outputs": [
        {
          "output_type": "stream",
          "name": "stdout",
          "text": [
            "0\n",
            "1\n",
            "4\n",
            "9\n",
            "16\n"
          ]
        }
      ]
    },
    {
      "cell_type": "code",
      "source": [
        "df = dataset.cache()\n",
        "for d in df.as_numpy_iterator():\n",
        "  print(d)"
      ],
      "metadata": {
        "colab": {
          "base_uri": "https://localhost:8080/"
        },
        "id": "60YBXgoH9HdA",
        "outputId": "6ac5a008-e1c0-47ff-a907-107056b1e030"
      },
      "execution_count": 27,
      "outputs": [
        {
          "output_type": "stream",
          "name": "stdout",
          "text": [
            "0\n",
            "1\n",
            "2\n",
            "3\n",
            "4\n"
          ]
        }
      ]
    },
    {
      "cell_type": "code",
      "source": [
        "list(df.as_numpy_iterator())"
      ],
      "metadata": {
        "colab": {
          "base_uri": "https://localhost:8080/"
        },
        "id": "YlPgJCho9SSj",
        "outputId": "fbd5d91e-9136-42db-c5c4-5142223245c0"
      },
      "execution_count": 28,
      "outputs": [
        {
          "output_type": "execute_result",
          "data": {
            "text/plain": [
              "[0, 1, 2, 3, 4]"
            ]
          },
          "metadata": {},
          "execution_count": 28
        }
      ]
    },
    {
      "cell_type": "code",
      "source": [
        "def mapped_function(s):\n",
        "  tf.py_function(lambda: time.sleep(0.03), [], ())\n",
        "  return s"
      ],
      "metadata": {
        "id": "qF6-25hx9VnN"
      },
      "execution_count": 30,
      "outputs": []
    },
    {
      "cell_type": "code",
      "source": [
        "FileDataset().map(mapped_function)"
      ],
      "metadata": {
        "colab": {
          "base_uri": "https://localhost:8080/"
        },
        "id": "hqToAjKl9qUr",
        "outputId": "425ad6b9-b8d7-44e0-f149-0df4f54d7785"
      },
      "execution_count": 31,
      "outputs": [
        {
          "output_type": "execute_result",
          "data": {
            "text/plain": [
              "<_MapDataset element_spec=TensorSpec(shape=(1,), dtype=tf.int64, name=None)>"
            ]
          },
          "metadata": {},
          "execution_count": 31
        }
      ]
    },
    {
      "cell_type": "code",
      "source": [
        "%%timeit -n1 -r1\n",
        "benchmark(FileDataset().map(mapped_function), 5)"
      ],
      "metadata": {
        "colab": {
          "base_uri": "https://localhost:8080/"
        },
        "id": "Uvxumi3I969k",
        "outputId": "ce3abf91-c03c-4483-895e-904402338b96"
      },
      "execution_count": 32,
      "outputs": [
        {
          "output_type": "stream",
          "name": "stdout",
          "text": [
            "2.42 s ± 0 ns per loop (mean ± std. dev. of 1 run, 1 loop each)\n"
          ]
        }
      ]
    },
    {
      "cell_type": "code",
      "source": [
        "%%timeit -n1 -r1\n",
        "benchmark(FileDataset().map(mapped_function).cache(), 5)"
      ],
      "metadata": {
        "colab": {
          "base_uri": "https://localhost:8080/"
        },
        "id": "O_D25NH9-Gx7",
        "outputId": "603b9845-27be-4ae8-a0a3-5b63cd36b1d1"
      },
      "execution_count": 33,
      "outputs": [
        {
          "output_type": "stream",
          "name": "stdout",
          "text": [
            "1.01 s ± 0 ns per loop (mean ± std. dev. of 1 run, 1 loop each)\n"
          ]
        }
      ]
    },
    {
      "cell_type": "code",
      "source": [],
      "metadata": {
        "id": "yoAWtk_B-VeZ"
      },
      "execution_count": null,
      "outputs": []
    }
  ]
}