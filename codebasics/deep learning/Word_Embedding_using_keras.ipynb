{
  "nbformat": 4,
  "nbformat_minor": 0,
  "metadata": {
    "colab": {
      "provenance": []
    },
    "kernelspec": {
      "name": "python3",
      "display_name": "Python 3"
    },
    "language_info": {
      "name": "python"
    }
  },
  "cells": [
    {
      "cell_type": "code",
      "execution_count": 1,
      "metadata": {
        "id": "StOMRPnIGW0d"
      },
      "outputs": [],
      "source": [
        "import numpy as np\n",
        "from tensorflow.keras.preprocessing.text import one_hot\n",
        "from tensorflow.keras.preprocessing.sequence import pad_sequences\n",
        "from tensorflow.keras.models import Sequential\n",
        "from tensorflow.keras.layers import Dense\n",
        "from tensorflow.keras.layers import Flatten\n",
        "from tensorflow.keras.layers import Embedding"
      ]
    },
    {
      "cell_type": "code",
      "source": [
        "reviews = [\n",
        "    'nice food',\n",
        "    'too good',\n",
        "    'amazing restaurant',\n",
        "    'just loved it',\n",
        "    'will go again',\n",
        "    'horrible food',\n",
        "    'never go there',\n",
        "    'putangina panget lasa',\n",
        "    'poor service',\n",
        "    'poor quality',\n",
        "    'needs improvement'\n",
        "]\n",
        "\n",
        "sentiment = np.array([1, 1, 1, 1, 1, 0, 0, 0, 0, 0, 0])"
      ],
      "metadata": {
        "id": "e1oN6VezGq2U"
      },
      "execution_count": 6,
      "outputs": []
    },
    {
      "cell_type": "code",
      "source": [
        "one_hot(\"amazing restaurant\", 3000)"
      ],
      "metadata": {
        "colab": {
          "base_uri": "https://localhost:8080/"
        },
        "id": "Ie87Yb6FHGpW",
        "outputId": "4ee63a1b-21be-442e-ad4b-f7c82ae48399"
      },
      "execution_count": 10,
      "outputs": [
        {
          "output_type": "execute_result",
          "data": {
            "text/plain": [
              "[717, 2977]"
            ]
          },
          "metadata": {},
          "execution_count": 10
        }
      ]
    },
    {
      "cell_type": "code",
      "source": [
        "one_hot(\"amazing restaurant\", 30)"
      ],
      "metadata": {
        "colab": {
          "base_uri": "https://localhost:8080/"
        },
        "id": "BEJa9O_nHUCO",
        "outputId": "e82d36d9-e7fb-4000-8ec2-baf70035b702"
      },
      "execution_count": 12,
      "outputs": [
        {
          "output_type": "execute_result",
          "data": {
            "text/plain": [
              "[29, 27]"
            ]
          },
          "metadata": {},
          "execution_count": 12
        }
      ]
    },
    {
      "cell_type": "code",
      "source": [
        "vocab_size = 30\n",
        "\n",
        "encoded_reviews = [one_hot(d, vocab_size) for d in reviews]\n",
        "encoded_reviews"
      ],
      "metadata": {
        "colab": {
          "base_uri": "https://localhost:8080/"
        },
        "id": "5gmEk86iHcGA",
        "outputId": "32c03f6a-1e4c-445a-94bf-bff21b259870"
      },
      "execution_count": 14,
      "outputs": [
        {
          "output_type": "execute_result",
          "data": {
            "text/plain": [
              "[[26, 4],\n",
              " [25, 11],\n",
              " [29, 27],\n",
              " [12, 8, 17],\n",
              " [9, 8, 11],\n",
              " [20, 4],\n",
              " [14, 8, 20],\n",
              " [2, 11, 2],\n",
              " [3, 23],\n",
              " [3, 3],\n",
              " [18, 19]]"
            ]
          },
          "metadata": {},
          "execution_count": 14
        }
      ]
    },
    {
      "cell_type": "code",
      "source": [
        "max_length = 3\n",
        "\n",
        "padded_reviews = pad_sequences(encoded_reviews, maxlen=max_length, padding='post')\n",
        "padded_reviews"
      ],
      "metadata": {
        "colab": {
          "base_uri": "https://localhost:8080/"
        },
        "id": "OpFwKzLXHpr2",
        "outputId": "1f1f81f7-4244-4c3b-d1a5-4010b0481309"
      },
      "execution_count": 15,
      "outputs": [
        {
          "output_type": "execute_result",
          "data": {
            "text/plain": [
              "array([[26,  4,  0],\n",
              "       [25, 11,  0],\n",
              "       [29, 27,  0],\n",
              "       [12,  8, 17],\n",
              "       [ 9,  8, 11],\n",
              "       [20,  4,  0],\n",
              "       [14,  8, 20],\n",
              "       [ 2, 11,  2],\n",
              "       [ 3, 23,  0],\n",
              "       [ 3,  3,  0],\n",
              "       [18, 19,  0]], dtype=int32)"
            ]
          },
          "metadata": {},
          "execution_count": 15
        }
      ]
    },
    {
      "cell_type": "code",
      "source": [
        "embedded_vector_size = 4\n",
        "\n",
        "model = Sequential()\n",
        "model.add(Embedding(vocab_size, embedded_vector_size, input_length=max_length, name=\"embedding\"))\n",
        "model.add(Flatten())\n",
        "model.add(Dense(1, activation='sigmoid'))"
      ],
      "metadata": {
        "id": "HEuDBUYjIEUY"
      },
      "execution_count": 20,
      "outputs": []
    },
    {
      "cell_type": "code",
      "source": [
        "X = padded_reviews\n",
        "y = sentiment"
      ],
      "metadata": {
        "id": "_jWFNTlgI37M"
      },
      "execution_count": 21,
      "outputs": []
    },
    {
      "cell_type": "code",
      "source": [
        "model.compile(\n",
        "    optimizer='adam',\n",
        "    loss='binary_crossentropy',\n",
        "    metrics=['accuracy']\n",
        ")"
      ],
      "metadata": {
        "id": "xGZH9MzJI9A0"
      },
      "execution_count": 22,
      "outputs": []
    },
    {
      "cell_type": "code",
      "source": [
        "model.summary()"
      ],
      "metadata": {
        "colab": {
          "base_uri": "https://localhost:8080/"
        },
        "id": "oeNS7O6kJIfg",
        "outputId": "a83b3db1-11df-4ffc-d845-bd156a2b72ab"
      },
      "execution_count": 23,
      "outputs": [
        {
          "output_type": "stream",
          "name": "stdout",
          "text": [
            "Model: \"sequential_1\"\n",
            "_________________________________________________________________\n",
            " Layer (type)                Output Shape              Param #   \n",
            "=================================================================\n",
            " embedding (Embedding)       (None, 3, 4)              120       \n",
            "                                                                 \n",
            " flatten_1 (Flatten)         (None, 12)                0         \n",
            "                                                                 \n",
            " dense_1 (Dense)             (None, 1)                 13        \n",
            "                                                                 \n",
            "=================================================================\n",
            "Total params: 133\n",
            "Trainable params: 133\n",
            "Non-trainable params: 0\n",
            "_________________________________________________________________\n"
          ]
        }
      ]
    },
    {
      "cell_type": "code",
      "source": [
        "model.fit(X, y, epochs=50, verbose=0)"
      ],
      "metadata": {
        "colab": {
          "base_uri": "https://localhost:8080/"
        },
        "id": "qg-olR9SJJQu",
        "outputId": "4d5defa9-c4ba-4a58-e33c-1aca5e0589ff"
      },
      "execution_count": 24,
      "outputs": [
        {
          "output_type": "execute_result",
          "data": {
            "text/plain": [
              "<keras.callbacks.History at 0x790238cb6230>"
            ]
          },
          "metadata": {},
          "execution_count": 24
        }
      ]
    },
    {
      "cell_type": "code",
      "source": [
        "loss, accuracy = model.evaluate(X, y)\n",
        "accuracy"
      ],
      "metadata": {
        "colab": {
          "base_uri": "https://localhost:8080/"
        },
        "id": "kXN1Mdb9Jcd7",
        "outputId": "9a739e36-8e2a-4c96-d86a-ac0c0c2c1684"
      },
      "execution_count": 25,
      "outputs": [
        {
          "output_type": "stream",
          "name": "stdout",
          "text": [
            "1/1 [==============================] - 0s 251ms/step - loss: 0.6346 - accuracy: 0.8182\n"
          ]
        },
        {
          "output_type": "execute_result",
          "data": {
            "text/plain": [
              "0.8181818127632141"
            ]
          },
          "metadata": {},
          "execution_count": 25
        }
      ]
    },
    {
      "cell_type": "code",
      "source": [
        "weights = model.get_layer(\"embedding\").get_weights()[0]\n",
        "weights"
      ],
      "metadata": {
        "colab": {
          "base_uri": "https://localhost:8080/"
        },
        "id": "GplJSg1mJiKA",
        "outputId": "54700340-9a77-43fe-ed86-1074b2997766"
      },
      "execution_count": 30,
      "outputs": [
        {
          "output_type": "execute_result",
          "data": {
            "text/plain": [
              "array([[ 0.06649303,  0.02315529, -0.02015208, -0.01888686],\n",
              "       [-0.04218109, -0.04471217, -0.03650121,  0.04504972],\n",
              "       [ 0.05899217,  0.0635724 , -0.07502172, -0.0411803 ],\n",
              "       [ 0.09611884,  0.08986293, -0.06288218, -0.0596535 ],\n",
              "       [ 0.04987312, -0.00870864,  0.02217744, -0.02585319],\n",
              "       [ 0.04151842,  0.03624126,  0.02228278,  0.0122214 ],\n",
              "       [ 0.00896414, -0.01220701,  0.03910213, -0.04683336],\n",
              "       [-0.04464271, -0.00132652, -0.0123353 , -0.00576012],\n",
              "       [ 0.0608191 ,  0.00634568,  0.08648341, -0.09767055],\n",
              "       [-0.00264543, -0.00728384,  0.00633743,  0.0711911 ],\n",
              "       [ 0.01089638,  0.02334091,  0.00641201, -0.01123213],\n",
              "       [-0.06218822, -0.00387696,  0.09492856,  0.0827812 ],\n",
              "       [-0.0782242 , -0.0489798 ,  0.06923579,  0.07094882],\n",
              "       [ 0.00564749,  0.03838233,  0.04075715, -0.03790627],\n",
              "       [ 0.09341422,  0.0180643 , -0.03229119, -0.03883103],\n",
              "       [ 0.03446886,  0.00715562,  0.04122702, -0.00819367],\n",
              "       [-0.02907385,  0.00473674, -0.04237533,  0.03439743],\n",
              "       [-0.08223346, -0.02310902,  0.02845873,  0.08649018],\n",
              "       [ 0.07488178,  0.03569649, -0.08460547, -0.04799045],\n",
              "       [-0.03451013, -0.09736115, -0.03284737,  0.02414202],\n",
              "       [ 0.00794253,  0.04912844, -0.06345508, -0.01954953],\n",
              "       [ 0.02027757, -0.01594167,  0.02408672,  0.02136132],\n",
              "       [ 0.02777041,  0.03233251,  0.02790675, -0.02525072],\n",
              "       [-0.03018281, -0.03003845, -0.00593699,  0.0924827 ],\n",
              "       [-0.04396538, -0.00719316, -0.01076577, -0.01228271],\n",
              "       [-0.04351851, -0.03595201,  0.08709025,  0.04629771],\n",
              "       [-0.02062035, -0.03263081,  0.04078335,  0.09049056],\n",
              "       [ 0.06052358,  0.0132663 ,  0.02922942, -0.05961575],\n",
              "       [ 0.00832406,  0.0187264 ,  0.04265771,  0.01091395],\n",
              "       [-0.08742937, -0.01972392,  0.07905423,  0.03327593]],\n",
              "      dtype=float32)"
            ]
          },
          "metadata": {},
          "execution_count": 30
        }
      ]
    },
    {
      "cell_type": "code",
      "source": [
        "len(weights)"
      ],
      "metadata": {
        "colab": {
          "base_uri": "https://localhost:8080/"
        },
        "id": "d8alRSPfJt0P",
        "outputId": "157768fd-f5d7-4db6-a7e8-01895b937a1f"
      },
      "execution_count": 31,
      "outputs": [
        {
          "output_type": "execute_result",
          "data": {
            "text/plain": [
              "30"
            ]
          },
          "metadata": {},
          "execution_count": 31
        }
      ]
    },
    {
      "cell_type": "code",
      "source": [
        "weights[26] # nice"
      ],
      "metadata": {
        "colab": {
          "base_uri": "https://localhost:8080/"
        },
        "id": "qYxUHNVjJ0zS",
        "outputId": "b482ffa2-96b0-4eba-f056-06ee579ff3ed"
      },
      "execution_count": 35,
      "outputs": [
        {
          "output_type": "execute_result",
          "data": {
            "text/plain": [
              "array([-0.02062035, -0.03263081,  0.04078335,  0.09049056], dtype=float32)"
            ]
          },
          "metadata": {},
          "execution_count": 35
        }
      ]
    },
    {
      "cell_type": "code",
      "source": [
        "weights[4] # food"
      ],
      "metadata": {
        "colab": {
          "base_uri": "https://localhost:8080/"
        },
        "id": "bhX8lbb_KR2W",
        "outputId": "e7e821fe-01ed-49ef-e298-ed710af4de95"
      },
      "execution_count": 34,
      "outputs": [
        {
          "output_type": "execute_result",
          "data": {
            "text/plain": [
              "array([ 0.04987312, -0.00870864,  0.02217744, -0.02585319], dtype=float32)"
            ]
          },
          "metadata": {},
          "execution_count": 34
        }
      ]
    },
    {
      "cell_type": "code",
      "source": [],
      "metadata": {
        "id": "k-dSV1T0KSW1"
      },
      "execution_count": null,
      "outputs": []
    }
  ]
}