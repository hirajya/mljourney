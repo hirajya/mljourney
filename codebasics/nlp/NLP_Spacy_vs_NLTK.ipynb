{
  "nbformat": 4,
  "nbformat_minor": 0,
  "metadata": {
    "colab": {
      "provenance": []
    },
    "kernelspec": {
      "name": "python3",
      "display_name": "Python 3"
    },
    "language_info": {
      "name": "python"
    }
  },
  "cells": [
    {
      "cell_type": "code",
      "execution_count": 1,
      "metadata": {
        "id": "K6j8o3xVNCeL"
      },
      "outputs": [],
      "source": [
        "import spacy"
      ]
    },
    {
      "cell_type": "code",
      "source": [
        "nlp = spacy.load(\"en_core_web_sm\")"
      ],
      "metadata": {
        "id": "GiAZlNwHNdF6"
      },
      "execution_count": 2,
      "outputs": []
    },
    {
      "cell_type": "code",
      "source": [
        "doc = nlp(\"I love turtles, because they are really cute. I love you, too.. shh.\")\n",
        "\n",
        "for sentence in doc.sents:\n",
        "  print(sentence)"
      ],
      "metadata": {
        "colab": {
          "base_uri": "https://localhost:8080/"
        },
        "id": "0XrAojjcNnSO",
        "outputId": "ed6b5b5b-0276-438b-e147-b74e1db67555"
      },
      "execution_count": 5,
      "outputs": [
        {
          "output_type": "stream",
          "name": "stdout",
          "text": [
            "I love turtles, because they are really cute.\n",
            "I love you, too.. shh.\n"
          ]
        }
      ]
    },
    {
      "cell_type": "code",
      "source": [
        "for sentence in doc.sents:\n",
        "  for word in sentence:\n",
        "    print(word)"
      ],
      "metadata": {
        "colab": {
          "base_uri": "https://localhost:8080/"
        },
        "id": "ilRJEuiiN8fI",
        "outputId": "b8c2ae55-bbb4-48d8-f671-bd93fe83a12b"
      },
      "execution_count": 6,
      "outputs": [
        {
          "output_type": "stream",
          "name": "stdout",
          "text": [
            "I\n",
            "love\n",
            "turtles\n",
            ",\n",
            "because\n",
            "they\n",
            "are\n",
            "really\n",
            "cute\n",
            ".\n",
            "I\n",
            "love\n",
            "you\n",
            ",\n",
            "too\n",
            "..\n",
            "shh\n",
            ".\n"
          ]
        }
      ]
    },
    {
      "cell_type": "code",
      "source": [
        "import nltk\n",
        "\n",
        "nltk.download('punkt')"
      ],
      "metadata": {
        "colab": {
          "base_uri": "https://localhost:8080/"
        },
        "id": "qjioRRFMOlmX",
        "outputId": "78e62eb8-0398-4af8-c669-c80519adee48"
      },
      "execution_count": 9,
      "outputs": [
        {
          "output_type": "stream",
          "name": "stderr",
          "text": [
            "[nltk_data] Downloading package punkt to /root/nltk_data...\n",
            "[nltk_data]   Unzipping tokenizers/punkt.zip.\n"
          ]
        },
        {
          "output_type": "execute_result",
          "data": {
            "text/plain": [
              "True"
            ]
          },
          "metadata": {},
          "execution_count": 9
        }
      ]
    },
    {
      "cell_type": "code",
      "source": [
        "from nltk.tokenize import sent_tokenize\n",
        "\n",
        "sent_tokenize(\"I love Dr. turtles, because they are really cute. I love you, too.. shh.\")"
      ],
      "metadata": {
        "colab": {
          "base_uri": "https://localhost:8080/"
        },
        "id": "pG7bbLVEOrII",
        "outputId": "f37b03e5-9a1c-48f8-b037-8bc3c614a33b"
      },
      "execution_count": 12,
      "outputs": [
        {
          "output_type": "execute_result",
          "data": {
            "text/plain": [
              "['I love Dr. turtles, because they are really cute.', 'I love you, too.. shh.']"
            ]
          },
          "metadata": {},
          "execution_count": 12
        }
      ]
    },
    {
      "cell_type": "code",
      "source": [
        "from nltk.tokenize import word_tokenize\n",
        "\n",
        "word_tokenize(\"I love Dr. turtles, because they are really cute. I love you, too.. shh.\")"
      ],
      "metadata": {
        "colab": {
          "base_uri": "https://localhost:8080/"
        },
        "id": "rxHRviZGPIif",
        "outputId": "80e68979-ec63-4d82-97e1-d8031d585863"
      },
      "execution_count": 13,
      "outputs": [
        {
          "output_type": "execute_result",
          "data": {
            "text/plain": [
              "['I',\n",
              " 'love',\n",
              " 'Dr.',\n",
              " 'turtles',\n",
              " ',',\n",
              " 'because',\n",
              " 'they',\n",
              " 'are',\n",
              " 'really',\n",
              " 'cute',\n",
              " '.',\n",
              " 'I',\n",
              " 'love',\n",
              " 'you',\n",
              " ',',\n",
              " 'too',\n",
              " '..',\n",
              " 'shh',\n",
              " '.']"
            ]
          },
          "metadata": {},
          "execution_count": 13
        }
      ]
    },
    {
      "cell_type": "code",
      "source": [],
      "metadata": {
        "id": "UE0H8XJSQBHP"
      },
      "execution_count": null,
      "outputs": []
    }
  ]
}