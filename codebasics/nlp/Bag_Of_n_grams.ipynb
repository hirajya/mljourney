{
  "nbformat": 4,
  "nbformat_minor": 0,
  "metadata": {
    "colab": {
      "provenance": []
    },
    "kernelspec": {
      "name": "python3",
      "display_name": "Python 3"
    },
    "language_info": {
      "name": "python"
    }
  },
  "cells": [
    {
      "cell_type": "code",
      "execution_count": 3,
      "metadata": {
        "colab": {
          "base_uri": "https://localhost:8080/"
        },
        "id": "CUn8T4o2DcsB",
        "outputId": "bf773d26-df3f-419d-9da3-3acf8c2b60d4"
      },
      "outputs": [
        {
          "output_type": "execute_result",
          "data": {
            "text/plain": [
              "{'thor': 9,\n",
              " 'hathodawala': 2,\n",
              " 'is': 4,\n",
              " 'looking': 7,\n",
              " 'for': 0,\n",
              " 'job': 6,\n",
              " 'thor hathodawala': 10,\n",
              " 'hathodawala is': 3,\n",
              " 'is looking': 5,\n",
              " 'looking for': 8,\n",
              " 'for job': 1}"
            ]
          },
          "metadata": {},
          "execution_count": 3
        }
      ],
      "source": [
        "from sklearn.feature_extraction.text import CountVectorizer\n",
        "\n",
        "v = CountVectorizer(ngram_range=(1, 2)) # params: ngram_range minimum, maximum ngrams\n",
        "v.fit([\"Thor Hathodawala is looking for a job\"])\n",
        "v.vocabulary_"
      ]
    },
    {
      "cell_type": "code",
      "source": [
        "corpus = [\n",
        "    \"Thor ate pizza\",\n",
        "    \"Loki is tall\",\n",
        "    \"Loki is eating pizza\"\n",
        "]"
      ],
      "metadata": {
        "id": "O71urpv6DthE"
      },
      "execution_count": 4,
      "outputs": []
    },
    {
      "cell_type": "code",
      "source": [
        "import spacy\n",
        "\n",
        "# Load english language model and create nlp object from it\n",
        "nlp = spacy.load(\"en_core_web_sm\")"
      ],
      "metadata": {
        "id": "sIl1VQyTER6J"
      },
      "execution_count": 5,
      "outputs": []
    },
    {
      "cell_type": "code",
      "source": [
        "def preprocess(text):\n",
        "  doc = nlp(text)\n",
        "\n",
        "  filtered_tokens = []\n",
        "  for token in doc:\n",
        "    if token.is_stop or token.is_punct:\n",
        "      continue\n",
        "    filtered_tokens.append(token.lemma_)\n",
        "  return \" \".join(filtered_tokens)\n",
        "\n",
        "preprocess(\"Loki is eating pizza\")"
      ],
      "metadata": {
        "colab": {
          "base_uri": "https://localhost:8080/",
          "height": 35
        },
        "id": "30PbpJzkEg3w",
        "outputId": "c20ee28c-b5a0-43b4-9fd6-b5f38a70bdee"
      },
      "execution_count": 7,
      "outputs": [
        {
          "output_type": "execute_result",
          "data": {
            "text/plain": [
              "'Loki eat pizza'"
            ],
            "application/vnd.google.colaboratory.intrinsic+json": {
              "type": "string"
            }
          },
          "metadata": {},
          "execution_count": 7
        }
      ]
    },
    {
      "cell_type": "code",
      "source": [
        "corpus_processed = [\n",
        "    preprocess(text) for text in corpus\n",
        "]\n",
        "\n",
        "corpus_processed"
      ],
      "metadata": {
        "colab": {
          "base_uri": "https://localhost:8080/"
        },
        "id": "USjYBqEPNrOH",
        "outputId": "35c2f1b7-28f9-46f7-b403-147ad47b22ed"
      },
      "execution_count": 8,
      "outputs": [
        {
          "output_type": "execute_result",
          "data": {
            "text/plain": [
              "['thor eat pizza', 'Loki tall', 'Loki eat pizza']"
            ]
          },
          "metadata": {},
          "execution_count": 8
        }
      ]
    },
    {
      "cell_type": "code",
      "source": [
        "v = CountVectorizer(ngram_range=(1, 2))\n",
        "v.fit(corpus_processed)\n",
        "v.vocabulary_"
      ],
      "metadata": {
        "colab": {
          "base_uri": "https://localhost:8080/"
        },
        "id": "gXLfMCv2N6BZ",
        "outputId": "e369d5fd-939e-4adf-d7a8-fa5bdb696264"
      },
      "execution_count": 9,
      "outputs": [
        {
          "output_type": "execute_result",
          "data": {
            "text/plain": [
              "{'thor': 7,\n",
              " 'eat': 0,\n",
              " 'pizza': 5,\n",
              " 'thor eat': 8,\n",
              " 'eat pizza': 1,\n",
              " 'loki': 2,\n",
              " 'tall': 6,\n",
              " 'loki tall': 4,\n",
              " 'loki eat': 3}"
            ]
          },
          "metadata": {},
          "execution_count": 9
        }
      ]
    },
    {
      "cell_type": "code",
      "source": [
        "v.transform([\"Thor eat pizza\"]).toarray()"
      ],
      "metadata": {
        "colab": {
          "base_uri": "https://localhost:8080/"
        },
        "id": "20UWH8nMODTx",
        "outputId": "c1db9a1d-ef00-41ef-8a79-5cf756039c21"
      },
      "execution_count": 11,
      "outputs": [
        {
          "output_type": "execute_result",
          "data": {
            "text/plain": [
              "array([[1, 1, 0, 0, 0, 1, 0, 1, 1]])"
            ]
          },
          "metadata": {},
          "execution_count": 11
        }
      ]
    },
    {
      "cell_type": "code",
      "source": [
        "v.transform([\"Rod eat pizza\"]).toarray()"
      ],
      "metadata": {
        "colab": {
          "base_uri": "https://localhost:8080/"
        },
        "id": "swsuPqtJOWtU",
        "outputId": "4b4a452d-2196-4bb9-805b-6dc9cdb0d99e"
      },
      "execution_count": 12,
      "outputs": [
        {
          "output_type": "execute_result",
          "data": {
            "text/plain": [
              "array([[1, 1, 0, 0, 0, 1, 0, 0, 0]])"
            ]
          },
          "metadata": {},
          "execution_count": 12
        }
      ]
    },
    {
      "cell_type": "code",
      "source": [
        "from google.colab import drive\n",
        "drive.mount(\"/gdrive\")"
      ],
      "metadata": {
        "colab": {
          "base_uri": "https://localhost:8080/"
        },
        "id": "UoZAAmj4OftG",
        "outputId": "f044d213-b121-4674-db06-75a14f373b80"
      },
      "execution_count": 13,
      "outputs": [
        {
          "output_type": "stream",
          "name": "stdout",
          "text": [
            "Mounted at /gdrive\n"
          ]
        }
      ]
    },
    {
      "cell_type": "code",
      "source": [
        "import os\n",
        "os.environ['KAGGLE_CONFIG_DIR'] = \"/content/drive/MyDrive/kaggle\"\n",
        "%cd \"/content/drive/MyDrive/kaggle\""
      ],
      "metadata": {
        "colab": {
          "base_uri": "https://localhost:8080/"
        },
        "id": "deHwVyLKO6-b",
        "outputId": "ad914eed-9b3a-4098-a536-1959fe829c20"
      },
      "execution_count": 16,
      "outputs": [
        {
          "output_type": "stream",
          "name": "stdout",
          "text": [
            "/content/drive/MyDrive/kaggle\n"
          ]
        }
      ]
    },
    {
      "cell_type": "code",
      "source": [
        "!kaggle datasets download -d rmisra/news-category-dataset"
      ],
      "metadata": {
        "colab": {
          "base_uri": "https://localhost:8080/"
        },
        "id": "fZqCKssuPEGU",
        "outputId": "6c7629b8-41cf-4a4d-a162-9ae0ca13fee2"
      },
      "execution_count": 17,
      "outputs": [
        {
          "output_type": "stream",
          "name": "stdout",
          "text": [
            "Downloading news-category-dataset.zip to /content/drive/MyDrive/kaggle\n",
            " 68% 18.0M/26.5M [00:00<00:00, 94.4MB/s]\n",
            "100% 26.5M/26.5M [00:00<00:00, 108MB/s] \n"
          ]
        }
      ]
    },
    {
      "cell_type": "code",
      "source": [
        "!unzip \\*.zip && rm *.zip"
      ],
      "metadata": {
        "colab": {
          "base_uri": "https://localhost:8080/"
        },
        "id": "GCEu0vYSPM_h",
        "outputId": "7d7f375f-103f-45cd-eacf-e4966eccd363"
      },
      "execution_count": 18,
      "outputs": [
        {
          "output_type": "stream",
          "name": "stdout",
          "text": [
            "Archive:  news-category-dataset.zip\n",
            "  inflating: News_Category_Dataset_v3.json  \n"
          ]
        }
      ]
    },
    {
      "cell_type": "code",
      "source": [
        "import pandas as pd\n",
        "\n",
        "df = pd.read_json(\"/content/drive/MyDrive/kaggle/News_Category_Dataset_v3.json\", lines=True)\n",
        "\n",
        "df.shape"
      ],
      "metadata": {
        "colab": {
          "base_uri": "https://localhost:8080/"
        },
        "id": "hoEBmV2OPQb4",
        "outputId": "7b6e5d97-59fc-4e39-cd79-6792c9c86d87"
      },
      "execution_count": 20,
      "outputs": [
        {
          "output_type": "execute_result",
          "data": {
            "text/plain": [
              "(209527, 6)"
            ]
          },
          "metadata": {},
          "execution_count": 20
        }
      ]
    },
    {
      "cell_type": "code",
      "source": [
        "df.head()"
      ],
      "metadata": {
        "colab": {
          "base_uri": "https://localhost:8080/",
          "height": 536
        },
        "id": "Dte4Sz4TPUvz",
        "outputId": "0a42d803-db03-4a86-9837-f6e453bb9866"
      },
      "execution_count": 21,
      "outputs": [
        {
          "output_type": "execute_result",
          "data": {
            "text/plain": [
              "                                                link  \\\n",
              "0  https://www.huffpost.com/entry/covid-boosters-...   \n",
              "1  https://www.huffpost.com/entry/american-airlin...   \n",
              "2  https://www.huffpost.com/entry/funniest-tweets...   \n",
              "3  https://www.huffpost.com/entry/funniest-parent...   \n",
              "4  https://www.huffpost.com/entry/amy-cooper-lose...   \n",
              "\n",
              "                                            headline   category  \\\n",
              "0  Over 4 Million Americans Roll Up Sleeves For O...  U.S. NEWS   \n",
              "1  American Airlines Flyer Charged, Banned For Li...  U.S. NEWS   \n",
              "2  23 Of The Funniest Tweets About Cats And Dogs ...     COMEDY   \n",
              "3  The Funniest Tweets From Parents This Week (Se...  PARENTING   \n",
              "4  Woman Who Called Cops On Black Bird-Watcher Lo...  U.S. NEWS   \n",
              "\n",
              "                                   short_description               authors  \\\n",
              "0  Health experts said it is too early to predict...  Carla K. Johnson, AP   \n",
              "1  He was subdued by passengers and crew when he ...        Mary Papenfuss   \n",
              "2  \"Until you have a dog you don't understand wha...         Elyse Wanshel   \n",
              "3  \"Accidentally put grown-up toothpaste on my to...      Caroline Bologna   \n",
              "4  Amy Cooper accused investment firm Franklin Te...        Nina Golgowski   \n",
              "\n",
              "        date  \n",
              "0 2022-09-23  \n",
              "1 2022-09-23  \n",
              "2 2022-09-23  \n",
              "3 2022-09-23  \n",
              "4 2022-09-22  "
            ],
            "text/html": [
              "\n",
              "  <div id=\"df-d2b6c4fa-f865-44ff-b44c-8507691f6554\" class=\"colab-df-container\">\n",
              "    <div>\n",
              "<style scoped>\n",
              "    .dataframe tbody tr th:only-of-type {\n",
              "        vertical-align: middle;\n",
              "    }\n",
              "\n",
              "    .dataframe tbody tr th {\n",
              "        vertical-align: top;\n",
              "    }\n",
              "\n",
              "    .dataframe thead th {\n",
              "        text-align: right;\n",
              "    }\n",
              "</style>\n",
              "<table border=\"1\" class=\"dataframe\">\n",
              "  <thead>\n",
              "    <tr style=\"text-align: right;\">\n",
              "      <th></th>\n",
              "      <th>link</th>\n",
              "      <th>headline</th>\n",
              "      <th>category</th>\n",
              "      <th>short_description</th>\n",
              "      <th>authors</th>\n",
              "      <th>date</th>\n",
              "    </tr>\n",
              "  </thead>\n",
              "  <tbody>\n",
              "    <tr>\n",
              "      <th>0</th>\n",
              "      <td>https://www.huffpost.com/entry/covid-boosters-...</td>\n",
              "      <td>Over 4 Million Americans Roll Up Sleeves For O...</td>\n",
              "      <td>U.S. NEWS</td>\n",
              "      <td>Health experts said it is too early to predict...</td>\n",
              "      <td>Carla K. Johnson, AP</td>\n",
              "      <td>2022-09-23</td>\n",
              "    </tr>\n",
              "    <tr>\n",
              "      <th>1</th>\n",
              "      <td>https://www.huffpost.com/entry/american-airlin...</td>\n",
              "      <td>American Airlines Flyer Charged, Banned For Li...</td>\n",
              "      <td>U.S. NEWS</td>\n",
              "      <td>He was subdued by passengers and crew when he ...</td>\n",
              "      <td>Mary Papenfuss</td>\n",
              "      <td>2022-09-23</td>\n",
              "    </tr>\n",
              "    <tr>\n",
              "      <th>2</th>\n",
              "      <td>https://www.huffpost.com/entry/funniest-tweets...</td>\n",
              "      <td>23 Of The Funniest Tweets About Cats And Dogs ...</td>\n",
              "      <td>COMEDY</td>\n",
              "      <td>\"Until you have a dog you don't understand wha...</td>\n",
              "      <td>Elyse Wanshel</td>\n",
              "      <td>2022-09-23</td>\n",
              "    </tr>\n",
              "    <tr>\n",
              "      <th>3</th>\n",
              "      <td>https://www.huffpost.com/entry/funniest-parent...</td>\n",
              "      <td>The Funniest Tweets From Parents This Week (Se...</td>\n",
              "      <td>PARENTING</td>\n",
              "      <td>\"Accidentally put grown-up toothpaste on my to...</td>\n",
              "      <td>Caroline Bologna</td>\n",
              "      <td>2022-09-23</td>\n",
              "    </tr>\n",
              "    <tr>\n",
              "      <th>4</th>\n",
              "      <td>https://www.huffpost.com/entry/amy-cooper-lose...</td>\n",
              "      <td>Woman Who Called Cops On Black Bird-Watcher Lo...</td>\n",
              "      <td>U.S. NEWS</td>\n",
              "      <td>Amy Cooper accused investment firm Franklin Te...</td>\n",
              "      <td>Nina Golgowski</td>\n",
              "      <td>2022-09-22</td>\n",
              "    </tr>\n",
              "  </tbody>\n",
              "</table>\n",
              "</div>\n",
              "    <div class=\"colab-df-buttons\">\n",
              "\n",
              "  <div class=\"colab-df-container\">\n",
              "    <button class=\"colab-df-convert\" onclick=\"convertToInteractive('df-d2b6c4fa-f865-44ff-b44c-8507691f6554')\"\n",
              "            title=\"Convert this dataframe to an interactive table.\"\n",
              "            style=\"display:none;\">\n",
              "\n",
              "  <svg xmlns=\"http://www.w3.org/2000/svg\" height=\"24px\" viewBox=\"0 -960 960 960\">\n",
              "    <path d=\"M120-120v-720h720v720H120Zm60-500h600v-160H180v160Zm220 220h160v-160H400v160Zm0 220h160v-160H400v160ZM180-400h160v-160H180v160Zm440 0h160v-160H620v160ZM180-180h160v-160H180v160Zm440 0h160v-160H620v160Z\"/>\n",
              "  </svg>\n",
              "    </button>\n",
              "\n",
              "  <style>\n",
              "    .colab-df-container {\n",
              "      display:flex;\n",
              "      gap: 12px;\n",
              "    }\n",
              "\n",
              "    .colab-df-convert {\n",
              "      background-color: #E8F0FE;\n",
              "      border: none;\n",
              "      border-radius: 50%;\n",
              "      cursor: pointer;\n",
              "      display: none;\n",
              "      fill: #1967D2;\n",
              "      height: 32px;\n",
              "      padding: 0 0 0 0;\n",
              "      width: 32px;\n",
              "    }\n",
              "\n",
              "    .colab-df-convert:hover {\n",
              "      background-color: #E2EBFA;\n",
              "      box-shadow: 0px 1px 2px rgba(60, 64, 67, 0.3), 0px 1px 3px 1px rgba(60, 64, 67, 0.15);\n",
              "      fill: #174EA6;\n",
              "    }\n",
              "\n",
              "    .colab-df-buttons div {\n",
              "      margin-bottom: 4px;\n",
              "    }\n",
              "\n",
              "    [theme=dark] .colab-df-convert {\n",
              "      background-color: #3B4455;\n",
              "      fill: #D2E3FC;\n",
              "    }\n",
              "\n",
              "    [theme=dark] .colab-df-convert:hover {\n",
              "      background-color: #434B5C;\n",
              "      box-shadow: 0px 1px 3px 1px rgba(0, 0, 0, 0.15);\n",
              "      filter: drop-shadow(0px 1px 2px rgba(0, 0, 0, 0.3));\n",
              "      fill: #FFFFFF;\n",
              "    }\n",
              "  </style>\n",
              "\n",
              "    <script>\n",
              "      const buttonEl =\n",
              "        document.querySelector('#df-d2b6c4fa-f865-44ff-b44c-8507691f6554 button.colab-df-convert');\n",
              "      buttonEl.style.display =\n",
              "        google.colab.kernel.accessAllowed ? 'block' : 'none';\n",
              "\n",
              "      async function convertToInteractive(key) {\n",
              "        const element = document.querySelector('#df-d2b6c4fa-f865-44ff-b44c-8507691f6554');\n",
              "        const dataTable =\n",
              "          await google.colab.kernel.invokeFunction('convertToInteractive',\n",
              "                                                    [key], {});\n",
              "        if (!dataTable) return;\n",
              "\n",
              "        const docLinkHtml = 'Like what you see? Visit the ' +\n",
              "          '<a target=\"_blank\" href=https://colab.research.google.com/notebooks/data_table.ipynb>data table notebook</a>'\n",
              "          + ' to learn more about interactive tables.';\n",
              "        element.innerHTML = '';\n",
              "        dataTable['output_type'] = 'display_data';\n",
              "        await google.colab.output.renderOutput(dataTable, element);\n",
              "        const docLink = document.createElement('div');\n",
              "        docLink.innerHTML = docLinkHtml;\n",
              "        element.appendChild(docLink);\n",
              "      }\n",
              "    </script>\n",
              "  </div>\n",
              "\n",
              "\n",
              "<div id=\"df-225a4900-5d99-43f4-970d-5b1e3e3bd059\">\n",
              "  <button class=\"colab-df-quickchart\" onclick=\"quickchart('df-225a4900-5d99-43f4-970d-5b1e3e3bd059')\"\n",
              "            title=\"Suggest charts\"\n",
              "            style=\"display:none;\">\n",
              "\n",
              "<svg xmlns=\"http://www.w3.org/2000/svg\" height=\"24px\"viewBox=\"0 0 24 24\"\n",
              "     width=\"24px\">\n",
              "    <g>\n",
              "        <path d=\"M19 3H5c-1.1 0-2 .9-2 2v14c0 1.1.9 2 2 2h14c1.1 0 2-.9 2-2V5c0-1.1-.9-2-2-2zM9 17H7v-7h2v7zm4 0h-2V7h2v10zm4 0h-2v-4h2v4z\"/>\n",
              "    </g>\n",
              "</svg>\n",
              "  </button>\n",
              "\n",
              "<style>\n",
              "  .colab-df-quickchart {\n",
              "      --bg-color: #E8F0FE;\n",
              "      --fill-color: #1967D2;\n",
              "      --hover-bg-color: #E2EBFA;\n",
              "      --hover-fill-color: #174EA6;\n",
              "      --disabled-fill-color: #AAA;\n",
              "      --disabled-bg-color: #DDD;\n",
              "  }\n",
              "\n",
              "  [theme=dark] .colab-df-quickchart {\n",
              "      --bg-color: #3B4455;\n",
              "      --fill-color: #D2E3FC;\n",
              "      --hover-bg-color: #434B5C;\n",
              "      --hover-fill-color: #FFFFFF;\n",
              "      --disabled-bg-color: #3B4455;\n",
              "      --disabled-fill-color: #666;\n",
              "  }\n",
              "\n",
              "  .colab-df-quickchart {\n",
              "    background-color: var(--bg-color);\n",
              "    border: none;\n",
              "    border-radius: 50%;\n",
              "    cursor: pointer;\n",
              "    display: none;\n",
              "    fill: var(--fill-color);\n",
              "    height: 32px;\n",
              "    padding: 0;\n",
              "    width: 32px;\n",
              "  }\n",
              "\n",
              "  .colab-df-quickchart:hover {\n",
              "    background-color: var(--hover-bg-color);\n",
              "    box-shadow: 0 1px 2px rgba(60, 64, 67, 0.3), 0 1px 3px 1px rgba(60, 64, 67, 0.15);\n",
              "    fill: var(--button-hover-fill-color);\n",
              "  }\n",
              "\n",
              "  .colab-df-quickchart-complete:disabled,\n",
              "  .colab-df-quickchart-complete:disabled:hover {\n",
              "    background-color: var(--disabled-bg-color);\n",
              "    fill: var(--disabled-fill-color);\n",
              "    box-shadow: none;\n",
              "  }\n",
              "\n",
              "  .colab-df-spinner {\n",
              "    border: 2px solid var(--fill-color);\n",
              "    border-color: transparent;\n",
              "    border-bottom-color: var(--fill-color);\n",
              "    animation:\n",
              "      spin 1s steps(1) infinite;\n",
              "  }\n",
              "\n",
              "  @keyframes spin {\n",
              "    0% {\n",
              "      border-color: transparent;\n",
              "      border-bottom-color: var(--fill-color);\n",
              "      border-left-color: var(--fill-color);\n",
              "    }\n",
              "    20% {\n",
              "      border-color: transparent;\n",
              "      border-left-color: var(--fill-color);\n",
              "      border-top-color: var(--fill-color);\n",
              "    }\n",
              "    30% {\n",
              "      border-color: transparent;\n",
              "      border-left-color: var(--fill-color);\n",
              "      border-top-color: var(--fill-color);\n",
              "      border-right-color: var(--fill-color);\n",
              "    }\n",
              "    40% {\n",
              "      border-color: transparent;\n",
              "      border-right-color: var(--fill-color);\n",
              "      border-top-color: var(--fill-color);\n",
              "    }\n",
              "    60% {\n",
              "      border-color: transparent;\n",
              "      border-right-color: var(--fill-color);\n",
              "    }\n",
              "    80% {\n",
              "      border-color: transparent;\n",
              "      border-right-color: var(--fill-color);\n",
              "      border-bottom-color: var(--fill-color);\n",
              "    }\n",
              "    90% {\n",
              "      border-color: transparent;\n",
              "      border-bottom-color: var(--fill-color);\n",
              "    }\n",
              "  }\n",
              "</style>\n",
              "\n",
              "  <script>\n",
              "    async function quickchart(key) {\n",
              "      const quickchartButtonEl =\n",
              "        document.querySelector('#' + key + ' button');\n",
              "      quickchartButtonEl.disabled = true;  // To prevent multiple clicks.\n",
              "      quickchartButtonEl.classList.add('colab-df-spinner');\n",
              "      try {\n",
              "        const charts = await google.colab.kernel.invokeFunction(\n",
              "            'suggestCharts', [key], {});\n",
              "      } catch (error) {\n",
              "        console.error('Error during call to suggestCharts:', error);\n",
              "      }\n",
              "      quickchartButtonEl.classList.remove('colab-df-spinner');\n",
              "      quickchartButtonEl.classList.add('colab-df-quickchart-complete');\n",
              "    }\n",
              "    (() => {\n",
              "      let quickchartButtonEl =\n",
              "        document.querySelector('#df-225a4900-5d99-43f4-970d-5b1e3e3bd059 button');\n",
              "      quickchartButtonEl.style.display =\n",
              "        google.colab.kernel.accessAllowed ? 'block' : 'none';\n",
              "    })();\n",
              "  </script>\n",
              "</div>\n",
              "    </div>\n",
              "  </div>\n"
            ]
          },
          "metadata": {},
          "execution_count": 21
        }
      ]
    },
    {
      "cell_type": "code",
      "source": [
        "df.category.value_counts()"
      ],
      "metadata": {
        "colab": {
          "base_uri": "https://localhost:8080/"
        },
        "id": "wSrV6rRQPeKm",
        "outputId": "87cf4363-0abd-472e-d6c6-1009efa508e7"
      },
      "execution_count": 23,
      "outputs": [
        {
          "output_type": "execute_result",
          "data": {
            "text/plain": [
              "POLITICS          35602\n",
              "WELLNESS          17945\n",
              "ENTERTAINMENT     17362\n",
              "TRAVEL             9900\n",
              "STYLE & BEAUTY     9814\n",
              "PARENTING          8791\n",
              "HEALTHY LIVING     6694\n",
              "QUEER VOICES       6347\n",
              "FOOD & DRINK       6340\n",
              "BUSINESS           5992\n",
              "COMEDY             5400\n",
              "SPORTS             5077\n",
              "BLACK VOICES       4583\n",
              "HOME & LIVING      4320\n",
              "PARENTS            3955\n",
              "THE WORLDPOST      3664\n",
              "WEDDINGS           3653\n",
              "WOMEN              3572\n",
              "CRIME              3562\n",
              "IMPACT             3484\n",
              "DIVORCE            3426\n",
              "WORLD NEWS         3299\n",
              "MEDIA              2944\n",
              "WEIRD NEWS         2777\n",
              "GREEN              2622\n",
              "WORLDPOST          2579\n",
              "RELIGION           2577\n",
              "STYLE              2254\n",
              "SCIENCE            2206\n",
              "TECH               2104\n",
              "TASTE              2096\n",
              "MONEY              1756\n",
              "ARTS               1509\n",
              "ENVIRONMENT        1444\n",
              "FIFTY              1401\n",
              "GOOD NEWS          1398\n",
              "U.S. NEWS          1377\n",
              "ARTS & CULTURE     1339\n",
              "COLLEGE            1144\n",
              "LATINO VOICES      1130\n",
              "CULTURE & ARTS     1074\n",
              "EDUCATION          1014\n",
              "Name: category, dtype: int64"
            ]
          },
          "metadata": {},
          "execution_count": 23
        }
      ]
    },
    {
      "cell_type": "code",
      "source": [
        "min_samples = 1014\n",
        "categories = df.category.value_counts().index.tolist()\n",
        "dfs_by_category = {}  # Dictionary to store dataframes by category\n",
        "\n",
        "for category in categories:\n",
        "    df_category = df[df.category == category].sample(min_samples, random_state=2022)\n",
        "\n",
        "    dfs_by_category[category] = df_category\n",
        "\n",
        "concatenated_df = pd.concat(dfs_by_category.values(), ignore_index=True)\n"
      ],
      "metadata": {
        "id": "MTy8lWEqRkWj"
      },
      "execution_count": 25,
      "outputs": []
    },
    {
      "cell_type": "code",
      "source": [
        "concatenated_df.category.value_counts()"
      ],
      "metadata": {
        "colab": {
          "base_uri": "https://localhost:8080/"
        },
        "id": "mpQ1PxGzQUVI",
        "outputId": "00e731c1-50af-4c51-eda3-4f4486a728b9"
      },
      "execution_count": 28,
      "outputs": [
        {
          "output_type": "execute_result",
          "data": {
            "text/plain": [
              "POLITICS          1014\n",
              "MONEY             1014\n",
              "WEIRD NEWS        1014\n",
              "GREEN             1014\n",
              "WORLDPOST         1014\n",
              "RELIGION          1014\n",
              "STYLE             1014\n",
              "SCIENCE           1014\n",
              "TECH              1014\n",
              "TASTE             1014\n",
              "ARTS              1014\n",
              "WELLNESS          1014\n",
              "ENVIRONMENT       1014\n",
              "FIFTY             1014\n",
              "GOOD NEWS         1014\n",
              "U.S. NEWS         1014\n",
              "ARTS & CULTURE    1014\n",
              "COLLEGE           1014\n",
              "LATINO VOICES     1014\n",
              "CULTURE & ARTS    1014\n",
              "MEDIA             1014\n",
              "WORLD NEWS        1014\n",
              "DIVORCE           1014\n",
              "IMPACT            1014\n",
              "ENTERTAINMENT     1014\n",
              "TRAVEL            1014\n",
              "STYLE & BEAUTY    1014\n",
              "PARENTING         1014\n",
              "HEALTHY LIVING    1014\n",
              "QUEER VOICES      1014\n",
              "FOOD & DRINK      1014\n",
              "BUSINESS          1014\n",
              "COMEDY            1014\n",
              "SPORTS            1014\n",
              "BLACK VOICES      1014\n",
              "HOME & LIVING     1014\n",
              "PARENTS           1014\n",
              "THE WORLDPOST     1014\n",
              "WEDDINGS          1014\n",
              "WOMEN             1014\n",
              "CRIME             1014\n",
              "EDUCATION         1014\n",
              "Name: category, dtype: int64"
            ]
          },
          "metadata": {},
          "execution_count": 28
        }
      ]
    },
    {
      "cell_type": "code",
      "source": [
        "from sklearn.preprocessing import LabelEncoder\n",
        "\n",
        "# Assuming 'df' is your DataFrame and 'category' is the column to encode\n",
        "label_encoder = LabelEncoder()\n",
        "\n",
        "# Fit and transform the 'category' column into numerical labels\n",
        "concatenated_df['category_encoded'] = label_encoder.fit_transform(concatenated_df['category'])\n",
        "\n",
        "# Display the updated DataFrame with the encoded column\n",
        "print(concatenated_df)\n"
      ],
      "metadata": {
        "colab": {
          "base_uri": "https://localhost:8080/"
        },
        "id": "lMsWc4cZSXfm",
        "outputId": "8dadb4b9-9c95-4d63-8432-99e014731c9b"
      },
      "execution_count": 32,
      "outputs": [
        {
          "output_type": "stream",
          "name": "stdout",
          "text": [
            "                                                    link  \\\n",
            "0      https://www.huffingtonpost.com/entry/trump-hea...   \n",
            "1      https://www.huffingtonpost.com/entry/dreamers-...   \n",
            "2      https://www.huffingtonpost.com/entry/democrats...   \n",
            "3      https://www.huffingtonpost.com/entry/jcc-lette...   \n",
            "4      https://www.huffingtonpost.com/entry/donald-tr...   \n",
            "...                                                  ...   \n",
            "42583  https://www.huffingtonpost.com/entry/the-globa...   \n",
            "42584  https://www.huffingtonpost.com/entry/reflectio...   \n",
            "42585  https://www.huffingtonpost.com/entry/for-the-f...   \n",
            "42586  https://www.huffingtonpost.com/entry/charter-s...   \n",
            "42587  https://www.huffingtonpost.com/entry/3-tips-fo...   \n",
            "\n",
            "                                                headline   category  \\\n",
            "0      The Coverage Of Trump’s Big Dumb Body Is Fat W...   POLITICS   \n",
            "1           Dreamers Are People, Not Political Footballs   POLITICS   \n",
            "2      Democrats Must Elect Bernie Sanders Senate Min...   POLITICS   \n",
            "3      Jewish Leaders Frustrated By Lack Of Progress ...   POLITICS   \n",
            "4      Donald Trump Roasted For Painfully Awkward Att...   POLITICS   \n",
            "...                                                  ...        ...   \n",
            "42583  The Global Search for Education: Our Global To...  EDUCATION   \n",
            "42584  Reflections of an Octogenarian IV: Whatever Ha...  EDUCATION   \n",
            "42585  For The Future Of Education, Answer The Callin...  EDUCATION   \n",
            "42586  America's Charter Schools Have A Commitment Pr...  EDUCATION   \n",
            "42587  3 Tips for Using Video Interviews to Hire Grea...  EDUCATION   \n",
            "\n",
            "                                       short_description  \\\n",
            "0      The president, it evidently needs to be said, ...   \n",
            "1      People should not be reduced to pawns used by ...   \n",
            "2      The Senate will meet this Wednesday to elect i...   \n",
            "3      In a letter to Attorney General Jeff Sessions,...   \n",
            "4               Well, that didn't seem to go as planned.   \n",
            "...                                                  ...   \n",
            "42583  Everybody was blogging in 2014, and especially...   \n",
            "42584  Educators are still talking about a core curri...   \n",
            "42585  Today, the educational environment is plagued ...   \n",
            "42586  Just google \"charter school closes unexpectedl...   \n",
            "42587  The problem isn't drought, it's a flood. Yet, ...   \n",
            "\n",
            "                                                 authors       date  \\\n",
            "0                                         Travis Waldron 2018-01-18   \n",
            "1      Center for Community Change Action, Contributo... 2017-09-09   \n",
            "2      Linda Milazzo, ContributorParticipatory journa... 2016-11-13   \n",
            "3                                            Matt Ferner 2017-03-08   \n",
            "4                                        Rebecca Shapiro 2018-04-24   \n",
            "...                                                  ...        ...   \n",
            "42583  C. M. Rubin, ContributorBlogger and author, 'T... 2015-01-01   \n",
            "42584  Larry Paros, ContributorWriter, educator, lect... 2015-02-23   \n",
            "42585  Pamela Roggeman, ContributorAcademic Dean for ... 2017-06-21   \n",
            "42586  Peter Greene, ContributorTeacher, blogger, tai... 2017-04-22   \n",
            "42587              Josh Tolan, ContributorCEO, SparkHire 2014-07-17   \n",
            "\n",
            "       category_encoded  \n",
            "0                    24  \n",
            "1                    24  \n",
            "2                    24  \n",
            "3                    24  \n",
            "4                    24  \n",
            "...                 ...  \n",
            "42583                 9  \n",
            "42584                 9  \n",
            "42585                 9  \n",
            "42586                 9  \n",
            "42587                 9  \n",
            "\n",
            "[42588 rows x 7 columns]\n"
          ]
        }
      ]
    },
    {
      "cell_type": "code",
      "source": [
        "concatenated_df.head(-5)"
      ],
      "metadata": {
        "colab": {
          "base_uri": "https://localhost:8080/",
          "height": 1000
        },
        "id": "-Z3Gf0JFTSik",
        "outputId": "ff62b4e4-62b9-4964-8769-649903c3645a"
      },
      "execution_count": 35,
      "outputs": [
        {
          "output_type": "execute_result",
          "data": {
            "text/plain": [
              "                                                    link  \\\n",
              "0      https://www.huffingtonpost.com/entry/trump-hea...   \n",
              "1      https://www.huffingtonpost.com/entry/dreamers-...   \n",
              "2      https://www.huffingtonpost.com/entry/democrats...   \n",
              "3      https://www.huffingtonpost.com/entry/jcc-lette...   \n",
              "4      https://www.huffingtonpost.com/entry/donald-tr...   \n",
              "...                                                  ...   \n",
              "42578  https://www.huffingtonpost.com/entry/kentucky-...   \n",
              "42579  https://www.huffingtonpost.com/entry/parkland-...   \n",
              "42580  https://www.huffingtonpost.com/entry/creating-...   \n",
              "42581  https://www.huffingtonpost.com/entry/my-classr...   \n",
              "42582  https://www.huffingtonpost.com/entry/director-...   \n",
              "\n",
              "                                                headline   category  \\\n",
              "0      The Coverage Of Trump’s Big Dumb Body Is Fat W...   POLITICS   \n",
              "1           Dreamers Are People, Not Political Footballs   POLITICS   \n",
              "2      Democrats Must Elect Bernie Sanders Senate Min...   POLITICS   \n",
              "3      Jewish Leaders Frustrated By Lack Of Progress ...   POLITICS   \n",
              "4      Donald Trump Roasted For Painfully Awkward Att...   POLITICS   \n",
              "...                                                  ...        ...   \n",
              "42578  Teachers Swarm Kentucky Capitol To Protest Pen...  EDUCATION   \n",
              "42579  Parkland School District Votes Against Arming ...  EDUCATION   \n",
              "42580         Creating a Learning Environment With MOOCs  EDUCATION   \n",
              "42581                        My Classroom, Not My Island  EDUCATION   \n",
              "42582  Director Of Christian Organization Calls On Ch...  EDUCATION   \n",
              "\n",
              "                                       short_description  \\\n",
              "0      The president, it evidently needs to be said, ...   \n",
              "1      People should not be reduced to pawns used by ...   \n",
              "2      The Senate will meet this Wednesday to elect i...   \n",
              "3      In a letter to Attorney General Jeff Sessions,...   \n",
              "4               Well, that didn't seem to go as planned.   \n",
              "...                                                  ...   \n",
              "42578  “We feel demoralized, we feel assaulted, and w...   \n",
              "42579  \"I have not met one teacher or one student who...   \n",
              "42580  The question, in the end, is not whether or no...   \n",
              "42581  As a woman of color and a life-long Chicagoan,...   \n",
              "42582  On February 07, 2017, Andrea Reyes Ramirez, ex...   \n",
              "\n",
              "                                                 authors       date  \\\n",
              "0                                         Travis Waldron 2018-01-18   \n",
              "1      Center for Community Change Action, Contributo... 2017-09-09   \n",
              "2      Linda Milazzo, ContributorParticipatory journa... 2016-11-13   \n",
              "3                                            Matt Ferner 2017-03-08   \n",
              "4                                        Rebecca Shapiro 2018-04-24   \n",
              "...                                                  ...        ...   \n",
              "42578                                     Travis Waldron 2018-04-02   \n",
              "42579                                      Hayley Miller 2018-04-11   \n",
              "42580  Christine Nasserghodsi, ContributorDirector of... 2014-08-16   \n",
              "42581                TNTP, ContributorReimagine teaching 2014-05-27   \n",
              "42582  Mercedes Schneider, ContributorPublic school t... 2017-03-20   \n",
              "\n",
              "       category_encoded  \n",
              "0                    24  \n",
              "1                    24  \n",
              "2                    24  \n",
              "3                    24  \n",
              "4                    24  \n",
              "...                 ...  \n",
              "42578                 9  \n",
              "42579                 9  \n",
              "42580                 9  \n",
              "42581                 9  \n",
              "42582                 9  \n",
              "\n",
              "[42583 rows x 7 columns]"
            ],
            "text/html": [
              "\n",
              "  <div id=\"df-16a3c942-5ee6-4cd0-a42f-7f77f8193e0e\" class=\"colab-df-container\">\n",
              "    <div>\n",
              "<style scoped>\n",
              "    .dataframe tbody tr th:only-of-type {\n",
              "        vertical-align: middle;\n",
              "    }\n",
              "\n",
              "    .dataframe tbody tr th {\n",
              "        vertical-align: top;\n",
              "    }\n",
              "\n",
              "    .dataframe thead th {\n",
              "        text-align: right;\n",
              "    }\n",
              "</style>\n",
              "<table border=\"1\" class=\"dataframe\">\n",
              "  <thead>\n",
              "    <tr style=\"text-align: right;\">\n",
              "      <th></th>\n",
              "      <th>link</th>\n",
              "      <th>headline</th>\n",
              "      <th>category</th>\n",
              "      <th>short_description</th>\n",
              "      <th>authors</th>\n",
              "      <th>date</th>\n",
              "      <th>category_encoded</th>\n",
              "    </tr>\n",
              "  </thead>\n",
              "  <tbody>\n",
              "    <tr>\n",
              "      <th>0</th>\n",
              "      <td>https://www.huffingtonpost.com/entry/trump-hea...</td>\n",
              "      <td>The Coverage Of Trump’s Big Dumb Body Is Fat W...</td>\n",
              "      <td>POLITICS</td>\n",
              "      <td>The president, it evidently needs to be said, ...</td>\n",
              "      <td>Travis Waldron</td>\n",
              "      <td>2018-01-18</td>\n",
              "      <td>24</td>\n",
              "    </tr>\n",
              "    <tr>\n",
              "      <th>1</th>\n",
              "      <td>https://www.huffingtonpost.com/entry/dreamers-...</td>\n",
              "      <td>Dreamers Are People, Not Political Footballs</td>\n",
              "      <td>POLITICS</td>\n",
              "      <td>People should not be reduced to pawns used by ...</td>\n",
              "      <td>Center for Community Change Action, Contributo...</td>\n",
              "      <td>2017-09-09</td>\n",
              "      <td>24</td>\n",
              "    </tr>\n",
              "    <tr>\n",
              "      <th>2</th>\n",
              "      <td>https://www.huffingtonpost.com/entry/democrats...</td>\n",
              "      <td>Democrats Must Elect Bernie Sanders Senate Min...</td>\n",
              "      <td>POLITICS</td>\n",
              "      <td>The Senate will meet this Wednesday to elect i...</td>\n",
              "      <td>Linda Milazzo, ContributorParticipatory journa...</td>\n",
              "      <td>2016-11-13</td>\n",
              "      <td>24</td>\n",
              "    </tr>\n",
              "    <tr>\n",
              "      <th>3</th>\n",
              "      <td>https://www.huffingtonpost.com/entry/jcc-lette...</td>\n",
              "      <td>Jewish Leaders Frustrated By Lack Of Progress ...</td>\n",
              "      <td>POLITICS</td>\n",
              "      <td>In a letter to Attorney General Jeff Sessions,...</td>\n",
              "      <td>Matt Ferner</td>\n",
              "      <td>2017-03-08</td>\n",
              "      <td>24</td>\n",
              "    </tr>\n",
              "    <tr>\n",
              "      <th>4</th>\n",
              "      <td>https://www.huffingtonpost.com/entry/donald-tr...</td>\n",
              "      <td>Donald Trump Roasted For Painfully Awkward Att...</td>\n",
              "      <td>POLITICS</td>\n",
              "      <td>Well, that didn't seem to go as planned.</td>\n",
              "      <td>Rebecca Shapiro</td>\n",
              "      <td>2018-04-24</td>\n",
              "      <td>24</td>\n",
              "    </tr>\n",
              "    <tr>\n",
              "      <th>...</th>\n",
              "      <td>...</td>\n",
              "      <td>...</td>\n",
              "      <td>...</td>\n",
              "      <td>...</td>\n",
              "      <td>...</td>\n",
              "      <td>...</td>\n",
              "      <td>...</td>\n",
              "    </tr>\n",
              "    <tr>\n",
              "      <th>42578</th>\n",
              "      <td>https://www.huffingtonpost.com/entry/kentucky-...</td>\n",
              "      <td>Teachers Swarm Kentucky Capitol To Protest Pen...</td>\n",
              "      <td>EDUCATION</td>\n",
              "      <td>“We feel demoralized, we feel assaulted, and w...</td>\n",
              "      <td>Travis Waldron</td>\n",
              "      <td>2018-04-02</td>\n",
              "      <td>9</td>\n",
              "    </tr>\n",
              "    <tr>\n",
              "      <th>42579</th>\n",
              "      <td>https://www.huffingtonpost.com/entry/parkland-...</td>\n",
              "      <td>Parkland School District Votes Against Arming ...</td>\n",
              "      <td>EDUCATION</td>\n",
              "      <td>\"I have not met one teacher or one student who...</td>\n",
              "      <td>Hayley Miller</td>\n",
              "      <td>2018-04-11</td>\n",
              "      <td>9</td>\n",
              "    </tr>\n",
              "    <tr>\n",
              "      <th>42580</th>\n",
              "      <td>https://www.huffingtonpost.com/entry/creating-...</td>\n",
              "      <td>Creating a Learning Environment With MOOCs</td>\n",
              "      <td>EDUCATION</td>\n",
              "      <td>The question, in the end, is not whether or no...</td>\n",
              "      <td>Christine Nasserghodsi, ContributorDirector of...</td>\n",
              "      <td>2014-08-16</td>\n",
              "      <td>9</td>\n",
              "    </tr>\n",
              "    <tr>\n",
              "      <th>42581</th>\n",
              "      <td>https://www.huffingtonpost.com/entry/my-classr...</td>\n",
              "      <td>My Classroom, Not My Island</td>\n",
              "      <td>EDUCATION</td>\n",
              "      <td>As a woman of color and a life-long Chicagoan,...</td>\n",
              "      <td>TNTP, ContributorReimagine teaching</td>\n",
              "      <td>2014-05-27</td>\n",
              "      <td>9</td>\n",
              "    </tr>\n",
              "    <tr>\n",
              "      <th>42582</th>\n",
              "      <td>https://www.huffingtonpost.com/entry/director-...</td>\n",
              "      <td>Director Of Christian Organization Calls On Ch...</td>\n",
              "      <td>EDUCATION</td>\n",
              "      <td>On February 07, 2017, Andrea Reyes Ramirez, ex...</td>\n",
              "      <td>Mercedes Schneider, ContributorPublic school t...</td>\n",
              "      <td>2017-03-20</td>\n",
              "      <td>9</td>\n",
              "    </tr>\n",
              "  </tbody>\n",
              "</table>\n",
              "<p>42583 rows × 7 columns</p>\n",
              "</div>\n",
              "    <div class=\"colab-df-buttons\">\n",
              "\n",
              "  <div class=\"colab-df-container\">\n",
              "    <button class=\"colab-df-convert\" onclick=\"convertToInteractive('df-16a3c942-5ee6-4cd0-a42f-7f77f8193e0e')\"\n",
              "            title=\"Convert this dataframe to an interactive table.\"\n",
              "            style=\"display:none;\">\n",
              "\n",
              "  <svg xmlns=\"http://www.w3.org/2000/svg\" height=\"24px\" viewBox=\"0 -960 960 960\">\n",
              "    <path d=\"M120-120v-720h720v720H120Zm60-500h600v-160H180v160Zm220 220h160v-160H400v160Zm0 220h160v-160H400v160ZM180-400h160v-160H180v160Zm440 0h160v-160H620v160ZM180-180h160v-160H180v160Zm440 0h160v-160H620v160Z\"/>\n",
              "  </svg>\n",
              "    </button>\n",
              "\n",
              "  <style>\n",
              "    .colab-df-container {\n",
              "      display:flex;\n",
              "      gap: 12px;\n",
              "    }\n",
              "\n",
              "    .colab-df-convert {\n",
              "      background-color: #E8F0FE;\n",
              "      border: none;\n",
              "      border-radius: 50%;\n",
              "      cursor: pointer;\n",
              "      display: none;\n",
              "      fill: #1967D2;\n",
              "      height: 32px;\n",
              "      padding: 0 0 0 0;\n",
              "      width: 32px;\n",
              "    }\n",
              "\n",
              "    .colab-df-convert:hover {\n",
              "      background-color: #E2EBFA;\n",
              "      box-shadow: 0px 1px 2px rgba(60, 64, 67, 0.3), 0px 1px 3px 1px rgba(60, 64, 67, 0.15);\n",
              "      fill: #174EA6;\n",
              "    }\n",
              "\n",
              "    .colab-df-buttons div {\n",
              "      margin-bottom: 4px;\n",
              "    }\n",
              "\n",
              "    [theme=dark] .colab-df-convert {\n",
              "      background-color: #3B4455;\n",
              "      fill: #D2E3FC;\n",
              "    }\n",
              "\n",
              "    [theme=dark] .colab-df-convert:hover {\n",
              "      background-color: #434B5C;\n",
              "      box-shadow: 0px 1px 3px 1px rgba(0, 0, 0, 0.15);\n",
              "      filter: drop-shadow(0px 1px 2px rgba(0, 0, 0, 0.3));\n",
              "      fill: #FFFFFF;\n",
              "    }\n",
              "  </style>\n",
              "\n",
              "    <script>\n",
              "      const buttonEl =\n",
              "        document.querySelector('#df-16a3c942-5ee6-4cd0-a42f-7f77f8193e0e button.colab-df-convert');\n",
              "      buttonEl.style.display =\n",
              "        google.colab.kernel.accessAllowed ? 'block' : 'none';\n",
              "\n",
              "      async function convertToInteractive(key) {\n",
              "        const element = document.querySelector('#df-16a3c942-5ee6-4cd0-a42f-7f77f8193e0e');\n",
              "        const dataTable =\n",
              "          await google.colab.kernel.invokeFunction('convertToInteractive',\n",
              "                                                    [key], {});\n",
              "        if (!dataTable) return;\n",
              "\n",
              "        const docLinkHtml = 'Like what you see? Visit the ' +\n",
              "          '<a target=\"_blank\" href=https://colab.research.google.com/notebooks/data_table.ipynb>data table notebook</a>'\n",
              "          + ' to learn more about interactive tables.';\n",
              "        element.innerHTML = '';\n",
              "        dataTable['output_type'] = 'display_data';\n",
              "        await google.colab.output.renderOutput(dataTable, element);\n",
              "        const docLink = document.createElement('div');\n",
              "        docLink.innerHTML = docLinkHtml;\n",
              "        element.appendChild(docLink);\n",
              "      }\n",
              "    </script>\n",
              "  </div>\n",
              "\n",
              "\n",
              "<div id=\"df-b5064311-004c-4965-8a49-4960a28b6698\">\n",
              "  <button class=\"colab-df-quickchart\" onclick=\"quickchart('df-b5064311-004c-4965-8a49-4960a28b6698')\"\n",
              "            title=\"Suggest charts\"\n",
              "            style=\"display:none;\">\n",
              "\n",
              "<svg xmlns=\"http://www.w3.org/2000/svg\" height=\"24px\"viewBox=\"0 0 24 24\"\n",
              "     width=\"24px\">\n",
              "    <g>\n",
              "        <path d=\"M19 3H5c-1.1 0-2 .9-2 2v14c0 1.1.9 2 2 2h14c1.1 0 2-.9 2-2V5c0-1.1-.9-2-2-2zM9 17H7v-7h2v7zm4 0h-2V7h2v10zm4 0h-2v-4h2v4z\"/>\n",
              "    </g>\n",
              "</svg>\n",
              "  </button>\n",
              "\n",
              "<style>\n",
              "  .colab-df-quickchart {\n",
              "      --bg-color: #E8F0FE;\n",
              "      --fill-color: #1967D2;\n",
              "      --hover-bg-color: #E2EBFA;\n",
              "      --hover-fill-color: #174EA6;\n",
              "      --disabled-fill-color: #AAA;\n",
              "      --disabled-bg-color: #DDD;\n",
              "  }\n",
              "\n",
              "  [theme=dark] .colab-df-quickchart {\n",
              "      --bg-color: #3B4455;\n",
              "      --fill-color: #D2E3FC;\n",
              "      --hover-bg-color: #434B5C;\n",
              "      --hover-fill-color: #FFFFFF;\n",
              "      --disabled-bg-color: #3B4455;\n",
              "      --disabled-fill-color: #666;\n",
              "  }\n",
              "\n",
              "  .colab-df-quickchart {\n",
              "    background-color: var(--bg-color);\n",
              "    border: none;\n",
              "    border-radius: 50%;\n",
              "    cursor: pointer;\n",
              "    display: none;\n",
              "    fill: var(--fill-color);\n",
              "    height: 32px;\n",
              "    padding: 0;\n",
              "    width: 32px;\n",
              "  }\n",
              "\n",
              "  .colab-df-quickchart:hover {\n",
              "    background-color: var(--hover-bg-color);\n",
              "    box-shadow: 0 1px 2px rgba(60, 64, 67, 0.3), 0 1px 3px 1px rgba(60, 64, 67, 0.15);\n",
              "    fill: var(--button-hover-fill-color);\n",
              "  }\n",
              "\n",
              "  .colab-df-quickchart-complete:disabled,\n",
              "  .colab-df-quickchart-complete:disabled:hover {\n",
              "    background-color: var(--disabled-bg-color);\n",
              "    fill: var(--disabled-fill-color);\n",
              "    box-shadow: none;\n",
              "  }\n",
              "\n",
              "  .colab-df-spinner {\n",
              "    border: 2px solid var(--fill-color);\n",
              "    border-color: transparent;\n",
              "    border-bottom-color: var(--fill-color);\n",
              "    animation:\n",
              "      spin 1s steps(1) infinite;\n",
              "  }\n",
              "\n",
              "  @keyframes spin {\n",
              "    0% {\n",
              "      border-color: transparent;\n",
              "      border-bottom-color: var(--fill-color);\n",
              "      border-left-color: var(--fill-color);\n",
              "    }\n",
              "    20% {\n",
              "      border-color: transparent;\n",
              "      border-left-color: var(--fill-color);\n",
              "      border-top-color: var(--fill-color);\n",
              "    }\n",
              "    30% {\n",
              "      border-color: transparent;\n",
              "      border-left-color: var(--fill-color);\n",
              "      border-top-color: var(--fill-color);\n",
              "      border-right-color: var(--fill-color);\n",
              "    }\n",
              "    40% {\n",
              "      border-color: transparent;\n",
              "      border-right-color: var(--fill-color);\n",
              "      border-top-color: var(--fill-color);\n",
              "    }\n",
              "    60% {\n",
              "      border-color: transparent;\n",
              "      border-right-color: var(--fill-color);\n",
              "    }\n",
              "    80% {\n",
              "      border-color: transparent;\n",
              "      border-right-color: var(--fill-color);\n",
              "      border-bottom-color: var(--fill-color);\n",
              "    }\n",
              "    90% {\n",
              "      border-color: transparent;\n",
              "      border-bottom-color: var(--fill-color);\n",
              "    }\n",
              "  }\n",
              "</style>\n",
              "\n",
              "  <script>\n",
              "    async function quickchart(key) {\n",
              "      const quickchartButtonEl =\n",
              "        document.querySelector('#' + key + ' button');\n",
              "      quickchartButtonEl.disabled = true;  // To prevent multiple clicks.\n",
              "      quickchartButtonEl.classList.add('colab-df-spinner');\n",
              "      try {\n",
              "        const charts = await google.colab.kernel.invokeFunction(\n",
              "            'suggestCharts', [key], {});\n",
              "      } catch (error) {\n",
              "        console.error('Error during call to suggestCharts:', error);\n",
              "      }\n",
              "      quickchartButtonEl.classList.remove('colab-df-spinner');\n",
              "      quickchartButtonEl.classList.add('colab-df-quickchart-complete');\n",
              "    }\n",
              "    (() => {\n",
              "      let quickchartButtonEl =\n",
              "        document.querySelector('#df-b5064311-004c-4965-8a49-4960a28b6698 button');\n",
              "      quickchartButtonEl.style.display =\n",
              "        google.colab.kernel.accessAllowed ? 'block' : 'none';\n",
              "    })();\n",
              "  </script>\n",
              "</div>\n",
              "    </div>\n",
              "  </div>\n"
            ]
          },
          "metadata": {},
          "execution_count": 35
        }
      ]
    },
    {
      "cell_type": "code",
      "source": [
        "from sklearn.model_selection import train_test_split\n",
        "\n",
        "X_train, X_test, y_train, y_test = train_test_split(\n",
        "    concatenated_df.short_description,\n",
        "    concatenated_df.category_encoded,\n",
        "    test_size=0.2,\n",
        "    random_state=42,\n",
        "    stratify=concatenated_df.category_encoded\n",
        ")"
      ],
      "metadata": {
        "id": "WI_8-YwbRxjY"
      },
      "execution_count": 43,
      "outputs": []
    },
    {
      "cell_type": "code",
      "source": [
        "print(X_train.shape)\n",
        "X_train.head(5)"
      ],
      "metadata": {
        "colab": {
          "base_uri": "https://localhost:8080/"
        },
        "id": "94vOHxHbT_-W",
        "outputId": "ec34a0eb-a26b-4e28-883b-f8c3ec1b05dd"
      },
      "execution_count": 44,
      "outputs": [
        {
          "output_type": "stream",
          "name": "stdout",
          "text": [
            "(34070,)\n"
          ]
        },
        {
          "output_type": "execute_result",
          "data": {
            "text/plain": [
              "5080     A truth and a blessing. Enjoy a sampling of th...\n",
              "20742    Far too much of the research discussed in the ...\n",
              "12712    Flip through our many other Style Evolutions. ...\n",
              "10509    When you hear that Justin Timberlake's going t...\n",
              "35652                                                     \n",
              "Name: short_description, dtype: object"
            ]
          },
          "metadata": {},
          "execution_count": 44
        }
      ]
    },
    {
      "cell_type": "code",
      "source": [
        "print(y_test.shape)\n",
        "y_test.head(5)"
      ],
      "metadata": {
        "colab": {
          "base_uri": "https://localhost:8080/"
        },
        "id": "3T7PrkgrUQfv",
        "outputId": "fed68a39-671a-4d13-86c0-b5a591d2c22b"
      },
      "execution_count": 45,
      "outputs": [
        {
          "output_type": "stream",
          "name": "stdout",
          "text": [
            "(8518,)\n"
          ]
        },
        {
          "output_type": "execute_result",
          "data": {
            "text/plain": [
              "2549     10\n",
              "29124    27\n",
              "8605     13\n",
              "18998     6\n",
              "26407    26\n",
              "Name: category_encoded, dtype: int64"
            ]
          },
          "metadata": {},
          "execution_count": 45
        }
      ]
    },
    {
      "cell_type": "code",
      "source": [
        "y_test.value_counts()"
      ],
      "metadata": {
        "colab": {
          "base_uri": "https://localhost:8080/"
        },
        "id": "gTiznntMUc3Z",
        "outputId": "46856f1c-ab1a-4734-ba69-83d7f46213c3"
      },
      "execution_count": 46,
      "outputs": [
        {
          "output_type": "execute_result",
          "data": {
            "text/plain": [
              "10    203\n",
              "24    203\n",
              "14    203\n",
              "34    203\n",
              "0     203\n",
              "2     203\n",
              "15    203\n",
              "33    203\n",
              "1     203\n",
              "32    203\n",
              "9     203\n",
              "22    203\n",
              "23    203\n",
              "17    203\n",
              "31    203\n",
              "30    203\n",
              "7     203\n",
              "40    203\n",
              "27    203\n",
              "18    203\n",
              "36    203\n",
              "21    203\n",
              "6     203\n",
              "38    203\n",
              "37    203\n",
              "12    203\n",
              "28    203\n",
              "41    203\n",
              "11    203\n",
              "5     203\n",
              "20    203\n",
              "3     203\n",
              "16    203\n",
              "35    203\n",
              "29    202\n",
              "39    202\n",
              "19    202\n",
              "8     202\n",
              "4     202\n",
              "26    202\n",
              "13    202\n",
              "25    202\n",
              "Name: category_encoded, dtype: int64"
            ]
          },
          "metadata": {},
          "execution_count": 46
        }
      ]
    },
    {
      "cell_type": "code",
      "source": [
        "from sklearn.naive_bayes import MultinomialNB\n",
        "from sklearn.pipeline import Pipeline\n",
        "from sklearn.metrics import classification_report\n",
        "\n",
        "clf = Pipeline([\n",
        "    (\"vectorizer_bow\", CountVectorizer(ngram_range=(1, 2))),\n",
        "    (\"Multi NB\", MultinomialNB()),\n",
        "])\n",
        "\n",
        "clf.fit(X_train, y_train)\n",
        "\n",
        "y_pred = clf.predict(X_test)\n",
        "\n",
        "print(classification_report(y_test, y_pred))"
      ],
      "metadata": {
        "colab": {
          "base_uri": "https://localhost:8080/"
        },
        "id": "t7GDcJ4MUmN2",
        "outputId": "784efc55-9154-4cc5-e5a6-4b5301c72695"
      },
      "execution_count": 48,
      "outputs": [
        {
          "output_type": "stream",
          "name": "stdout",
          "text": [
            "              precision    recall  f1-score   support\n",
            "\n",
            "           0       0.21      0.08      0.11       203\n",
            "           1       0.00      0.00      0.00       203\n",
            "           2       0.41      0.09      0.15       203\n",
            "           3       0.16      0.07      0.10       203\n",
            "           4       0.07      0.35      0.11       202\n",
            "           5       0.58      0.05      0.10       203\n",
            "           6       0.52      0.14      0.22       203\n",
            "           7       0.35      0.43      0.39       203\n",
            "           8       0.38      0.47      0.42       202\n",
            "           9       0.30      0.53      0.38       203\n",
            "          10       0.39      0.04      0.08       203\n",
            "          11       0.30      0.40      0.34       203\n",
            "          12       0.07      0.63      0.13       203\n",
            "          13       0.41      0.15      0.22       202\n",
            "          14       0.00      0.00      0.00       203\n",
            "          15       0.15      0.02      0.03       203\n",
            "          16       0.25      0.01      0.03       203\n",
            "          17       0.61      0.21      0.32       203\n",
            "          18       0.16      0.20      0.18       203\n",
            "          19       0.79      0.07      0.14       202\n",
            "          20       0.67      0.15      0.24       203\n",
            "          21       0.27      0.48      0.34       203\n",
            "          22       0.12      0.38      0.18       203\n",
            "          23       0.25      0.02      0.04       203\n",
            "          24       0.34      0.19      0.24       203\n",
            "          25       0.57      0.12      0.20       202\n",
            "          26       0.44      0.11      0.17       202\n",
            "          27       0.80      0.14      0.24       203\n",
            "          28       0.67      0.12      0.20       203\n",
            "          29       0.50      0.02      0.04       202\n",
            "          30       0.48      0.38      0.42       203\n",
            "          31       0.47      0.07      0.13       203\n",
            "          32       0.65      0.19      0.30       203\n",
            "          33       0.59      0.13      0.21       203\n",
            "          34       0.33      0.46      0.38       203\n",
            "          35       0.27      0.36      0.31       203\n",
            "          36       0.33      0.46      0.38       203\n",
            "          37       0.56      0.02      0.05       203\n",
            "          38       0.13      0.57      0.21       203\n",
            "          39       0.34      0.08      0.13       202\n",
            "          40       0.42      0.22      0.29       203\n",
            "          41       0.19      0.22      0.21       203\n",
            "\n",
            "    accuracy                           0.21      8518\n",
            "   macro avg       0.37      0.21      0.20      8518\n",
            "weighted avg       0.37      0.21      0.20      8518\n",
            "\n"
          ]
        }
      ]
    },
    {
      "cell_type": "code",
      "source": [
        "from sklearn.naive_bayes import MultinomialNB\n",
        "from sklearn.pipeline import Pipeline\n",
        "from sklearn.metrics import classification_report\n",
        "\n",
        "clf = Pipeline([\n",
        "    (\"vectorizer_bow\", CountVectorizer()),\n",
        "    (\"Multi NB\", MultinomialNB()),\n",
        "])\n",
        "\n",
        "clf.fit(X_train, y_train)\n",
        "\n",
        "y_pred = clf.predict(X_test)\n",
        "\n",
        "print(classification_report(y_test, y_pred))"
      ],
      "metadata": {
        "colab": {
          "base_uri": "https://localhost:8080/"
        },
        "id": "MPbOR2IUVx6j",
        "outputId": "bfaff12c-711b-4fa7-dde8-34b0daa5ba42"
      },
      "execution_count": 49,
      "outputs": [
        {
          "output_type": "stream",
          "name": "stdout",
          "text": [
            "              precision    recall  f1-score   support\n",
            "\n",
            "           0       0.26      0.14      0.18       203\n",
            "           1       0.29      0.01      0.02       203\n",
            "           2       0.36      0.12      0.18       203\n",
            "           3       0.22      0.11      0.14       203\n",
            "           4       0.07      0.37      0.12       202\n",
            "           5       0.42      0.05      0.09       203\n",
            "           6       0.49      0.21      0.30       203\n",
            "           7       0.32      0.39      0.35       203\n",
            "           8       0.37      0.46      0.41       202\n",
            "           9       0.34      0.57      0.42       203\n",
            "          10       0.37      0.05      0.09       203\n",
            "          11       0.28      0.39      0.33       203\n",
            "          12       0.08      0.57      0.14       203\n",
            "          13       0.39      0.22      0.28       202\n",
            "          14       0.17      0.00      0.01       203\n",
            "          15       0.35      0.08      0.13       203\n",
            "          16       0.20      0.02      0.04       203\n",
            "          17       0.47      0.22      0.30       203\n",
            "          18       0.20      0.25      0.22       203\n",
            "          19       0.70      0.11      0.20       202\n",
            "          20       0.64      0.18      0.28       203\n",
            "          21       0.28      0.50      0.36       203\n",
            "          22       0.14      0.41      0.21       203\n",
            "          23       0.09      0.01      0.02       203\n",
            "          24       0.34      0.22      0.27       203\n",
            "          25       0.49      0.12      0.20       202\n",
            "          26       0.42      0.15      0.22       202\n",
            "          27       0.65      0.20      0.30       203\n",
            "          28       0.73      0.20      0.31       203\n",
            "          29       0.38      0.01      0.03       202\n",
            "          30       0.45      0.41      0.43       203\n",
            "          31       0.45      0.09      0.15       203\n",
            "          32       0.60      0.22      0.32       203\n",
            "          33       0.50      0.15      0.23       203\n",
            "          34       0.34      0.47      0.40       203\n",
            "          35       0.27      0.40      0.33       203\n",
            "          36       0.33      0.46      0.39       203\n",
            "          37       0.71      0.02      0.05       203\n",
            "          38       0.15      0.59      0.24       203\n",
            "          39       0.35      0.13      0.19       202\n",
            "          40       0.44      0.24      0.31       203\n",
            "          41       0.22      0.26      0.24       203\n",
            "\n",
            "    accuracy                           0.23      8518\n",
            "   macro avg       0.36      0.23      0.22      8518\n",
            "weighted avg       0.36      0.23      0.22      8518\n",
            "\n"
          ]
        }
      ]
    },
    {
      "cell_type": "code",
      "source": [],
      "metadata": {
        "id": "a0m8HYFUV_X5"
      },
      "execution_count": null,
      "outputs": []
    }
  ]
}