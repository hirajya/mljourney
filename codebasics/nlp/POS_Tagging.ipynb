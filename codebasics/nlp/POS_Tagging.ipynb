{
  "nbformat": 4,
  "nbformat_minor": 0,
  "metadata": {
    "colab": {
      "provenance": []
    },
    "kernelspec": {
      "name": "python3",
      "display_name": "Python 3"
    },
    "language_info": {
      "name": "python"
    }
  },
  "cells": [
    {
      "cell_type": "code",
      "execution_count": 1,
      "metadata": {
        "id": "aMV75MiSAn81"
      },
      "outputs": [],
      "source": [
        "import spacy"
      ]
    },
    {
      "cell_type": "code",
      "source": [
        "nlp = spacy.load(\"en_core_web_sm\")"
      ],
      "metadata": {
        "id": "no_e7VKWClZG"
      },
      "execution_count": 2,
      "outputs": []
    },
    {
      "cell_type": "code",
      "source": [
        "nlp.pipe_names"
      ],
      "metadata": {
        "colab": {
          "base_uri": "https://localhost:8080/"
        },
        "id": "_q3aWBX0DSSh",
        "outputId": "ce8528a4-c1b4-4fd3-963b-f98a38efec60"
      },
      "execution_count": 5,
      "outputs": [
        {
          "output_type": "execute_result",
          "data": {
            "text/plain": [
              "['tok2vec', 'tagger', 'parser', 'attribute_ruler', 'lemmatizer', 'ner']"
            ]
          },
          "metadata": {},
          "execution_count": 5
        }
      ]
    },
    {
      "cell_type": "code",
      "source": [
        "doc = nlp(\"Rodney flew to earth yesterday. He carried shawarma with him.\")\n",
        "\n",
        "for token in doc:\n",
        "  print(token, \" | \", token.pos_, \" | \", spacy.explain(token.pos_))"
      ],
      "metadata": {
        "colab": {
          "base_uri": "https://localhost:8080/"
        },
        "id": "9L5m0aihCo3Y",
        "outputId": "dec06bdf-496a-476e-fba3-be9a41bb1a31"
      },
      "execution_count": 4,
      "outputs": [
        {
          "output_type": "stream",
          "name": "stdout",
          "text": [
            "Rodney  |  PROPN  |  proper noun\n",
            "flew  |  VERB  |  verb\n",
            "to  |  ADP  |  adposition\n",
            "earth  |  NOUN  |  noun\n",
            "yesterday  |  NOUN  |  noun\n",
            ".  |  PUNCT  |  punctuation\n",
            "He  |  PRON  |  pronoun\n",
            "carried  |  VERB  |  verb\n",
            "shawarma  |  NOUN  |  noun\n",
            "with  |  ADP  |  adposition\n",
            "him  |  PRON  |  pronoun\n",
            ".  |  PUNCT  |  punctuation\n"
          ]
        }
      ]
    },
    {
      "cell_type": "code",
      "source": [
        "doc = nlp(\"Wow! Doctor Strange gains 40 million subs.\")\n",
        "\n",
        "for token in doc:\n",
        "  print(token, \" | \", token.pos_, \" | \", spacy.explain(token.pos_), \" | \",\n",
        "        token.tag_, \" | \", spacy.explain(token.tag_))"
      ],
      "metadata": {
        "colab": {
          "base_uri": "https://localhost:8080/"
        },
        "id": "fl4yzytzCx9F",
        "outputId": "c8a6a0bc-e9dd-443d-d347-4b07d7118e75"
      },
      "execution_count": 8,
      "outputs": [
        {
          "output_type": "stream",
          "name": "stdout",
          "text": [
            "Wow  |  INTJ  |  interjection  |  UH  |  interjection\n",
            "!  |  PUNCT  |  punctuation  |  .  |  punctuation mark, sentence closer\n",
            "Doctor  |  PROPN  |  proper noun  |  NNP  |  noun, proper singular\n",
            "Strange  |  PROPN  |  proper noun  |  NNP  |  noun, proper singular\n",
            "gains  |  VERB  |  verb  |  VBZ  |  verb, 3rd person singular present\n",
            "40  |  NUM  |  numeral  |  CD  |  cardinal number\n",
            "million  |  NUM  |  numeral  |  CD  |  cardinal number\n",
            "subs  |  NOUN  |  noun  |  NNS  |  noun, plural\n",
            ".  |  PUNCT  |  punctuation  |  .  |  punctuation mark, sentence closer\n"
          ]
        }
      ]
    },
    {
      "cell_type": "code",
      "source": [
        "doc = nlp(\"He quits the job\")\n",
        "\n",
        "doc[1]\n"
      ],
      "metadata": {
        "colab": {
          "base_uri": "https://localhost:8080/"
        },
        "id": "Y5yp1TnFDwz3",
        "outputId": "db3d1b38-308e-4b01-c1ca-e878b130567b"
      },
      "execution_count": 9,
      "outputs": [
        {
          "output_type": "execute_result",
          "data": {
            "text/plain": [
              "quits"
            ]
          },
          "metadata": {},
          "execution_count": 9
        }
      ]
    },
    {
      "cell_type": "code",
      "source": [
        "print(doc[1].text, \"|\", doc[1].tag_, \"|\", spacy.explain(doc[1].tag_))"
      ],
      "metadata": {
        "colab": {
          "base_uri": "https://localhost:8080/"
        },
        "id": "jYSUsQRREQAR",
        "outputId": "6f9d96fc-5e56-4487-de8e-cb04bc0c4808"
      },
      "execution_count": 10,
      "outputs": [
        {
          "output_type": "stream",
          "name": "stdout",
          "text": [
            "quits | VBZ | verb, 3rd person singular present\n"
          ]
        }
      ]
    },
    {
      "cell_type": "code",
      "source": [
        "doc = nlp(\"He quits the job\")\n",
        "\n",
        "doc[1]\n",
        "\n",
        "print(doc[1].text, \"|\", doc[1].tag_, \"|\", spacy.explain(doc[1].tag_))\n",
        "\n"
      ],
      "metadata": {
        "colab": {
          "base_uri": "https://localhost:8080/"
        },
        "id": "1sVn1UcUEY_c",
        "outputId": "e5b0bc94-52bd-4b29-d8c4-34d9fcb0b6c6"
      },
      "execution_count": 11,
      "outputs": [
        {
          "output_type": "stream",
          "name": "stdout",
          "text": [
            "quits | VBZ | verb, 3rd person singular present\n"
          ]
        }
      ]
    },
    {
      "cell_type": "code",
      "source": [
        "earnings_Text = \"\"\"Microsoft Corp. today announced the following results for the quarter ended September 30, 2023, as compared to the corresponding period of last fiscal year:\n",
        "\n",
        "·        Revenue was $56.5 billion and increased 13% (up 12% in constant currency)\n",
        "\n",
        "·        Operating income was $26.9 billion and increased 25% (up 24% in constant currency)\n",
        "\n",
        "·        Net income was $22.3 billion and increased 27% (up 26% in constant currency)\n",
        "\n",
        "·        Diluted earnings per share was $2.99 and increased 27% (up 26% in constant currency)\n",
        "\n",
        "\"\"\""
      ],
      "metadata": {
        "id": "b-5k8SMMEeoO"
      },
      "execution_count": 12,
      "outputs": []
    },
    {
      "cell_type": "code",
      "source": [
        "doc = nlp(earnings_Text)"
      ],
      "metadata": {
        "id": "PH94EUNEEtkx"
      },
      "execution_count": 13,
      "outputs": []
    },
    {
      "cell_type": "code",
      "source": [
        "for token in doc:\n",
        "  print(token, \" | \", token.pos_, \" | \", spacy.explain(token.pos_), \" | \",\n",
        "        token.tag_, \" | \", spacy.explain(token.tag_))"
      ],
      "metadata": {
        "colab": {
          "base_uri": "https://localhost:8080/"
        },
        "id": "8QziV_daEx3c",
        "outputId": "8e0510cc-7a17-459a-d84b-05f8680ddfca"
      },
      "execution_count": 14,
      "outputs": [
        {
          "output_type": "stream",
          "name": "stdout",
          "text": [
            "Microsoft  |  PROPN  |  proper noun  |  NNP  |  noun, proper singular\n",
            "Corp.  |  PROPN  |  proper noun  |  NNP  |  noun, proper singular\n",
            "today  |  NOUN  |  noun  |  NN  |  noun, singular or mass\n",
            "announced  |  VERB  |  verb  |  VBD  |  verb, past tense\n",
            "the  |  DET  |  determiner  |  DT  |  determiner\n",
            "following  |  VERB  |  verb  |  VBG  |  verb, gerund or present participle\n",
            "results  |  NOUN  |  noun  |  NNS  |  noun, plural\n",
            "for  |  ADP  |  adposition  |  IN  |  conjunction, subordinating or preposition\n",
            "the  |  DET  |  determiner  |  DT  |  determiner\n",
            "quarter  |  NOUN  |  noun  |  NN  |  noun, singular or mass\n",
            "ended  |  VERB  |  verb  |  VBD  |  verb, past tense\n",
            "September  |  PROPN  |  proper noun  |  NNP  |  noun, proper singular\n",
            "30  |  NUM  |  numeral  |  CD  |  cardinal number\n",
            ",  |  PUNCT  |  punctuation  |  ,  |  punctuation mark, comma\n",
            "2023  |  NUM  |  numeral  |  CD  |  cardinal number\n",
            ",  |  PUNCT  |  punctuation  |  ,  |  punctuation mark, comma\n",
            "as  |  SCONJ  |  subordinating conjunction  |  IN  |  conjunction, subordinating or preposition\n",
            "compared  |  VERB  |  verb  |  VBN  |  verb, past participle\n",
            "to  |  ADP  |  adposition  |  IN  |  conjunction, subordinating or preposition\n",
            "the  |  DET  |  determiner  |  DT  |  determiner\n",
            "corresponding  |  ADJ  |  adjective  |  JJ  |  adjective (English), other noun-modifier (Chinese)\n",
            "period  |  NOUN  |  noun  |  NN  |  noun, singular or mass\n",
            "of  |  ADP  |  adposition  |  IN  |  conjunction, subordinating or preposition\n",
            "last  |  ADJ  |  adjective  |  JJ  |  adjective (English), other noun-modifier (Chinese)\n",
            "fiscal  |  ADJ  |  adjective  |  JJ  |  adjective (English), other noun-modifier (Chinese)\n",
            "year  |  NOUN  |  noun  |  NN  |  noun, singular or mass\n",
            ":  |  PUNCT  |  punctuation  |  :  |  punctuation mark, colon or ellipsis\n",
            "\n",
            "\n",
            "  |  SPACE  |  space  |  _SP  |  whitespace\n",
            "·  |  PUNCT  |  punctuation  |  NFP  |  superfluous punctuation\n",
            "         |  SPACE  |  space  |  _SP  |  whitespace\n",
            "Revenue  |  NOUN  |  noun  |  NN  |  noun, singular or mass\n",
            "was  |  AUX  |  auxiliary  |  VBD  |  verb, past tense\n",
            "$  |  SYM  |  symbol  |  $  |  symbol, currency\n",
            "56.5  |  NUM  |  numeral  |  CD  |  cardinal number\n",
            "billion  |  NUM  |  numeral  |  CD  |  cardinal number\n",
            "and  |  CCONJ  |  coordinating conjunction  |  CC  |  conjunction, coordinating\n",
            "increased  |  VERB  |  verb  |  VBD  |  verb, past tense\n",
            "13  |  NUM  |  numeral  |  CD  |  cardinal number\n",
            "%  |  NOUN  |  noun  |  NN  |  noun, singular or mass\n",
            "(  |  PUNCT  |  punctuation  |  -LRB-  |  left round bracket\n",
            "up  |  ADV  |  adverb  |  RB  |  adverb\n",
            "12  |  NUM  |  numeral  |  CD  |  cardinal number\n",
            "%  |  NOUN  |  noun  |  NN  |  noun, singular or mass\n",
            "in  |  ADP  |  adposition  |  IN  |  conjunction, subordinating or preposition\n",
            "constant  |  ADJ  |  adjective  |  JJ  |  adjective (English), other noun-modifier (Chinese)\n",
            "currency  |  NOUN  |  noun  |  NN  |  noun, singular or mass\n",
            ")  |  PUNCT  |  punctuation  |  -RRB-  |  right round bracket\n",
            "\n",
            "\n",
            "  |  SPACE  |  space  |  _SP  |  whitespace\n",
            "·  |  PUNCT  |  punctuation  |  NFP  |  superfluous punctuation\n",
            "         |  SPACE  |  space  |  _SP  |  whitespace\n",
            "Operating  |  VERB  |  verb  |  VBG  |  verb, gerund or present participle\n",
            "income  |  NOUN  |  noun  |  NN  |  noun, singular or mass\n",
            "was  |  AUX  |  auxiliary  |  VBD  |  verb, past tense\n",
            "$  |  SYM  |  symbol  |  $  |  symbol, currency\n",
            "26.9  |  NUM  |  numeral  |  CD  |  cardinal number\n",
            "billion  |  NUM  |  numeral  |  CD  |  cardinal number\n",
            "and  |  CCONJ  |  coordinating conjunction  |  CC  |  conjunction, coordinating\n",
            "increased  |  VERB  |  verb  |  VBD  |  verb, past tense\n",
            "25  |  NUM  |  numeral  |  CD  |  cardinal number\n",
            "%  |  NOUN  |  noun  |  NN  |  noun, singular or mass\n",
            "(  |  PUNCT  |  punctuation  |  -LRB-  |  left round bracket\n",
            "up  |  ADV  |  adverb  |  RB  |  adverb\n",
            "24  |  NUM  |  numeral  |  CD  |  cardinal number\n",
            "%  |  NOUN  |  noun  |  NN  |  noun, singular or mass\n",
            "in  |  ADP  |  adposition  |  IN  |  conjunction, subordinating or preposition\n",
            "constant  |  ADJ  |  adjective  |  JJ  |  adjective (English), other noun-modifier (Chinese)\n",
            "currency  |  NOUN  |  noun  |  NN  |  noun, singular or mass\n",
            ")  |  PUNCT  |  punctuation  |  -RRB-  |  right round bracket\n",
            "\n",
            "\n",
            "  |  SPACE  |  space  |  _SP  |  whitespace\n",
            "·  |  PUNCT  |  punctuation  |  NFP  |  superfluous punctuation\n",
            "         |  SPACE  |  space  |  _SP  |  whitespace\n",
            "Net  |  ADJ  |  adjective  |  JJ  |  adjective (English), other noun-modifier (Chinese)\n",
            "income  |  NOUN  |  noun  |  NN  |  noun, singular or mass\n",
            "was  |  AUX  |  auxiliary  |  VBD  |  verb, past tense\n",
            "$  |  SYM  |  symbol  |  $  |  symbol, currency\n",
            "22.3  |  NUM  |  numeral  |  CD  |  cardinal number\n",
            "billion  |  NUM  |  numeral  |  CD  |  cardinal number\n",
            "and  |  CCONJ  |  coordinating conjunction  |  CC  |  conjunction, coordinating\n",
            "increased  |  VERB  |  verb  |  VBD  |  verb, past tense\n",
            "27  |  NUM  |  numeral  |  CD  |  cardinal number\n",
            "%  |  NOUN  |  noun  |  NN  |  noun, singular or mass\n",
            "(  |  PUNCT  |  punctuation  |  -LRB-  |  left round bracket\n",
            "up  |  ADV  |  adverb  |  RB  |  adverb\n",
            "26  |  NUM  |  numeral  |  CD  |  cardinal number\n",
            "%  |  NOUN  |  noun  |  NN  |  noun, singular or mass\n",
            "in  |  ADP  |  adposition  |  IN  |  conjunction, subordinating or preposition\n",
            "constant  |  ADJ  |  adjective  |  JJ  |  adjective (English), other noun-modifier (Chinese)\n",
            "currency  |  NOUN  |  noun  |  NN  |  noun, singular or mass\n",
            ")  |  PUNCT  |  punctuation  |  -RRB-  |  right round bracket\n",
            "\n",
            "\n",
            "  |  SPACE  |  space  |  _SP  |  whitespace\n",
            "·  |  PUNCT  |  punctuation  |  NFP  |  superfluous punctuation\n",
            "         |  SPACE  |  space  |  _SP  |  whitespace\n",
            "Diluted  |  VERB  |  verb  |  VBN  |  verb, past participle\n",
            "earnings  |  NOUN  |  noun  |  NNS  |  noun, plural\n",
            "per  |  ADP  |  adposition  |  IN  |  conjunction, subordinating or preposition\n",
            "share  |  NOUN  |  noun  |  NN  |  noun, singular or mass\n",
            "was  |  AUX  |  auxiliary  |  VBD  |  verb, past tense\n",
            "$  |  SYM  |  symbol  |  $  |  symbol, currency\n",
            "2.99  |  NUM  |  numeral  |  CD  |  cardinal number\n",
            "and  |  CCONJ  |  coordinating conjunction  |  CC  |  conjunction, coordinating\n",
            "increased  |  VERB  |  verb  |  VBD  |  verb, past tense\n",
            "27  |  NUM  |  numeral  |  CD  |  cardinal number\n",
            "%  |  NOUN  |  noun  |  NN  |  noun, singular or mass\n",
            "(  |  PUNCT  |  punctuation  |  -LRB-  |  left round bracket\n",
            "up  |  ADV  |  adverb  |  RB  |  adverb\n",
            "26  |  NUM  |  numeral  |  CD  |  cardinal number\n",
            "%  |  NOUN  |  noun  |  NN  |  noun, singular or mass\n",
            "in  |  ADP  |  adposition  |  IN  |  conjunction, subordinating or preposition\n",
            "constant  |  ADJ  |  adjective  |  JJ  |  adjective (English), other noun-modifier (Chinese)\n",
            "currency  |  NOUN  |  noun  |  NN  |  noun, singular or mass\n",
            ")  |  PUNCT  |  punctuation  |  -RRB-  |  right round bracket\n",
            "\n",
            "  \n",
            "  |  SPACE  |  space  |  _SP  |  whitespace\n"
          ]
        }
      ]
    },
    {
      "cell_type": "code",
      "source": [
        "for token in doc:\n",
        "  if token.pos_ in [\"SPACE\", \"X\", \"PUNCT\"]:\n",
        "    print(token, \" | \", token.pos_, \" | \", spacy.explain(token.pos_), \" | \",\n",
        "          token.tag_, \" | \", spacy.explain(token.tag_))"
      ],
      "metadata": {
        "colab": {
          "base_uri": "https://localhost:8080/"
        },
        "id": "RSP8PsbcE4Yy",
        "outputId": "612d1c49-fa91-4bf1-e6e5-ae14d38a9630"
      },
      "execution_count": 18,
      "outputs": [
        {
          "output_type": "stream",
          "name": "stdout",
          "text": [
            ",  |  PUNCT  |  punctuation  |  ,  |  punctuation mark, comma\n",
            ",  |  PUNCT  |  punctuation  |  ,  |  punctuation mark, comma\n",
            ":  |  PUNCT  |  punctuation  |  :  |  punctuation mark, colon or ellipsis\n",
            "\n",
            "\n",
            "  |  SPACE  |  space  |  _SP  |  whitespace\n",
            "·  |  PUNCT  |  punctuation  |  NFP  |  superfluous punctuation\n",
            "         |  SPACE  |  space  |  _SP  |  whitespace\n",
            "(  |  PUNCT  |  punctuation  |  -LRB-  |  left round bracket\n",
            ")  |  PUNCT  |  punctuation  |  -RRB-  |  right round bracket\n",
            "\n",
            "\n",
            "  |  SPACE  |  space  |  _SP  |  whitespace\n",
            "·  |  PUNCT  |  punctuation  |  NFP  |  superfluous punctuation\n",
            "         |  SPACE  |  space  |  _SP  |  whitespace\n",
            "(  |  PUNCT  |  punctuation  |  -LRB-  |  left round bracket\n",
            ")  |  PUNCT  |  punctuation  |  -RRB-  |  right round bracket\n",
            "\n",
            "\n",
            "  |  SPACE  |  space  |  _SP  |  whitespace\n",
            "·  |  PUNCT  |  punctuation  |  NFP  |  superfluous punctuation\n",
            "         |  SPACE  |  space  |  _SP  |  whitespace\n",
            "(  |  PUNCT  |  punctuation  |  -LRB-  |  left round bracket\n",
            ")  |  PUNCT  |  punctuation  |  -RRB-  |  right round bracket\n",
            "\n",
            "\n",
            "  |  SPACE  |  space  |  _SP  |  whitespace\n",
            "·  |  PUNCT  |  punctuation  |  NFP  |  superfluous punctuation\n",
            "         |  SPACE  |  space  |  _SP  |  whitespace\n",
            "(  |  PUNCT  |  punctuation  |  -LRB-  |  left round bracket\n",
            ")  |  PUNCT  |  punctuation  |  -RRB-  |  right round bracket\n",
            "\n",
            "  \n",
            "  |  SPACE  |  space  |  _SP  |  whitespace\n"
          ]
        }
      ]
    },
    {
      "cell_type": "code",
      "source": [
        "filtered_tokens = []\n",
        "\n",
        "for token in doc:\n",
        "  if token.pos_ not in [\"SPACE\", \"X\", \"PUNCT\"]:\n",
        "    print(token, \" | \", token.pos_, \" | \", spacy.explain(token.pos_), \" | \",\n",
        "          token.tag_, \" | \", spacy.explain(token.tag_))\n",
        "    filtered_tokens.append(token)"
      ],
      "metadata": {
        "colab": {
          "base_uri": "https://localhost:8080/"
        },
        "id": "0lV13ejDFMAQ",
        "outputId": "b7a2ceb3-b2ef-455c-8474-c438b7e37569"
      },
      "execution_count": 23,
      "outputs": [
        {
          "output_type": "stream",
          "name": "stdout",
          "text": [
            "Microsoft  |  PROPN  |  proper noun  |  NNP  |  noun, proper singular\n",
            "Corp.  |  PROPN  |  proper noun  |  NNP  |  noun, proper singular\n",
            "today  |  NOUN  |  noun  |  NN  |  noun, singular or mass\n",
            "announced  |  VERB  |  verb  |  VBD  |  verb, past tense\n",
            "the  |  DET  |  determiner  |  DT  |  determiner\n",
            "following  |  VERB  |  verb  |  VBG  |  verb, gerund or present participle\n",
            "results  |  NOUN  |  noun  |  NNS  |  noun, plural\n",
            "for  |  ADP  |  adposition  |  IN  |  conjunction, subordinating or preposition\n",
            "the  |  DET  |  determiner  |  DT  |  determiner\n",
            "quarter  |  NOUN  |  noun  |  NN  |  noun, singular or mass\n",
            "ended  |  VERB  |  verb  |  VBD  |  verb, past tense\n",
            "September  |  PROPN  |  proper noun  |  NNP  |  noun, proper singular\n",
            "30  |  NUM  |  numeral  |  CD  |  cardinal number\n",
            "2023  |  NUM  |  numeral  |  CD  |  cardinal number\n",
            "as  |  SCONJ  |  subordinating conjunction  |  IN  |  conjunction, subordinating or preposition\n",
            "compared  |  VERB  |  verb  |  VBN  |  verb, past participle\n",
            "to  |  ADP  |  adposition  |  IN  |  conjunction, subordinating or preposition\n",
            "the  |  DET  |  determiner  |  DT  |  determiner\n",
            "corresponding  |  ADJ  |  adjective  |  JJ  |  adjective (English), other noun-modifier (Chinese)\n",
            "period  |  NOUN  |  noun  |  NN  |  noun, singular or mass\n",
            "of  |  ADP  |  adposition  |  IN  |  conjunction, subordinating or preposition\n",
            "last  |  ADJ  |  adjective  |  JJ  |  adjective (English), other noun-modifier (Chinese)\n",
            "fiscal  |  ADJ  |  adjective  |  JJ  |  adjective (English), other noun-modifier (Chinese)\n",
            "year  |  NOUN  |  noun  |  NN  |  noun, singular or mass\n",
            "Revenue  |  NOUN  |  noun  |  NN  |  noun, singular or mass\n",
            "was  |  AUX  |  auxiliary  |  VBD  |  verb, past tense\n",
            "$  |  SYM  |  symbol  |  $  |  symbol, currency\n",
            "56.5  |  NUM  |  numeral  |  CD  |  cardinal number\n",
            "billion  |  NUM  |  numeral  |  CD  |  cardinal number\n",
            "and  |  CCONJ  |  coordinating conjunction  |  CC  |  conjunction, coordinating\n",
            "increased  |  VERB  |  verb  |  VBD  |  verb, past tense\n",
            "13  |  NUM  |  numeral  |  CD  |  cardinal number\n",
            "%  |  NOUN  |  noun  |  NN  |  noun, singular or mass\n",
            "up  |  ADV  |  adverb  |  RB  |  adverb\n",
            "12  |  NUM  |  numeral  |  CD  |  cardinal number\n",
            "%  |  NOUN  |  noun  |  NN  |  noun, singular or mass\n",
            "in  |  ADP  |  adposition  |  IN  |  conjunction, subordinating or preposition\n",
            "constant  |  ADJ  |  adjective  |  JJ  |  adjective (English), other noun-modifier (Chinese)\n",
            "currency  |  NOUN  |  noun  |  NN  |  noun, singular or mass\n",
            "Operating  |  VERB  |  verb  |  VBG  |  verb, gerund or present participle\n",
            "income  |  NOUN  |  noun  |  NN  |  noun, singular or mass\n",
            "was  |  AUX  |  auxiliary  |  VBD  |  verb, past tense\n",
            "$  |  SYM  |  symbol  |  $  |  symbol, currency\n",
            "26.9  |  NUM  |  numeral  |  CD  |  cardinal number\n",
            "billion  |  NUM  |  numeral  |  CD  |  cardinal number\n",
            "and  |  CCONJ  |  coordinating conjunction  |  CC  |  conjunction, coordinating\n",
            "increased  |  VERB  |  verb  |  VBD  |  verb, past tense\n",
            "25  |  NUM  |  numeral  |  CD  |  cardinal number\n",
            "%  |  NOUN  |  noun  |  NN  |  noun, singular or mass\n",
            "up  |  ADV  |  adverb  |  RB  |  adverb\n",
            "24  |  NUM  |  numeral  |  CD  |  cardinal number\n",
            "%  |  NOUN  |  noun  |  NN  |  noun, singular or mass\n",
            "in  |  ADP  |  adposition  |  IN  |  conjunction, subordinating or preposition\n",
            "constant  |  ADJ  |  adjective  |  JJ  |  adjective (English), other noun-modifier (Chinese)\n",
            "currency  |  NOUN  |  noun  |  NN  |  noun, singular or mass\n",
            "Net  |  ADJ  |  adjective  |  JJ  |  adjective (English), other noun-modifier (Chinese)\n",
            "income  |  NOUN  |  noun  |  NN  |  noun, singular or mass\n",
            "was  |  AUX  |  auxiliary  |  VBD  |  verb, past tense\n",
            "$  |  SYM  |  symbol  |  $  |  symbol, currency\n",
            "22.3  |  NUM  |  numeral  |  CD  |  cardinal number\n",
            "billion  |  NUM  |  numeral  |  CD  |  cardinal number\n",
            "and  |  CCONJ  |  coordinating conjunction  |  CC  |  conjunction, coordinating\n",
            "increased  |  VERB  |  verb  |  VBD  |  verb, past tense\n",
            "27  |  NUM  |  numeral  |  CD  |  cardinal number\n",
            "%  |  NOUN  |  noun  |  NN  |  noun, singular or mass\n",
            "up  |  ADV  |  adverb  |  RB  |  adverb\n",
            "26  |  NUM  |  numeral  |  CD  |  cardinal number\n",
            "%  |  NOUN  |  noun  |  NN  |  noun, singular or mass\n",
            "in  |  ADP  |  adposition  |  IN  |  conjunction, subordinating or preposition\n",
            "constant  |  ADJ  |  adjective  |  JJ  |  adjective (English), other noun-modifier (Chinese)\n",
            "currency  |  NOUN  |  noun  |  NN  |  noun, singular or mass\n",
            "Diluted  |  VERB  |  verb  |  VBN  |  verb, past participle\n",
            "earnings  |  NOUN  |  noun  |  NNS  |  noun, plural\n",
            "per  |  ADP  |  adposition  |  IN  |  conjunction, subordinating or preposition\n",
            "share  |  NOUN  |  noun  |  NN  |  noun, singular or mass\n",
            "was  |  AUX  |  auxiliary  |  VBD  |  verb, past tense\n",
            "$  |  SYM  |  symbol  |  $  |  symbol, currency\n",
            "2.99  |  NUM  |  numeral  |  CD  |  cardinal number\n",
            "and  |  CCONJ  |  coordinating conjunction  |  CC  |  conjunction, coordinating\n",
            "increased  |  VERB  |  verb  |  VBD  |  verb, past tense\n",
            "27  |  NUM  |  numeral  |  CD  |  cardinal number\n",
            "%  |  NOUN  |  noun  |  NN  |  noun, singular or mass\n",
            "up  |  ADV  |  adverb  |  RB  |  adverb\n",
            "26  |  NUM  |  numeral  |  CD  |  cardinal number\n",
            "%  |  NOUN  |  noun  |  NN  |  noun, singular or mass\n",
            "in  |  ADP  |  adposition  |  IN  |  conjunction, subordinating or preposition\n",
            "constant  |  ADJ  |  adjective  |  JJ  |  adjective (English), other noun-modifier (Chinese)\n",
            "currency  |  NOUN  |  noun  |  NN  |  noun, singular or mass\n"
          ]
        }
      ]
    },
    {
      "cell_type": "code",
      "source": [
        "filtered_tokens[:20]"
      ],
      "metadata": {
        "colab": {
          "base_uri": "https://localhost:8080/"
        },
        "id": "ZXbLQmEQFUyR",
        "outputId": "b84cdc9e-7d8a-4427-ebd4-5bd536069b93"
      },
      "execution_count": 24,
      "outputs": [
        {
          "output_type": "execute_result",
          "data": {
            "text/plain": [
              "[Microsoft,\n",
              " Corp.,\n",
              " today,\n",
              " announced,\n",
              " the,\n",
              " following,\n",
              " results,\n",
              " for,\n",
              " the,\n",
              " quarter,\n",
              " ended,\n",
              " September,\n",
              " 30,\n",
              " 2023,\n",
              " as,\n",
              " compared,\n",
              " to,\n",
              " the,\n",
              " corresponding,\n",
              " period]"
            ]
          },
          "metadata": {},
          "execution_count": 24
        }
      ]
    },
    {
      "cell_type": "code",
      "source": [
        "count = doc.count_by(spacy.attrs.POS)\n",
        "count"
      ],
      "metadata": {
        "colab": {
          "base_uri": "https://localhost:8080/"
        },
        "id": "CYHjMenRFakm",
        "outputId": "248e85e2-c88b-418c-caa3-76e44d3c1599"
      },
      "execution_count": 25,
      "outputs": [
        {
          "output_type": "execute_result",
          "data": {
            "text/plain": [
              "{96: 3,\n",
              " 92: 22,\n",
              " 100: 10,\n",
              " 90: 3,\n",
              " 85: 8,\n",
              " 93: 17,\n",
              " 97: 15,\n",
              " 98: 1,\n",
              " 84: 8,\n",
              " 103: 9,\n",
              " 87: 4,\n",
              " 99: 4,\n",
              " 89: 4,\n",
              " 86: 4}"
            ]
          },
          "metadata": {},
          "execution_count": 25
        }
      ]
    },
    {
      "cell_type": "code",
      "source": [
        "for k, v in count.items():\n",
        "  print(doc.vocab[k].text, \"|\", v)"
      ],
      "metadata": {
        "colab": {
          "base_uri": "https://localhost:8080/"
        },
        "id": "hKoRK9kaFsV7",
        "outputId": "32f90b1a-2132-40dd-a211-0a33ebb31623"
      },
      "execution_count": 28,
      "outputs": [
        {
          "output_type": "stream",
          "name": "stdout",
          "text": [
            "PROPN | 3\n",
            "NOUN | 22\n",
            "VERB | 10\n",
            "DET | 3\n",
            "ADP | 8\n",
            "NUM | 17\n",
            "PUNCT | 15\n",
            "SCONJ | 1\n",
            "ADJ | 8\n",
            "SPACE | 9\n",
            "AUX | 4\n",
            "SYM | 4\n",
            "CCONJ | 4\n",
            "ADV | 4\n"
          ]
        }
      ]
    },
    {
      "cell_type": "code",
      "source": [
        "nlp = spacy.load(\"en_core_web_sm\")\n",
        "\n",
        "doc = nlp(\"\"\"Inflation rose again in April, continuing a climb that has pushed consumers to the brink and is threatening the economic expansion, the Bureau of Labor Statistics reported Wednesday.\n",
        "\n",
        "The consumer price index, a broad-based measure of prices for goods and services, increased 8.3% from a year ago, higher than the Dow Jones estimate for an 8.1% gain. That represented a slight ease from March’s peak but was still close to the highest level since the summer of 1982.\n",
        "\n",
        "Removing volatile food and energy prices, so-called core CPI still rose 6.2%, against expectations for a 6% gain, clouding hopes that inflation had peaked in March.\n",
        "\n",
        "The month-over-month gains also were higher than expectations — 0.3% on headline CPI versus the 0.2% estimate and a 0.6% increase for core, against the outlook for a 0.4% gain.\n",
        "\n",
        "The price gains also meant that workers continued to lose ground. Real wages adjusted for inflation decreased 0.1% on the month despite a nominal increase of 0.3% in average hourly earnings. Over the past year, real earnings have dropped 2.6% even though average hourly earnings are up 5.5%.\n",
        "\n",
        "Inflation has been the single biggest threat to a recovery that began early in the Covid pandemic and saw the economy in 2021 stage its biggest single-year growth level since 1984. Rising prices at the pump and in grocery stores have been one problem, but inflation has spread beyond those two areas into housing, auto sales and a host of other areas.\n",
        "\n",
        "Federal Reserve officials have responded to the problem with two interest rate hikes so far this year and pledges of more until inflation comes down to the central bank’s 2% goal. However, Wednesday’s data shows that the Fed has a big job ahead.\n",
        "\"\"\")"
      ],
      "metadata": {
        "id": "vx1PV6-8Fw2P"
      },
      "execution_count": 30,
      "outputs": []
    },
    {
      "cell_type": "code",
      "source": [
        "extracted_noun = []\n",
        "extracted_num = []\n",
        "count_postags = []\n",
        "\n",
        "\n",
        "\n",
        "\n",
        "# extract noun\n",
        "# extract all numbers\n",
        "# count of all pos tags\n",
        "prev_pos = None\n",
        "\n",
        "for token in doc:\n",
        "    if token.pos_ == \"NOUN\":\n",
        "        if prev_pos == \"NUM\":\n",
        "            print(\" \", end=\"\")\n",
        "        print(f\"{token} | {token.pos_}\")\n",
        "        prev_pos = \"NOUN\"\n",
        "\n",
        "    elif token.pos_ == \"NUM\":\n",
        "        if prev_pos == \"NOUN\":\n",
        "            print(\" \", end=\"\")\n",
        "        print(f\"{token} | {token.pos_}\")\n",
        "        prev_pos = \"NUM\"\n",
        "\n",
        "print()\n",
        "\n",
        "count = doc.count_by(spacy.attrs.POS)\n",
        "for k, v in count.items():\n",
        "  print(doc.vocab[k].text, \"|\", v)\n",
        "\n",
        "\n"
      ],
      "metadata": {
        "colab": {
          "base_uri": "https://localhost:8080/"
        },
        "id": "2O9jeTwAHhx-",
        "outputId": "c9234571-31e4-4a60-867a-b2d880ad54ca"
      },
      "execution_count": 36,
      "outputs": [
        {
          "output_type": "stream",
          "name": "stdout",
          "text": [
            "Inflation | NOUN\n",
            "climb | NOUN\n",
            "consumers | NOUN\n",
            "brink | NOUN\n",
            "expansion | NOUN\n",
            "consumer | NOUN\n",
            "price | NOUN\n",
            "index | NOUN\n",
            "measure | NOUN\n",
            "prices | NOUN\n",
            "goods | NOUN\n",
            "services | NOUN\n",
            " 8.3 | NUM\n",
            " % | NOUN\n",
            "year | NOUN\n",
            "estimate | NOUN\n",
            " 8.1 | NUM\n",
            " % | NOUN\n",
            "gain | NOUN\n",
            "ease | NOUN\n",
            "peak | NOUN\n",
            "level | NOUN\n",
            "summer | NOUN\n",
            " 1982 | NUM\n",
            " food | NOUN\n",
            "energy | NOUN\n",
            "prices | NOUN\n",
            "core | NOUN\n",
            " 6.2 | NUM\n",
            " % | NOUN\n",
            "expectations | NOUN\n",
            " 6 | NUM\n",
            " % | NOUN\n",
            "gain | NOUN\n",
            "hopes | NOUN\n",
            "inflation | NOUN\n",
            "month | NOUN\n",
            "month | NOUN\n",
            "gains | NOUN\n",
            "expectations | NOUN\n",
            " 0.3 | NUM\n",
            " % | NOUN\n",
            "headline | NOUN\n",
            " 0.2 | NUM\n",
            " % | NOUN\n",
            "estimate | NOUN\n",
            " 0.6 | NUM\n",
            " % | NOUN\n",
            "increase | NOUN\n",
            "core | NOUN\n",
            "outlook | NOUN\n",
            " 0.4 | NUM\n",
            " % | NOUN\n",
            "gain | NOUN\n",
            "price | NOUN\n",
            "gains | NOUN\n",
            "workers | NOUN\n",
            "ground | NOUN\n",
            "wages | NOUN\n",
            "inflation | NOUN\n",
            " 0.1 | NUM\n",
            " % | NOUN\n",
            "month | NOUN\n",
            "increase | NOUN\n",
            " 0.3 | NUM\n",
            " % | NOUN\n",
            "earnings | NOUN\n",
            "year | NOUN\n",
            "earnings | NOUN\n",
            " 2.6 | NUM\n",
            " % | NOUN\n",
            "earnings | NOUN\n",
            " 5.5 | NUM\n",
            " % | NOUN\n",
            "Inflation | NOUN\n",
            "threat | NOUN\n",
            "recovery | NOUN\n",
            "pandemic | NOUN\n",
            "economy | NOUN\n",
            " 2021 | NUM\n",
            " stage | NOUN\n",
            "year | NOUN\n",
            "growth | NOUN\n",
            "level | NOUN\n",
            " 1984 | NUM\n",
            " prices | NOUN\n",
            "pump | NOUN\n",
            "grocery | NOUN\n",
            "stores | NOUN\n",
            " one | NUM\n",
            " problem | NOUN\n",
            "inflation | NOUN\n",
            " two | NUM\n",
            " areas | NOUN\n",
            "housing | NOUN\n",
            "auto | NOUN\n",
            "sales | NOUN\n",
            "host | NOUN\n",
            "areas | NOUN\n",
            "officials | NOUN\n",
            "problem | NOUN\n",
            " two | NUM\n",
            " interest | NOUN\n",
            "rate | NOUN\n",
            "hikes | NOUN\n",
            "year | NOUN\n",
            "pledges | NOUN\n",
            "inflation | NOUN\n",
            "bank | NOUN\n",
            " 2 | NUM\n",
            " % | NOUN\n",
            "goal | NOUN\n",
            "data | NOUN\n",
            "job | NOUN\n",
            "\n",
            "NOUN | 95\n",
            "VERB | 27\n",
            "ADV | 15\n",
            "ADP | 39\n",
            "PROPN | 16\n",
            "PUNCT | 31\n",
            "DET | 34\n",
            "PRON | 4\n",
            "AUX | 13\n",
            "CCONJ | 10\n",
            "ADJ | 23\n",
            "SPACE | 7\n",
            "NUM | 19\n",
            "PART | 4\n",
            "SCONJ | 8\n"
          ]
        }
      ]
    }
  ]
}